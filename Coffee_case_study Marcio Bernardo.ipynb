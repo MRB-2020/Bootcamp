{
 "cells": [
  {
   "cell_type": "markdown",
   "metadata": {
    "colab_type": "text",
    "id": "Jm0w3zN4DuVK"
   },
   "source": [
    "# **Springboard Decision Tree Specialty Coffee Case Study - Tier 3**\n",
    "\n",
    "\n"
   ]
  },
  {
   "cell_type": "markdown",
   "metadata": {
    "colab_type": "text",
    "id": "BhqpAY7GDuVN"
   },
   "source": [
    "# The Scenario\n",
    "\n",
    "Imagine you've just finished the Springboard Data Science Career Track course, and have been hired by a rising popular specialty coffee company - RR Diner Coffee - as a data scientist. Congratulations!\n",
    "\n",
    "RR Diner Coffee sells two types of thing:\n",
    "- specialty coffee beans, in bulk (by the kilogram only) \n",
    "- coffee equipment and merchandise (grinders, brewing equipment, mugs, books, t-shirts).\n",
    "\n",
    "RR Diner Coffee has three stores, two in Europe and one in the USA. The flagshap store is in the USA, and everything is quality assessed there, before being shipped out. Customers further away from the USA flagship store have higher shipping charges. \n",
    "\n",
    "You've been taken on at RR Diner Coffee because the company are turning towards using data science and machine learning to systematically make decisions about which coffee farmers they should strike deals with. \n",
    "\n",
    "RR Diner Coffee typically buys coffee from farmers, processes it on site, brings it back to the USA, roasts it, packages it, markets it, and ships it (only in bulk, and after quality assurance) to customers internationally. These customers all own coffee shops in major cities like New York, Paris, London, Hong Kong, Tokyo, and Berlin. \n",
    "\n",
    "Now, RR Diner Coffee has a decision about whether to strike a deal with a legendary coffee farm (known as the **Hidden Farm**) in rural China: there are rumours their coffee tastes of lychee and dark chocolate, while also being as sweet as apple juice. \n",
    "\n",
    "It's a risky decision, as the deal will be expensive, and the coffee might not be bought by customers. The stakes are high: times are tough, stocks are low, farmers are reverting to old deals with the larger enterprises and the publicity of selling *Hidden Farm* coffee could save the RR Diner Coffee business. \n",
    "\n",
    "Your first job, then, is ***to build a decision tree to predict how many units of the Hidden Farm Chinese coffee will be purchased by RR Diner Coffee's most loyal customers.*** \n",
    "\n",
    "To this end, you and your team have conducted a survey of 710 of the most loyal RR Diner Coffee customers, collecting data on the customers':\n",
    "- age\n",
    "- gender \n",
    "- salary \n",
    "- whether they have bought at least one RR Diner Coffee product online\n",
    "- their distance from the flagship store in the USA (standardized to a number between 0 and 11) \n",
    "- how much they spent on RR Diner Coffee products on the week of the survey \n",
    "- how much they spent on RR Diner Coffee products in the month preeding the survey\n",
    "- the number of RR Diner coffee bean shipments each customer has ordered over the preceding year. \n",
    "\n",
    "You also asked each customer participating in the survey whether they would buy the Hidden Farm coffee, and some (but not all) of the customers gave responses to that question. \n",
    "\n",
    "You sit back and think: if more than 70% of the interviewed customers are likely to buy the Hidden Farm coffee, you will strike the deal with the local Hidden Farm farmers and sell the coffee. Otherwise, you won't strike the deal and the Hidden Farm coffee will remain in legends only. There's some doubt in your mind about whether 70% is a reasonable threshold, but it'll do for the moment. \n",
    "\n",
    "To solve the problem, then, you will build a decision tree to implement a classification solution. \n",
    "\n",
    "\n",
    "-------------------------------\n",
    "As ever, this notebook is **tiered**, meaning you can elect that tier that is right for your confidence and skill level. There are 3 tiers, with tier 1 being the easiest and tier 3 being the hardest. This is ***tier 3***, so it will be challenging. \n",
    "\n",
    "**1. Sourcing and loading** \n",
    "- Import packages\n",
    "- Load data\n",
    "- Explore the data\n",
    "\n",
    " \n",
    "**2. Cleaning, transforming and visualizing**\n",
    "- Cleaning the data\n",
    "- Train/test split\n",
    "  \n",
    "  \n",
    "**3. Modelling** \n",
    "- Model 1: Entropy model - no max_depth\n",
    "- Model 2: Gini impurity model - no max_depth\n",
    "- Model 3: Entropy model - max depth 3\n",
    "- Model 4: Gini impurity model - max depth 3\n",
    "\n",
    "\n",
    "**4. Evaluating and concluding** \n",
    "- How many customers will buy Hidden Farm coffee?\n",
    "- Decision\n",
    "\n",
    "**5. Random Forest** \n",
    "- Import necessary modules\n",
    "- Model\n",
    "- Revise conclusion\n",
    "    "
   ]
  },
  {
   "cell_type": "markdown",
   "metadata": {
    "colab_type": "text",
    "id": "nciXGXtCDuVO"
   },
   "source": [
    "# 0. Overview\n",
    "\n",
    "This notebook uses decision trees to determine whether the factors of salary, gender, age, how much money the customer spent last week and during the preceding month on RR Diner Coffee products, how many kilogram coffee bags the customer bought over the last year, whether they have bought at least one RR Diner Coffee product online, and their distance from the flagship store in the USA, could predict whether customers would purchase the Hidden Farm coffee if a deal with its farmers were struck. "
   ]
  },
  {
   "cell_type": "markdown",
   "metadata": {
    "colab_type": "text",
    "id": "5fSgD2h9DuVP"
   },
   "source": [
    "# 1. Sourcing and loading\n",
    "## 1a. Import Packages"
   ]
  },
  {
   "cell_type": "code",
   "execution_count": 1,
   "metadata": {
    "colab": {},
    "colab_type": "code",
    "id": "CfGkTcLvDuVQ"
   },
   "outputs": [],
   "source": [
    "import pandas as pd\n",
    "import numpy as np\n",
    "from sklearn import tree, metrics\n",
    "from sklearn.model_selection import train_test_split\n",
    "import seaborn as sns\n",
    "import matplotlib.pyplot as plt\n",
    "from io import StringIO  \n",
    "from IPython.display import Image  \n",
    "import pydotplus"
   ]
  },
  {
   "cell_type": "markdown",
   "metadata": {
    "colab_type": "text",
    "id": "ZLgxyhNrDuVT"
   },
   "source": [
    "## 1b. Load data "
   ]
  },
  {
   "cell_type": "code",
   "execution_count": 2,
   "metadata": {},
   "outputs": [
    {
     "data": {
      "text/plain": [
       "'/Users/marciobernardo/Springboard/Python/Projects/Decision_Tree_Case_Study'"
      ]
     },
     "execution_count": 2,
     "metadata": {},
     "output_type": "execute_result"
    }
   ],
   "source": [
    "pwd"
   ]
  },
  {
   "cell_type": "code",
   "execution_count": 3,
   "metadata": {
    "colab": {},
    "colab_type": "code",
    "id": "chW2ozlnDuVU"
   },
   "outputs": [],
   "source": [
    "# Read in the data to a variable called coffeeData\n",
    "data_path = '/Users/marciobernardo/Springboard/Python/Projects/Decision_Tree_Case_Study/data/RRDinerCoffeeData.csv'\n",
    "coffeeData = pd.read_csv(data_path)"
   ]
  },
  {
   "cell_type": "markdown",
   "metadata": {
    "colab_type": "text",
    "id": "qnMVYf2NDuVW"
   },
   "source": [
    "## 1c. Explore the data"
   ]
  },
  {
   "cell_type": "markdown",
   "metadata": {
    "colab_type": "text",
    "id": "U5Qm4obyDuVX"
   },
   "source": [
    "As we've seen, exploration entails doing things like checking out the **initial appearance** of the data with head(), the **dimensions** of our data with .shape, the **data types** of the variables with .info(), the **number of non-null values**, how much **memory** is being used to store the data, and finally the major summary statistcs capturing **central tendancy, dispersion and the null-excluding shape of the dataset's distribution**. \n",
    "\n",
    "How much of this can you do yourself by this point in the course? Have a real go. "
   ]
  },
  {
   "cell_type": "code",
   "execution_count": 4,
   "metadata": {
    "colab": {},
    "colab_type": "code",
    "id": "cHEKFT4SDuVY"
   },
   "outputs": [
    {
     "data": {
      "text/html": [
       "<div>\n",
       "<style scoped>\n",
       "    .dataframe tbody tr th:only-of-type {\n",
       "        vertical-align: middle;\n",
       "    }\n",
       "\n",
       "    .dataframe tbody tr th {\n",
       "        vertical-align: top;\n",
       "    }\n",
       "\n",
       "    .dataframe thead th {\n",
       "        text-align: right;\n",
       "    }\n",
       "</style>\n",
       "<table border=\"1\" class=\"dataframe\">\n",
       "  <thead>\n",
       "    <tr style=\"text-align: right;\">\n",
       "      <th></th>\n",
       "      <th>Age</th>\n",
       "      <th>Gender</th>\n",
       "      <th>num_coffeeBags_per_year</th>\n",
       "      <th>spent_week</th>\n",
       "      <th>spent_month</th>\n",
       "      <th>SlrAY</th>\n",
       "      <th>Distance</th>\n",
       "      <th>Online</th>\n",
       "      <th>Decision</th>\n",
       "    </tr>\n",
       "  </thead>\n",
       "  <tbody>\n",
       "    <tr>\n",
       "      <th>0</th>\n",
       "      <td>36</td>\n",
       "      <td>Female</td>\n",
       "      <td>0</td>\n",
       "      <td>24</td>\n",
       "      <td>73</td>\n",
       "      <td>42789</td>\n",
       "      <td>0.003168</td>\n",
       "      <td>0</td>\n",
       "      <td>1.0</td>\n",
       "    </tr>\n",
       "    <tr>\n",
       "      <th>1</th>\n",
       "      <td>24</td>\n",
       "      <td>Male</td>\n",
       "      <td>0</td>\n",
       "      <td>44</td>\n",
       "      <td>164</td>\n",
       "      <td>74035</td>\n",
       "      <td>0.520906</td>\n",
       "      <td>0</td>\n",
       "      <td>NaN</td>\n",
       "    </tr>\n",
       "    <tr>\n",
       "      <th>2</th>\n",
       "      <td>24</td>\n",
       "      <td>Male</td>\n",
       "      <td>0</td>\n",
       "      <td>39</td>\n",
       "      <td>119</td>\n",
       "      <td>30563</td>\n",
       "      <td>0.916005</td>\n",
       "      <td>1</td>\n",
       "      <td>1.0</td>\n",
       "    </tr>\n",
       "    <tr>\n",
       "      <th>3</th>\n",
       "      <td>20</td>\n",
       "      <td>Male</td>\n",
       "      <td>0</td>\n",
       "      <td>30</td>\n",
       "      <td>107</td>\n",
       "      <td>13166</td>\n",
       "      <td>0.932098</td>\n",
       "      <td>1</td>\n",
       "      <td>NaN</td>\n",
       "    </tr>\n",
       "    <tr>\n",
       "      <th>4</th>\n",
       "      <td>24</td>\n",
       "      <td>Female</td>\n",
       "      <td>0</td>\n",
       "      <td>20</td>\n",
       "      <td>36</td>\n",
       "      <td>14244</td>\n",
       "      <td>0.965881</td>\n",
       "      <td>0</td>\n",
       "      <td>1.0</td>\n",
       "    </tr>\n",
       "  </tbody>\n",
       "</table>\n",
       "</div>"
      ],
      "text/plain": [
       "   Age  Gender  num_coffeeBags_per_year  spent_week  spent_month  SlrAY  \\\n",
       "0   36  Female                        0          24           73  42789   \n",
       "1   24    Male                        0          44          164  74035   \n",
       "2   24    Male                        0          39          119  30563   \n",
       "3   20    Male                        0          30          107  13166   \n",
       "4   24  Female                        0          20           36  14244   \n",
       "\n",
       "   Distance  Online  Decision  \n",
       "0  0.003168       0       1.0  \n",
       "1  0.520906       0       NaN  \n",
       "2  0.916005       1       1.0  \n",
       "3  0.932098       1       NaN  \n",
       "4  0.965881       0       1.0  "
      ]
     },
     "execution_count": 4,
     "metadata": {},
     "output_type": "execute_result"
    }
   ],
   "source": [
    "# Call head() on your data \n",
    "coffeeData.head()"
   ]
  },
  {
   "cell_type": "code",
   "execution_count": 5,
   "metadata": {
    "colab": {},
    "colab_type": "code",
    "id": "rDshwA7tDuVa"
   },
   "outputs": [
    {
     "data": {
      "text/plain": [
       "(702, 9)"
      ]
     },
     "execution_count": 5,
     "metadata": {},
     "output_type": "execute_result"
    }
   ],
   "source": [
    "# Call .shape on your data\n",
    "coffeeData.shape"
   ]
  },
  {
   "cell_type": "code",
   "execution_count": 6,
   "metadata": {
    "colab": {},
    "colab_type": "code",
    "id": "iCxo0tomDuVc"
   },
   "outputs": [
    {
     "name": "stdout",
     "output_type": "stream",
     "text": [
      "<class 'pandas.core.frame.DataFrame'>\n",
      "RangeIndex: 702 entries, 0 to 701\n",
      "Data columns (total 9 columns):\n",
      " #   Column                   Non-Null Count  Dtype  \n",
      "---  ------                   --------------  -----  \n",
      " 0   Age                      702 non-null    int64  \n",
      " 1   Gender                   702 non-null    object \n",
      " 2   num_coffeeBags_per_year  702 non-null    int64  \n",
      " 3   spent_week               702 non-null    int64  \n",
      " 4   spent_month              702 non-null    int64  \n",
      " 5   SlrAY                    702 non-null    int64  \n",
      " 6   Distance                 702 non-null    float64\n",
      " 7   Online                   702 non-null    int64  \n",
      " 8   Decision                 474 non-null    float64\n",
      "dtypes: float64(2), int64(6), object(1)\n",
      "memory usage: 49.5+ KB\n"
     ]
    }
   ],
   "source": [
    "# Call info() on your data\n",
    "coffeeData.info()"
   ]
  },
  {
   "cell_type": "code",
   "execution_count": 7,
   "metadata": {
    "colab": {},
    "colab_type": "code",
    "id": "t0ZdmaUeDuVe"
   },
   "outputs": [
    {
     "data": {
      "text/html": [
       "<div>\n",
       "<style scoped>\n",
       "    .dataframe tbody tr th:only-of-type {\n",
       "        vertical-align: middle;\n",
       "    }\n",
       "\n",
       "    .dataframe tbody tr th {\n",
       "        vertical-align: top;\n",
       "    }\n",
       "\n",
       "    .dataframe thead th {\n",
       "        text-align: right;\n",
       "    }\n",
       "</style>\n",
       "<table border=\"1\" class=\"dataframe\">\n",
       "  <thead>\n",
       "    <tr style=\"text-align: right;\">\n",
       "      <th></th>\n",
       "      <th>Age</th>\n",
       "      <th>num_coffeeBags_per_year</th>\n",
       "      <th>spent_week</th>\n",
       "      <th>spent_month</th>\n",
       "      <th>SlrAY</th>\n",
       "      <th>Distance</th>\n",
       "      <th>Online</th>\n",
       "      <th>Decision</th>\n",
       "    </tr>\n",
       "  </thead>\n",
       "  <tbody>\n",
       "    <tr>\n",
       "      <th>count</th>\n",
       "      <td>702.000000</td>\n",
       "      <td>702.000000</td>\n",
       "      <td>702.000000</td>\n",
       "      <td>702.000000</td>\n",
       "      <td>702.000000</td>\n",
       "      <td>702.000000</td>\n",
       "      <td>702.000000</td>\n",
       "      <td>474.000000</td>\n",
       "    </tr>\n",
       "    <tr>\n",
       "      <th>mean</th>\n",
       "      <td>34.243590</td>\n",
       "      <td>2.710826</td>\n",
       "      <td>32.853276</td>\n",
       "      <td>107.923077</td>\n",
       "      <td>43819.843305</td>\n",
       "      <td>4.559186</td>\n",
       "      <td>0.531339</td>\n",
       "      <td>0.639241</td>\n",
       "    </tr>\n",
       "    <tr>\n",
       "      <th>std</th>\n",
       "      <td>13.927945</td>\n",
       "      <td>1.593629</td>\n",
       "      <td>15.731878</td>\n",
       "      <td>55.348485</td>\n",
       "      <td>26192.626943</td>\n",
       "      <td>3.116275</td>\n",
       "      <td>0.499373</td>\n",
       "      <td>0.480728</td>\n",
       "    </tr>\n",
       "    <tr>\n",
       "      <th>min</th>\n",
       "      <td>16.000000</td>\n",
       "      <td>0.000000</td>\n",
       "      <td>0.000000</td>\n",
       "      <td>0.000000</td>\n",
       "      <td>1617.000000</td>\n",
       "      <td>0.003168</td>\n",
       "      <td>0.000000</td>\n",
       "      <td>0.000000</td>\n",
       "    </tr>\n",
       "    <tr>\n",
       "      <th>25%</th>\n",
       "      <td>23.000000</td>\n",
       "      <td>1.000000</td>\n",
       "      <td>24.250000</td>\n",
       "      <td>62.000000</td>\n",
       "      <td>22812.250000</td>\n",
       "      <td>1.877812</td>\n",
       "      <td>0.000000</td>\n",
       "      <td>0.000000</td>\n",
       "    </tr>\n",
       "    <tr>\n",
       "      <th>50%</th>\n",
       "      <td>28.000000</td>\n",
       "      <td>3.000000</td>\n",
       "      <td>36.000000</td>\n",
       "      <td>113.500000</td>\n",
       "      <td>41975.000000</td>\n",
       "      <td>4.196167</td>\n",
       "      <td>1.000000</td>\n",
       "      <td>1.000000</td>\n",
       "    </tr>\n",
       "    <tr>\n",
       "      <th>75%</th>\n",
       "      <td>46.000000</td>\n",
       "      <td>4.000000</td>\n",
       "      <td>43.000000</td>\n",
       "      <td>150.750000</td>\n",
       "      <td>60223.000000</td>\n",
       "      <td>6.712022</td>\n",
       "      <td>1.000000</td>\n",
       "      <td>1.000000</td>\n",
       "    </tr>\n",
       "    <tr>\n",
       "      <th>max</th>\n",
       "      <td>90.000000</td>\n",
       "      <td>5.000000</td>\n",
       "      <td>62.000000</td>\n",
       "      <td>210.000000</td>\n",
       "      <td>182058.000000</td>\n",
       "      <td>10.986203</td>\n",
       "      <td>1.000000</td>\n",
       "      <td>1.000000</td>\n",
       "    </tr>\n",
       "  </tbody>\n",
       "</table>\n",
       "</div>"
      ],
      "text/plain": [
       "              Age  num_coffeeBags_per_year  spent_week  spent_month  \\\n",
       "count  702.000000               702.000000  702.000000   702.000000   \n",
       "mean    34.243590                 2.710826   32.853276   107.923077   \n",
       "std     13.927945                 1.593629   15.731878    55.348485   \n",
       "min     16.000000                 0.000000    0.000000     0.000000   \n",
       "25%     23.000000                 1.000000   24.250000    62.000000   \n",
       "50%     28.000000                 3.000000   36.000000   113.500000   \n",
       "75%     46.000000                 4.000000   43.000000   150.750000   \n",
       "max     90.000000                 5.000000   62.000000   210.000000   \n",
       "\n",
       "               SlrAY    Distance      Online    Decision  \n",
       "count     702.000000  702.000000  702.000000  474.000000  \n",
       "mean    43819.843305    4.559186    0.531339    0.639241  \n",
       "std     26192.626943    3.116275    0.499373    0.480728  \n",
       "min      1617.000000    0.003168    0.000000    0.000000  \n",
       "25%     22812.250000    1.877812    0.000000    0.000000  \n",
       "50%     41975.000000    4.196167    1.000000    1.000000  \n",
       "75%     60223.000000    6.712022    1.000000    1.000000  \n",
       "max    182058.000000   10.986203    1.000000    1.000000  "
      ]
     },
     "execution_count": 7,
     "metadata": {},
     "output_type": "execute_result"
    }
   ],
   "source": [
    "# Call describe() on your data to get the relevant summary statistics for your data \n",
    "coffeeData.describe()"
   ]
  },
  {
   "cell_type": "markdown",
   "metadata": {
    "colab_type": "text",
    "id": "INkujJ6QDuVg"
   },
   "source": [
    "# 2. Cleaning, transforming and visualizing\n",
    "## 2a. Cleaning the data"
   ]
  },
  {
   "cell_type": "markdown",
   "metadata": {
    "colab_type": "text",
    "id": "wIMW_rbdDuVh"
   },
   "source": [
    "Some datasets don't require any cleaning, but almost all do. This one does. We need to replace '1.0' and '0.0' in the 'Decision' column by 'YES' and 'NO' respectively, clean up the values of the 'gender' column, and change the column names to words which maximize meaning and clarity. "
   ]
  },
  {
   "cell_type": "markdown",
   "metadata": {
    "colab_type": "text",
    "id": "EEXdBALeDuVi"
   },
   "source": [
    "First, let's change the name of `spent_week`, `spent_month`, and `SlrAY` to `spent_last_week` and `spent_last_month` and `salary` respectively."
   ]
  },
  {
   "cell_type": "code",
   "execution_count": 8,
   "metadata": {
    "colab": {},
    "colab_type": "code",
    "id": "rhxy23pbDuVi"
   },
   "outputs": [
    {
     "data": {
      "text/plain": [
       "Index(['Age', 'Gender', 'num_coffeeBags_per_year', 'spent_week', 'spent_month',\n",
       "       'SlrAY', 'Distance', 'Online', 'Decision'],\n",
       "      dtype='object')"
      ]
     },
     "execution_count": 8,
     "metadata": {},
     "output_type": "execute_result"
    }
   ],
   "source": [
    "# Check out the names of our data's columns \n",
    "coffeeData.columns"
   ]
  },
  {
   "cell_type": "code",
   "execution_count": 9,
   "metadata": {
    "colab": {},
    "colab_type": "code",
    "id": "C_D1m6ryDuVk"
   },
   "outputs": [],
   "source": [
    "# Make the relevant name changes to spent_week and spent_per_week.\n",
    "coffeeData.rename(columns = {'spent_week' : 'spent_last_week', \n",
    "                             'spent_month' : 'spent_last_month', \n",
    "                             'SlrAY' : 'salary'}, inplace = True)"
   ]
  },
  {
   "cell_type": "code",
   "execution_count": 10,
   "metadata": {
    "colab": {},
    "colab_type": "code",
    "id": "3cmdaeg8DuVm"
   },
   "outputs": [
    {
     "data": {
      "text/plain": [
       "Index(['Age', 'Gender', 'num_coffeeBags_per_year', 'spent_last_week',\n",
       "       'spent_last_month', 'salary', 'Distance', 'Online', 'Decision'],\n",
       "      dtype='object')"
      ]
     },
     "execution_count": 10,
     "metadata": {},
     "output_type": "execute_result"
    }
   ],
   "source": [
    "# Check out the column names\n",
    "coffeeData.columns"
   ]
  },
  {
   "cell_type": "code",
   "execution_count": 11,
   "metadata": {
    "colab": {},
    "colab_type": "code",
    "id": "XJK-wbfODuVp"
   },
   "outputs": [
    {
     "data": {
      "text/plain": [
       "0      Female\n",
       "1        Male\n",
       "2        Male\n",
       "3        Male\n",
       "4      Female\n",
       "        ...  \n",
       "697    Female\n",
       "698      Male\n",
       "699      Male\n",
       "700    Female\n",
       "701      Male\n",
       "Name: Gender, Length: 702, dtype: object"
      ]
     },
     "execution_count": 11,
     "metadata": {},
     "output_type": "execute_result"
    }
   ],
   "source": [
    "# Let's have a closer look at the gender column. Its values need cleaning.\n",
    "coffeeData.Gender"
   ]
  },
  {
   "cell_type": "code",
   "execution_count": 12,
   "metadata": {
    "colab": {},
    "colab_type": "code",
    "id": "88bITtgzDuVr"
   },
   "outputs": [
    {
     "data": {
      "text/plain": [
       "array(['Female', 'Male', 'female', 'F', 'f ', 'FEMALE', 'MALE', 'male',\n",
       "       'M'], dtype=object)"
      ]
     },
     "execution_count": 12,
     "metadata": {},
     "output_type": "execute_result"
    }
   ],
   "source": [
    "# See the gender column's unique values \n",
    "coffeeData.Gender.unique()"
   ]
  },
  {
   "cell_type": "markdown",
   "metadata": {
    "colab_type": "text",
    "id": "-eGzgGR1DuVt"
   },
   "source": [
    "We can see a bunch of inconsistency here.\n",
    "\n",
    "Use replace() to make the values of the `gender` column just `Female` and `Male`."
   ]
  },
  {
   "cell_type": "code",
   "execution_count": 13,
   "metadata": {
    "colab": {},
    "colab_type": "code",
    "id": "h0FOX3I3DuVu"
   },
   "outputs": [],
   "source": [
    "# Replace all alternate values for the Female entry with 'Female'\n",
    "coffeeData.Gender.replace(dict.fromkeys(['female','F','f ','FEMALE'], 'Female'), inplace = True )"
   ]
  },
  {
   "cell_type": "code",
   "execution_count": 14,
   "metadata": {
    "colab": {},
    "colab_type": "code",
    "id": "5TThfHgCDuVw"
   },
   "outputs": [
    {
     "data": {
      "text/plain": [
       "array(['Female', 'Male', 'MALE', 'male', 'M'], dtype=object)"
      ]
     },
     "execution_count": 14,
     "metadata": {},
     "output_type": "execute_result"
    }
   ],
   "source": [
    "# Check out the unique values for the 'gender' column\n",
    "coffeeData.Gender.unique()"
   ]
  },
  {
   "cell_type": "code",
   "execution_count": 15,
   "metadata": {
    "colab": {},
    "colab_type": "code",
    "id": "4wRKBvSHDuVy"
   },
   "outputs": [],
   "source": [
    "# Replace all alternate values with \"Male\"\n",
    "coffeeData.Gender.replace(dict.fromkeys(['MALE', 'male','M'], 'Male'), inplace = True)"
   ]
  },
  {
   "cell_type": "code",
   "execution_count": 16,
   "metadata": {
    "colab": {},
    "colab_type": "code",
    "id": "nhBUkXIADuV0"
   },
   "outputs": [
    {
     "data": {
      "text/plain": [
       "array(['Female', 'Male'], dtype=object)"
      ]
     },
     "execution_count": 16,
     "metadata": {},
     "output_type": "execute_result"
    }
   ],
   "source": [
    "# Let's check the unique values of the column \"gender\"\n",
    "coffeeData.Gender.unique()"
   ]
  },
  {
   "cell_type": "code",
   "execution_count": 17,
   "metadata": {
    "colab": {},
    "colab_type": "code",
    "id": "AdhhO4WHDuV2"
   },
   "outputs": [
    {
     "data": {
      "text/plain": [
       "array([ 1., nan,  0.])"
      ]
     },
     "execution_count": 17,
     "metadata": {},
     "output_type": "execute_result"
    }
   ],
   "source": [
    "# Check out the unique values of the column 'Decision'\n",
    "coffeeData.Decision.unique()"
   ]
  },
  {
   "cell_type": "markdown",
   "metadata": {
    "colab_type": "text",
    "id": "m1JuiY-iDuV5"
   },
   "source": [
    "We now want to replace `1.0` and `0.0` in the `Decision` column by `YES` and `NO` respectively."
   ]
  },
  {
   "cell_type": "code",
   "execution_count": 18,
   "metadata": {
    "colab": {},
    "colab_type": "code",
    "id": "QsK6gYPgDuV5"
   },
   "outputs": [],
   "source": [
    "# Replace 1.0 and 0.0 by 'Yes' and 'No'\n",
    "coffeeData.Decision = coffeeData.Decision.map({1.0:'Yes',0.0: 'No'})\n"
   ]
  },
  {
   "cell_type": "code",
   "execution_count": 19,
   "metadata": {
    "colab": {},
    "colab_type": "code",
    "id": "YtHnTZuWDuV9"
   },
   "outputs": [
    {
     "data": {
      "text/plain": [
       "array(['Yes', nan, 'No'], dtype=object)"
      ]
     },
     "execution_count": 19,
     "metadata": {},
     "output_type": "execute_result"
    }
   ],
   "source": [
    "# Check that our replacing those values with 'YES' and 'NO' worked, with unique()\n",
    "coffeeData.Decision.unique()"
   ]
  },
  {
   "cell_type": "markdown",
   "metadata": {
    "colab_type": "text",
    "id": "CKCt-fBlDuWB"
   },
   "source": [
    "## 2b. Train/test split\n",
    "To execute the train/test split properly, we need to do five things: \n",
    "1. Drop all rows with a null value in the `Decision` column, and save the result as NOPrediction: a dataset that will contain all known values for the decision \n",
    "2. Visualize the data using scatter and boxplots of several variables in the y-axis and the decision on the x-axis\n",
    "3. Get the subset of coffeeData with null values in the `Decision` column, and save that subset as Prediction\n",
    "4. Divide the NOPrediction subset into X and y, and then further divide those subsets into train and test subsets for X and y respectively\n",
    "5. Create dummy variables to deal with categorical inputs"
   ]
  },
  {
   "cell_type": "markdown",
   "metadata": {
    "colab_type": "text",
    "id": "ysHdkIaQDuWB"
   },
   "source": [
    "### 1. Drop all null values within the `Decision` column, and save the result as NoPrediction"
   ]
  },
  {
   "cell_type": "code",
   "execution_count": 20,
   "metadata": {
    "colab": {},
    "colab_type": "code",
    "id": "pvgH6SM4DuWC"
   },
   "outputs": [
    {
     "data": {
      "text/plain": [
       "count     474\n",
       "unique      2\n",
       "top       Yes\n",
       "freq      303\n",
       "Name: Decision, dtype: object"
      ]
     },
     "execution_count": 20,
     "metadata": {},
     "output_type": "execute_result"
    }
   ],
   "source": [
    "# NoPrediction will contain all known values for the decision\n",
    "# Call dropna() on coffeeData, and store the result in a variable NOPrediction \n",
    "# Call describe() on the Decision column of NoPrediction after calling dropna() on coffeeData\n",
    "NoPrediction = coffeeData.dropna()\n",
    "NoPrediction.Decision.describe()"
   ]
  },
  {
   "cell_type": "markdown",
   "metadata": {
    "colab_type": "text",
    "id": "XfTK5Ec6DuWE"
   },
   "source": [
    "### 2. Visualize the data using scatter and boxplots of several variables in the y-axis and the decision on the x-axis"
   ]
  },
  {
   "cell_type": "code",
   "execution_count": 21,
   "metadata": {
    "colab": {},
    "colab_type": "code",
    "id": "5O-M-t3tDuWE"
   },
   "outputs": [
    {
     "data": {
      "image/png": "[encoded data removed]",
      "text/plain": [
       "<Figure size 500x500 with 1 Axes>"
      ]
     },
     "metadata": {},
     "output_type": "display_data"
    }
   ],
   "source": [
    "# Exploring our new NOPrediction dataset\n",
    "# Make a boxplot on NOPrediction where the x axis is Decision, and the y axis is spent_last_week\n",
    "ax = sns.catplot(data = NoPrediction, x = 'Decision', y = 'spent_last_week', kind = 'box') \n",
    "ax.set( xlabel = \"Decision\", \n",
    "       ylabel = \"Spent last week (US$)\", \n",
    "       title = 'Buy Decision per Weekly Spent')\n",
    "plt.plot();"
   ]
  },
  {
   "cell_type": "markdown",
   "metadata": {
    "colab_type": "text",
    "id": "mVqg_HI7DuWG"
   },
   "source": [
    "Can you admissibly conclude anything from this boxplot? Write your answer here:\n",
    "\n",
    "The box plot shows there is a positive relationship between decision to buy new coffee and how much the custome spent last week."
   ]
  },
  {
   "cell_type": "code",
   "execution_count": 22,
   "metadata": {
    "colab": {},
    "colab_type": "code",
    "id": "q-AyXWSxDuWH"
   },
   "outputs": [
    {
     "data": {
      "image/png": "[encoded data removed]",
      "text/plain": [
       "<Figure size 572.125x500 with 1 Axes>"
      ]
     },
     "metadata": {},
     "output_type": "display_data"
    }
   ],
   "source": [
    "# Make a scatterplot on NOPrediction, where x is distance, y is spent_last_month and hue is Decision \n",
    "ax = sns.relplot(data = NoPrediction, x ='Distance', y = 'spent_last_month', kind = 'scatter', hue = 'Decision')\n",
    "ax.set( xlabel = \"Distance\", \n",
    "       ylabel = \"Spent last week (US$)\", \n",
    "       title = 'Distance per Weekly Spent \\n color coded by decision')\n",
    "plt.plot();"
   ]
  },
  {
   "cell_type": "markdown",
   "metadata": {
    "colab_type": "text",
    "id": "I_nr36yZDuWJ"
   },
   "source": [
    "Can you admissibly conclude anything from this scatterplot? Remember: we are trying to build a tree to classify unseen examples. Write your answer here: \n",
    "\n",
    "Weekly spending habits is positice correlated with decision to buy; however distance is negative correlated with decision not to buy. These two features seems to be a good decision boundary for buying decision. "
   ]
  },
  {
   "cell_type": "markdown",
   "metadata": {
    "colab_type": "text",
    "id": "oQBPyvehDuWK"
   },
   "source": [
    "### 3. Get the subset of coffeeData with null values in the Decision column, and save that subset as Prediction"
   ]
  },
  {
   "cell_type": "code",
   "execution_count": 23,
   "metadata": {
    "colab": {},
    "colab_type": "code",
    "id": "vcCednqUDuWL"
   },
   "outputs": [],
   "source": [
    "# Get just those rows whose value for the Decision column is null  \n",
    "Prediction = coffeeData[coffeeData.Decision.isnull()] \n",
    "#_ _ _ "
   ]
  },
  {
   "cell_type": "code",
   "execution_count": 24,
   "metadata": {
    "colab": {},
    "colab_type": "code",
    "id": "aenlmp9NDuWM"
   },
   "outputs": [
    {
     "data": {
      "text/html": [
       "<div>\n",
       "<style scoped>\n",
       "    .dataframe tbody tr th:only-of-type {\n",
       "        vertical-align: middle;\n",
       "    }\n",
       "\n",
       "    .dataframe tbody tr th {\n",
       "        vertical-align: top;\n",
       "    }\n",
       "\n",
       "    .dataframe thead th {\n",
       "        text-align: right;\n",
       "    }\n",
       "</style>\n",
       "<table border=\"1\" class=\"dataframe\">\n",
       "  <thead>\n",
       "    <tr style=\"text-align: right;\">\n",
       "      <th></th>\n",
       "      <th>Age</th>\n",
       "      <th>num_coffeeBags_per_year</th>\n",
       "      <th>spent_last_week</th>\n",
       "      <th>spent_last_month</th>\n",
       "      <th>salary</th>\n",
       "      <th>Distance</th>\n",
       "      <th>Online</th>\n",
       "    </tr>\n",
       "  </thead>\n",
       "  <tbody>\n",
       "    <tr>\n",
       "      <th>count</th>\n",
       "      <td>228.000000</td>\n",
       "      <td>228.000000</td>\n",
       "      <td>228.000000</td>\n",
       "      <td>228.000000</td>\n",
       "      <td>228.000000</td>\n",
       "      <td>228.000000</td>\n",
       "      <td>228.000000</td>\n",
       "    </tr>\n",
       "    <tr>\n",
       "      <th>mean</th>\n",
       "      <td>31.802632</td>\n",
       "      <td>2.960526</td>\n",
       "      <td>33.394737</td>\n",
       "      <td>110.407895</td>\n",
       "      <td>41923.741228</td>\n",
       "      <td>3.428836</td>\n",
       "      <td>0.570175</td>\n",
       "    </tr>\n",
       "    <tr>\n",
       "      <th>std</th>\n",
       "      <td>14.302293</td>\n",
       "      <td>1.585514</td>\n",
       "      <td>15.697930</td>\n",
       "      <td>53.786536</td>\n",
       "      <td>27406.768360</td>\n",
       "      <td>2.153102</td>\n",
       "      <td>0.496140</td>\n",
       "    </tr>\n",
       "    <tr>\n",
       "      <th>min</th>\n",
       "      <td>16.000000</td>\n",
       "      <td>0.000000</td>\n",
       "      <td>0.000000</td>\n",
       "      <td>0.000000</td>\n",
       "      <td>1617.000000</td>\n",
       "      <td>0.010048</td>\n",
       "      <td>0.000000</td>\n",
       "    </tr>\n",
       "    <tr>\n",
       "      <th>25%</th>\n",
       "      <td>22.000000</td>\n",
       "      <td>2.000000</td>\n",
       "      <td>25.750000</td>\n",
       "      <td>65.000000</td>\n",
       "      <td>15911.500000</td>\n",
       "      <td>1.699408</td>\n",
       "      <td>0.000000</td>\n",
       "    </tr>\n",
       "    <tr>\n",
       "      <th>50%</th>\n",
       "      <td>25.000000</td>\n",
       "      <td>3.000000</td>\n",
       "      <td>37.000000</td>\n",
       "      <td>113.500000</td>\n",
       "      <td>40987.500000</td>\n",
       "      <td>3.208673</td>\n",
       "      <td>1.000000</td>\n",
       "    </tr>\n",
       "    <tr>\n",
       "      <th>75%</th>\n",
       "      <td>39.000000</td>\n",
       "      <td>4.000000</td>\n",
       "      <td>44.000000</td>\n",
       "      <td>151.250000</td>\n",
       "      <td>58537.000000</td>\n",
       "      <td>5.261184</td>\n",
       "      <td>1.000000</td>\n",
       "    </tr>\n",
       "    <tr>\n",
       "      <th>max</th>\n",
       "      <td>67.000000</td>\n",
       "      <td>5.000000</td>\n",
       "      <td>62.000000</td>\n",
       "      <td>210.000000</td>\n",
       "      <td>182058.000000</td>\n",
       "      <td>10.871566</td>\n",
       "      <td>1.000000</td>\n",
       "    </tr>\n",
       "  </tbody>\n",
       "</table>\n",
       "</div>"
      ],
      "text/plain": [
       "              Age  num_coffeeBags_per_year  spent_last_week  spent_last_month  \\\n",
       "count  228.000000               228.000000       228.000000        228.000000   \n",
       "mean    31.802632                 2.960526        33.394737        110.407895   \n",
       "std     14.302293                 1.585514        15.697930         53.786536   \n",
       "min     16.000000                 0.000000         0.000000          0.000000   \n",
       "25%     22.000000                 2.000000        25.750000         65.000000   \n",
       "50%     25.000000                 3.000000        37.000000        113.500000   \n",
       "75%     39.000000                 4.000000        44.000000        151.250000   \n",
       "max     67.000000                 5.000000        62.000000        210.000000   \n",
       "\n",
       "              salary    Distance      Online  \n",
       "count     228.000000  228.000000  228.000000  \n",
       "mean    41923.741228    3.428836    0.570175  \n",
       "std     27406.768360    2.153102    0.496140  \n",
       "min      1617.000000    0.010048    0.000000  \n",
       "25%     15911.500000    1.699408    0.000000  \n",
       "50%     40987.500000    3.208673    1.000000  \n",
       "75%     58537.000000    5.261184    1.000000  \n",
       "max    182058.000000   10.871566    1.000000  "
      ]
     },
     "execution_count": 24,
     "metadata": {},
     "output_type": "execute_result"
    }
   ],
   "source": [
    "# Call describe() on Prediction\n",
    "Prediction.describe()"
   ]
  },
  {
   "cell_type": "markdown",
   "metadata": {
    "colab_type": "text",
    "id": "zmN_BPwFDuWO"
   },
   "source": [
    "### 4. Divide the NOPrediction subset into X and y"
   ]
  },
  {
   "cell_type": "code",
   "execution_count": 25,
   "metadata": {
    "colab": {},
    "colab_type": "code",
    "id": "00WtPVYSDuWP"
   },
   "outputs": [
    {
     "data": {
      "text/plain": [
       "Index(['Age', 'Gender', 'num_coffeeBags_per_year', 'spent_last_week',\n",
       "       'spent_last_month', 'salary', 'Distance', 'Online', 'Decision'],\n",
       "      dtype='object')"
      ]
     },
     "execution_count": 25,
     "metadata": {},
     "output_type": "execute_result"
    }
   ],
   "source": [
    "# Check the names of the columns of NOPrediction\n",
    "NoPrediction.columns "
   ]
  },
  {
   "cell_type": "code",
   "execution_count": 26,
   "metadata": {
    "colab": {},
    "colab_type": "code",
    "id": "oPi2gMLfDuWQ"
   },
   "outputs": [],
   "source": [
    "# Let's do our feature selection.\n",
    "# Make a variable called 'features', and a list containing the strings of every column except \"Decision\"\n",
    "features = ['Age', 'Gender', 'num_coffeeBags_per_year', 'spent_last_week',\n",
    "       'spent_last_month', 'salary', 'Distance', 'Online']\n",
    "\n",
    "# Make an explanatory variable called X, and assign it: NoPrediction[features]\n",
    "X = NoPrediction[features] \n",
    "\n",
    "# Make a dependent variable called y, and assign it: NoPrediction.Decision\n",
    "y = NoPrediction.Decision"
   ]
  },
  {
   "cell_type": "markdown",
   "metadata": {
    "colab_type": "text",
    "id": "R-d3XOv8DuWW"
   },
   "source": [
    "### 5. Create dummy variables to deal with categorical inputs\n",
    "One-hot encoding replaces each unique value of a given column with a new column, and puts a 1 in the new column for a given row just if its initial value for the original column matches the new column. Check out [this resource](https://hackernoon.com/what-is-one-hot-encoding-why-and-when-do-you-have-to-use-it-e3c6186d008f) if you haven't seen one-hot-encoding before. \n",
    "\n",
    "**Note**: We will do this before we do our train/test split as to do it after could mean that some categories only end up in the train or test split of our data by chance and this would then lead to different shapes of data for our `X_train` and `X_test` which could/would cause downstream issues when fitting or predicting using a trained model."
   ]
  },
  {
   "cell_type": "code",
   "execution_count": 27,
   "metadata": {
    "colab": {},
    "colab_type": "code",
    "id": "xXHGDZkZDuWW"
   },
   "outputs": [
    {
     "name": "stdout",
     "output_type": "stream",
     "text": [
      "     Age  num_coffeeBags_per_year  spent_last_week  spent_last_month  salary  \\\n",
      "0     36                        0               24                73   42789   \n",
      "2     24                        0               39               119   30563   \n",
      "4     24                        0               20                36   14244   \n",
      "5     20                        0               23                28   14293   \n",
      "6     34                        0               55               202   91035   \n",
      "..   ...                      ...              ...               ...     ...   \n",
      "696   29                        5               20                74   29799   \n",
      "697   45                        5               61               201   80260   \n",
      "698   54                        5               44               116   44077   \n",
      "699   63                        5               33               117   43081   \n",
      "701   90                        5               39               170   15098   \n",
      "\n",
      "      Distance  Online  Gender_Female  Gender_Male  \n",
      "0     0.003168       0              1            0  \n",
      "2     0.916005       1              0            1  \n",
      "4     0.965881       0              1            0  \n",
      "5     1.036346       1              1            0  \n",
      "6     1.134851       0              1            0  \n",
      "..         ...     ...            ...          ...  \n",
      "696  10.455068       0              1            0  \n",
      "697  10.476341       0              1            0  \n",
      "698  10.693889       1              0            1  \n",
      "699  10.755194       1              0            1  \n",
      "701  10.891566       0              0            1  \n",
      "\n",
      "[474 rows x 9 columns]\n"
     ]
    }
   ],
   "source": [
    "# One-hot encode all features in X.\n",
    "\n",
    "enc_data = pd.get_dummies(X)\n",
    "print(enc_data)"
   ]
  },
  {
   "cell_type": "markdown",
   "metadata": {
    "colab_type": "text",
    "id": "Jdn_dHlkDuWS"
   },
   "source": [
    "### 6. Further divide those subsets into train and test subsets for X and y respectively: X_train, X_test, y_train, y_test"
   ]
  },
  {
   "cell_type": "code",
   "execution_count": 28,
   "metadata": {
    "colab": {},
    "colab_type": "code",
    "id": "RqbHQza-DuWT"
   },
   "outputs": [],
   "source": [
    "# Call train_test_split on X, y. Make the test_size = 0.25, and random_state = 246\n",
    "X_train, X_test, y_train, y_test = train_test_split(enc_data,y, test_size = 0.25, random_state = 246) "
   ]
  },
  {
   "cell_type": "markdown",
   "metadata": {
    "colab_type": "text",
    "id": "nqvyCX-6DuWb"
   },
   "source": [
    "# 3. Modelling\n",
    "It's useful to look at the scikit-learn documentation on decision trees https://scikit-learn.org/stable/modules/tree.html before launching into applying them. If you haven't seen them before, take a look at that link, in particular the section `1.10.5.` "
   ]
  },
  {
   "cell_type": "markdown",
   "metadata": {
    "colab_type": "text",
    "id": "RIm9IN5HDuWc"
   },
   "source": [
    "## Model 1: Entropy model - no max_depth\n",
    "\n",
    "We'll give you a little more guidance here, as the Python is hard to deduce, and scikitlearn takes some getting used to.\n",
    "\n",
    "Theoretically, let's remind ourselves of what's going on with a decision tree implementing an entropy model.\n",
    "\n",
    "Ross Quinlan's **ID3 Algorithm** was one of the first, and one of the most basic, to use entropy as a metric.\n",
    "\n",
    "**Entropy** is a measure of how uncertain we are about which category the data-points fall into at a given point in the tree. The **Information gain** of a specific feature with a threshold (such as 'spent_last_month <= 138.0') is the difference in entropy that exists before and after splitting on that feature; i.e., the information we gain about the categories of the data-points by splitting on that feature and that threshold. \n",
    "\n",
    "Naturally, we want to minimize entropy and maximize information gain. Quinlan's ID3 algorithm is designed to output a tree such that the features at each node, starting from the root, and going all the way down to the leaves, have maximial information gain. We want a tree whose leaves have elements that are *homogeneous*, that is, all of the same category. \n",
    "\n",
    "The first model will be the hardest. Persevere and you'll reap the rewards: you can use almost exactly the same code for the other models. "
   ]
  },
  {
   "cell_type": "code",
   "execution_count": 29,
   "metadata": {
    "colab": {},
    "colab_type": "code",
    "id": "8-gelLDgDuWc"
   },
   "outputs": [
    {
     "data": {
      "text/plain": [
       "DecisionTreeClassifier(criterion='entropy')"
      ]
     },
     "execution_count": 29,
     "metadata": {},
     "output_type": "execute_result"
    }
   ],
   "source": [
    "# Declare a variable called entr_model and use tree.DecisionTreeClassifier. \n",
    "# Entropy model\n",
    "entr_model = tree.DecisionTreeClassifier(criterion = 'entropy')\n",
    "\n",
    "# Call fit() on entr_model\n",
    "entr_model = entr_model.fit(X_train,y_train)\n",
    "\n",
    "# Call predict() on entr_model with X_test passed to it, and assign the result to a variable y_pred \n",
    "y_pred = entr_model.predict(X_test)\n",
    "\n",
    "# Call Series on our y_pred variable with the following: pd.Series(y_pred)\n",
    "y_pred= pd.Series(y_pred)\n",
    "\n",
    "# Check out entr_model\n",
    "entr_model"
   ]
  },
  {
   "cell_type": "code",
   "execution_count": 30,
   "metadata": {
    "colab": {},
    "colab_type": "code",
    "id": "S4FbHfWnDuWe",
    "scrolled": false
   },
   "outputs": [
    {
     "data": {
      "image/svg+xml": [
       "<?xml version=\"1.0\" encoding=\"UTF-8\" standalone=\"no\"?>\n",
       "<!DOCTYPE svg PUBLIC \"-//W3C//DTD SVG 1.1//EN\"\n",
       " \"http://www.w3.org/Graphics/SVG/1.1/DTD/svg11.dtd\">\n",
       "<!-- Generated by graphviz version 2.50.0 (0)\n",
       " -->\n",
       "<!-- Title: Tree Pages: 1 -->\n",
       "<svg width=\"716pt\" height=\"671pt\"\n",
       " viewBox=\"0.00 0.00 716.00 671.00\" xmlns=\"http://www.w3.org/2000/svg\" xmlns:xlink=\"http://www.w3.org/1999/xlink\">\n",
       "<g id=\"graph0\" class=\"graph\" transform=\"scale(1 1) rotate(0) translate(4 667)\">\n",
       "<title>Tree</title>\n",
       "<polygon fill=\"white\" stroke=\"transparent\" points=\"-4,4 -4,-667 712,-667 712,4 -4,4\"/>\n",
       "<!-- 0 -->\n",
       "<g id=\"node1\" class=\"node\">\n",
       "<title>0</title>\n",
       "<path fill=\"#abd6f4\" stroke=\"black\" d=\"M405.5,-663C405.5,-663 256.5,-663 256.5,-663 250.5,-663 244.5,-657 244.5,-651 244.5,-651 244.5,-592 244.5,-592 244.5,-586 250.5,-580 256.5,-580 256.5,-580 405.5,-580 405.5,-580 411.5,-580 417.5,-586 417.5,-592 417.5,-592 417.5,-651 417.5,-651 417.5,-657 411.5,-663 405.5,-663\"/>\n",
       "<text text-anchor=\"start\" x=\"252.5\" y=\"-647.8\" font-family=\"Helvetica,sans-Serif\" font-size=\"14.00\">spent_last_month ≤ 138.0</text>\n",
       "<text text-anchor=\"start\" x=\"283.5\" y=\"-632.8\" font-family=\"Helvetica,sans-Serif\" font-size=\"14.00\">entropy = 0.948</text>\n",
       "<text text-anchor=\"start\" x=\"286\" y=\"-617.8\" font-family=\"Helvetica,sans-Serif\" font-size=\"14.00\">samples = 355</text>\n",
       "<text text-anchor=\"start\" x=\"276.5\" y=\"-602.8\" font-family=\"Helvetica,sans-Serif\" font-size=\"14.00\">value = [130, 225]</text>\n",
       "<text text-anchor=\"start\" x=\"296\" y=\"-587.8\" font-family=\"Helvetica,sans-Serif\" font-size=\"14.00\">class = Yes</text>\n",
       "</g>\n",
       "<!-- 1 -->\n",
       "<g id=\"node2\" class=\"node\">\n",
       "<title>1</title>\n",
       "<path fill=\"#fae6d7\" stroke=\"black\" d=\"M313.5,-544C313.5,-544 212.5,-544 212.5,-544 206.5,-544 200.5,-538 200.5,-532 200.5,-532 200.5,-473 200.5,-473 200.5,-467 206.5,-461 212.5,-461 212.5,-461 313.5,-461 313.5,-461 319.5,-461 325.5,-467 325.5,-473 325.5,-473 325.5,-532 325.5,-532 325.5,-538 319.5,-544 313.5,-544\"/>\n",
       "<text text-anchor=\"start\" x=\"212\" y=\"-528.8\" font-family=\"Helvetica,sans-Serif\" font-size=\"14.00\">Distance ≤ 3.524</text>\n",
       "<text text-anchor=\"start\" x=\"215.5\" y=\"-513.8\" font-family=\"Helvetica,sans-Serif\" font-size=\"14.00\">entropy = 0.991</text>\n",
       "<text text-anchor=\"start\" x=\"218\" y=\"-498.8\" font-family=\"Helvetica,sans-Serif\" font-size=\"14.00\">samples = 234</text>\n",
       "<text text-anchor=\"start\" x=\"208.5\" y=\"-483.8\" font-family=\"Helvetica,sans-Serif\" font-size=\"14.00\">value = [130, 104]</text>\n",
       "<text text-anchor=\"start\" x=\"231\" y=\"-468.8\" font-family=\"Helvetica,sans-Serif\" font-size=\"14.00\">class = No</text>\n",
       "</g>\n",
       "<!-- 0&#45;&gt;1 -->\n",
       "<g id=\"edge1\" class=\"edge\">\n",
       "<title>0&#45;&gt;1</title>\n",
       "<path fill=\"none\" stroke=\"black\" d=\"M307.41,-579.91C302.34,-571.2 296.94,-561.9 291.71,-552.89\"/>\n",
       "<polygon fill=\"black\" stroke=\"black\" points=\"294.6,-550.91 286.55,-544.02 288.55,-554.43 294.6,-550.91\"/>\n",
       "<text text-anchor=\"middle\" x=\"280.15\" y=\"-564.49\" font-family=\"Helvetica,sans-Serif\" font-size=\"14.00\">True</text>\n",
       "</g>\n",
       "<!-- 16 -->\n",
       "<g id=\"node17\" class=\"node\">\n",
       "<title>16</title>\n",
       "<path fill=\"#399de5\" stroke=\"black\" d=\"M442,-536.5C442,-536.5 356,-536.5 356,-536.5 350,-536.5 344,-530.5 344,-524.5 344,-524.5 344,-480.5 344,-480.5 344,-474.5 350,-468.5 356,-468.5 356,-468.5 442,-468.5 442,-468.5 448,-468.5 454,-474.5 454,-480.5 454,-480.5 454,-524.5 454,-524.5 454,-530.5 448,-536.5 442,-536.5\"/>\n",
       "<text text-anchor=\"start\" x=\"359\" y=\"-521.3\" font-family=\"Helvetica,sans-Serif\" font-size=\"14.00\">entropy = 0.0</text>\n",
       "<text text-anchor=\"start\" x=\"354\" y=\"-506.3\" font-family=\"Helvetica,sans-Serif\" font-size=\"14.00\">samples = 121</text>\n",
       "<text text-anchor=\"start\" x=\"352\" y=\"-491.3\" font-family=\"Helvetica,sans-Serif\" font-size=\"14.00\">value = [0, 121]</text>\n",
       "<text text-anchor=\"start\" x=\"364\" y=\"-476.3\" font-family=\"Helvetica,sans-Serif\" font-size=\"14.00\">class = Yes</text>\n",
       "</g>\n",
       "<!-- 0&#45;&gt;16 -->\n",
       "<g id=\"edge16\" class=\"edge\">\n",
       "<title>0&#45;&gt;16</title>\n",
       "<path fill=\"none\" stroke=\"black\" d=\"M354.59,-579.91C361.07,-568.76 368.1,-556.66 374.63,-545.44\"/>\n",
       "<polygon fill=\"black\" stroke=\"black\" points=\"377.72,-547.07 379.72,-536.67 371.67,-543.55 377.72,-547.07\"/>\n",
       "<text text-anchor=\"middle\" x=\"386.12\" y=\"-557.13\" font-family=\"Helvetica,sans-Serif\" font-size=\"14.00\">False</text>\n",
       "</g>\n",
       "<!-- 2 -->\n",
       "<g id=\"node3\" class=\"node\">\n",
       "<title>2</title>\n",
       "<path fill=\"#52aae8\" stroke=\"black\" d=\"M240.5,-425C240.5,-425 99.5,-425 99.5,-425 93.5,-425 87.5,-419 87.5,-413 87.5,-413 87.5,-354 87.5,-354 87.5,-348 93.5,-342 99.5,-342 99.5,-342 240.5,-342 240.5,-342 246.5,-342 252.5,-348 252.5,-354 252.5,-354 252.5,-413 252.5,-413 252.5,-419 246.5,-425 240.5,-425\"/>\n",
       "<text text-anchor=\"start\" x=\"95.5\" y=\"-409.8\" font-family=\"Helvetica,sans-Serif\" font-size=\"14.00\">spent_last_month ≤ 24.5</text>\n",
       "<text text-anchor=\"start\" x=\"122.5\" y=\"-394.8\" font-family=\"Helvetica,sans-Serif\" font-size=\"14.00\">entropy = 0.512</text>\n",
       "<text text-anchor=\"start\" x=\"129\" y=\"-379.8\" font-family=\"Helvetica,sans-Serif\" font-size=\"14.00\">samples = 79</text>\n",
       "<text text-anchor=\"start\" x=\"127\" y=\"-364.8\" font-family=\"Helvetica,sans-Serif\" font-size=\"14.00\">value = [9, 70]</text>\n",
       "<text text-anchor=\"start\" x=\"135\" y=\"-349.8\" font-family=\"Helvetica,sans-Serif\" font-size=\"14.00\">class = Yes</text>\n",
       "</g>\n",
       "<!-- 1&#45;&gt;2 -->\n",
       "<g id=\"edge2\" class=\"edge\">\n",
       "<title>1&#45;&gt;2</title>\n",
       "<path fill=\"none\" stroke=\"black\" d=\"M230.73,-460.91C223.59,-451.92 215.96,-442.32 208.59,-433.05\"/>\n",
       "<polygon fill=\"black\" stroke=\"black\" points=\"211.17,-430.67 202.21,-425.02 205.69,-435.03 211.17,-430.67\"/>\n",
       "</g>\n",
       "<!-- 7 -->\n",
       "<g id=\"node8\" class=\"node\">\n",
       "<title>7</title>\n",
       "<path fill=\"#eca471\" stroke=\"black\" d=\"M454.5,-425C454.5,-425 305.5,-425 305.5,-425 299.5,-425 293.5,-419 293.5,-413 293.5,-413 293.5,-354 293.5,-354 293.5,-348 299.5,-342 305.5,-342 305.5,-342 454.5,-342 454.5,-342 460.5,-342 466.5,-348 466.5,-354 466.5,-354 466.5,-413 466.5,-413 466.5,-419 460.5,-425 454.5,-425\"/>\n",
       "<text text-anchor=\"start\" x=\"301.5\" y=\"-409.8\" font-family=\"Helvetica,sans-Serif\" font-size=\"14.00\">spent_last_month ≤ 101.0</text>\n",
       "<text text-anchor=\"start\" x=\"332.5\" y=\"-394.8\" font-family=\"Helvetica,sans-Serif\" font-size=\"14.00\">entropy = 0.759</text>\n",
       "<text text-anchor=\"start\" x=\"335\" y=\"-379.8\" font-family=\"Helvetica,sans-Serif\" font-size=\"14.00\">samples = 155</text>\n",
       "<text text-anchor=\"start\" x=\"329.5\" y=\"-364.8\" font-family=\"Helvetica,sans-Serif\" font-size=\"14.00\">value = [121, 34]</text>\n",
       "<text text-anchor=\"start\" x=\"348\" y=\"-349.8\" font-family=\"Helvetica,sans-Serif\" font-size=\"14.00\">class = No</text>\n",
       "</g>\n",
       "<!-- 1&#45;&gt;7 -->\n",
       "<g id=\"edge7\" class=\"edge\">\n",
       "<title>1&#45;&gt;7</title>\n",
       "<path fill=\"none\" stroke=\"black\" d=\"M303.59,-460.91C312.85,-451.65 322.77,-441.73 332.29,-432.21\"/>\n",
       "<polygon fill=\"black\" stroke=\"black\" points=\"334.88,-434.57 339.48,-425.02 329.93,-429.62 334.88,-434.57\"/>\n",
       "</g>\n",
       "<!-- 3 -->\n",
       "<g id=\"node4\" class=\"node\">\n",
       "<title>3</title>\n",
       "<path fill=\"#e58139\" stroke=\"black\" d=\"M84,-298.5C84,-298.5 12,-298.5 12,-298.5 6,-298.5 0,-292.5 0,-286.5 0,-286.5 0,-242.5 0,-242.5 0,-236.5 6,-230.5 12,-230.5 12,-230.5 84,-230.5 84,-230.5 90,-230.5 96,-236.5 96,-242.5 96,-242.5 96,-286.5 96,-286.5 96,-292.5 90,-298.5 84,-298.5\"/>\n",
       "<text text-anchor=\"start\" x=\"8\" y=\"-283.3\" font-family=\"Helvetica,sans-Serif\" font-size=\"14.00\">entropy = 0.0</text>\n",
       "<text text-anchor=\"start\" x=\"10.5\" y=\"-268.3\" font-family=\"Helvetica,sans-Serif\" font-size=\"14.00\">samples = 8</text>\n",
       "<text text-anchor=\"start\" x=\"8.5\" y=\"-253.3\" font-family=\"Helvetica,sans-Serif\" font-size=\"14.00\">value = [8, 0]</text>\n",
       "<text text-anchor=\"start\" x=\"16\" y=\"-238.3\" font-family=\"Helvetica,sans-Serif\" font-size=\"14.00\">class = No</text>\n",
       "</g>\n",
       "<!-- 2&#45;&gt;3 -->\n",
       "<g id=\"edge3\" class=\"edge\">\n",
       "<title>2&#45;&gt;3</title>\n",
       "<path fill=\"none\" stroke=\"black\" d=\"M127.67,-341.91C115.48,-330.21 102.18,-317.46 90,-305.78\"/>\n",
       "<polygon fill=\"black\" stroke=\"black\" points=\"92.22,-303.06 82.58,-298.67 87.38,-308.11 92.22,-303.06\"/>\n",
       "</g>\n",
       "<!-- 4 -->\n",
       "<g id=\"node5\" class=\"node\">\n",
       "<title>4</title>\n",
       "<path fill=\"#3c9ee5\" stroke=\"black\" d=\"M213.5,-306C213.5,-306 126.5,-306 126.5,-306 120.5,-306 114.5,-300 114.5,-294 114.5,-294 114.5,-235 114.5,-235 114.5,-229 120.5,-223 126.5,-223 126.5,-223 213.5,-223 213.5,-223 219.5,-223 225.5,-229 225.5,-235 225.5,-235 225.5,-294 225.5,-294 225.5,-300 219.5,-306 213.5,-306\"/>\n",
       "<text text-anchor=\"start\" x=\"137\" y=\"-290.8\" font-family=\"Helvetica,sans-Serif\" font-size=\"14.00\">Age ≤ 59.0</text>\n",
       "<text text-anchor=\"start\" x=\"122.5\" y=\"-275.8\" font-family=\"Helvetica,sans-Serif\" font-size=\"14.00\">entropy = 0.107</text>\n",
       "<text text-anchor=\"start\" x=\"129\" y=\"-260.8\" font-family=\"Helvetica,sans-Serif\" font-size=\"14.00\">samples = 71</text>\n",
       "<text text-anchor=\"start\" x=\"127\" y=\"-245.8\" font-family=\"Helvetica,sans-Serif\" font-size=\"14.00\">value = [1, 70]</text>\n",
       "<text text-anchor=\"start\" x=\"135\" y=\"-230.8\" font-family=\"Helvetica,sans-Serif\" font-size=\"14.00\">class = Yes</text>\n",
       "</g>\n",
       "<!-- 2&#45;&gt;4 -->\n",
       "<g id=\"edge4\" class=\"edge\">\n",
       "<title>2&#45;&gt;4</title>\n",
       "<path fill=\"none\" stroke=\"black\" d=\"M170,-341.91C170,-333.65 170,-324.86 170,-316.3\"/>\n",
       "<polygon fill=\"black\" stroke=\"black\" points=\"173.5,-316.02 170,-306.02 166.5,-316.02 173.5,-316.02\"/>\n",
       "</g>\n",
       "<!-- 5 -->\n",
       "<g id=\"node6\" class=\"node\">\n",
       "<title>5</title>\n",
       "<path fill=\"#399de5\" stroke=\"black\" d=\"M92,-179.5C92,-179.5 14,-179.5 14,-179.5 8,-179.5 2,-173.5 2,-167.5 2,-167.5 2,-123.5 2,-123.5 2,-117.5 8,-111.5 14,-111.5 14,-111.5 92,-111.5 92,-111.5 98,-111.5 104,-117.5 104,-123.5 104,-123.5 104,-167.5 104,-167.5 104,-173.5 98,-179.5 92,-179.5\"/>\n",
       "<text text-anchor=\"start\" x=\"13\" y=\"-164.3\" font-family=\"Helvetica,sans-Serif\" font-size=\"14.00\">entropy = 0.0</text>\n",
       "<text text-anchor=\"start\" x=\"12\" y=\"-149.3\" font-family=\"Helvetica,sans-Serif\" font-size=\"14.00\">samples = 70</text>\n",
       "<text text-anchor=\"start\" x=\"10\" y=\"-134.3\" font-family=\"Helvetica,sans-Serif\" font-size=\"14.00\">value = [0, 70]</text>\n",
       "<text text-anchor=\"start\" x=\"18\" y=\"-119.3\" font-family=\"Helvetica,sans-Serif\" font-size=\"14.00\">class = Yes</text>\n",
       "</g>\n",
       "<!-- 4&#45;&gt;5 -->\n",
       "<g id=\"edge5\" class=\"edge\">\n",
       "<title>4&#45;&gt;5</title>\n",
       "<path fill=\"none\" stroke=\"black\" d=\"M129.41,-222.91C117.71,-211.21 104.96,-198.46 93.28,-186.78\"/>\n",
       "<polygon fill=\"black\" stroke=\"black\" points=\"95.71,-184.26 86.17,-179.67 90.76,-189.21 95.71,-184.26\"/>\n",
       "</g>\n",
       "<!-- 6 -->\n",
       "<g id=\"node7\" class=\"node\">\n",
       "<title>6</title>\n",
       "<path fill=\"#e58139\" stroke=\"black\" d=\"M206,-179.5C206,-179.5 134,-179.5 134,-179.5 128,-179.5 122,-173.5 122,-167.5 122,-167.5 122,-123.5 122,-123.5 122,-117.5 128,-111.5 134,-111.5 134,-111.5 206,-111.5 206,-111.5 212,-111.5 218,-117.5 218,-123.5 218,-123.5 218,-167.5 218,-167.5 218,-173.5 212,-179.5 206,-179.5\"/>\n",
       "<text text-anchor=\"start\" x=\"130\" y=\"-164.3\" font-family=\"Helvetica,sans-Serif\" font-size=\"14.00\">entropy = 0.0</text>\n",
       "<text text-anchor=\"start\" x=\"132.5\" y=\"-149.3\" font-family=\"Helvetica,sans-Serif\" font-size=\"14.00\">samples = 1</text>\n",
       "<text text-anchor=\"start\" x=\"130.5\" y=\"-134.3\" font-family=\"Helvetica,sans-Serif\" font-size=\"14.00\">value = [1, 0]</text>\n",
       "<text text-anchor=\"start\" x=\"138\" y=\"-119.3\" font-family=\"Helvetica,sans-Serif\" font-size=\"14.00\">class = No</text>\n",
       "</g>\n",
       "<!-- 4&#45;&gt;6 -->\n",
       "<g id=\"edge6\" class=\"edge\">\n",
       "<title>4&#45;&gt;6</title>\n",
       "<path fill=\"none\" stroke=\"black\" d=\"M170,-222.91C170,-212.2 170,-200.62 170,-189.78\"/>\n",
       "<polygon fill=\"black\" stroke=\"black\" points=\"173.5,-189.67 170,-179.67 166.5,-189.67 173.5,-189.67\"/>\n",
       "</g>\n",
       "<!-- 8 -->\n",
       "<g id=\"node9\" class=\"node\">\n",
       "<title>8</title>\n",
       "<path fill=\"#e6853f\" stroke=\"black\" d=\"M423.5,-306C423.5,-306 336.5,-306 336.5,-306 330.5,-306 324.5,-300 324.5,-294 324.5,-294 324.5,-235 324.5,-235 324.5,-229 330.5,-223 336.5,-223 336.5,-223 423.5,-223 423.5,-223 429.5,-223 435.5,-229 435.5,-235 435.5,-235 435.5,-294 435.5,-294 435.5,-300 429.5,-306 423.5,-306\"/>\n",
       "<text text-anchor=\"start\" x=\"336.5\" y=\"-290.8\" font-family=\"Helvetica,sans-Serif\" font-size=\"14.00\">Distance ≤ 4.0</text>\n",
       "<text text-anchor=\"start\" x=\"332.5\" y=\"-275.8\" font-family=\"Helvetica,sans-Serif\" font-size=\"14.00\">entropy = 0.191</text>\n",
       "<text text-anchor=\"start\" x=\"335\" y=\"-260.8\" font-family=\"Helvetica,sans-Serif\" font-size=\"14.00\">samples = 102</text>\n",
       "<text text-anchor=\"start\" x=\"337\" y=\"-245.8\" font-family=\"Helvetica,sans-Serif\" font-size=\"14.00\">value = [99, 3]</text>\n",
       "<text text-anchor=\"start\" x=\"348\" y=\"-230.8\" font-family=\"Helvetica,sans-Serif\" font-size=\"14.00\">class = No</text>\n",
       "</g>\n",
       "<!-- 7&#45;&gt;8 -->\n",
       "<g id=\"edge8\" class=\"edge\">\n",
       "<title>7&#45;&gt;8</title>\n",
       "<path fill=\"none\" stroke=\"black\" d=\"M380,-341.91C380,-333.65 380,-324.86 380,-316.3\"/>\n",
       "<polygon fill=\"black\" stroke=\"black\" points=\"383.5,-316.02 380,-306.02 376.5,-316.02 383.5,-316.02\"/>\n",
       "</g>\n",
       "<!-- 13 -->\n",
       "<g id=\"node14\" class=\"node\">\n",
       "<title>13</title>\n",
       "<path fill=\"#c6e3f7\" stroke=\"black\" d=\"M584,-306C584,-306 490,-306 490,-306 484,-306 478,-300 478,-294 478,-294 478,-235 478,-235 478,-229 484,-223 490,-223 490,-223 584,-223 584,-223 590,-223 596,-229 596,-235 596,-235 596,-294 596,-294 596,-300 590,-306 584,-306\"/>\n",
       "<text text-anchor=\"start\" x=\"486\" y=\"-290.8\" font-family=\"Helvetica,sans-Serif\" font-size=\"14.00\">Distance ≤ 7.887</text>\n",
       "<text text-anchor=\"start\" x=\"489.5\" y=\"-275.8\" font-family=\"Helvetica,sans-Serif\" font-size=\"14.00\">entropy = 0.979</text>\n",
       "<text text-anchor=\"start\" x=\"496\" y=\"-260.8\" font-family=\"Helvetica,sans-Serif\" font-size=\"14.00\">samples = 53</text>\n",
       "<text text-anchor=\"start\" x=\"490\" y=\"-245.8\" font-family=\"Helvetica,sans-Serif\" font-size=\"14.00\">value = [22, 31]</text>\n",
       "<text text-anchor=\"start\" x=\"502\" y=\"-230.8\" font-family=\"Helvetica,sans-Serif\" font-size=\"14.00\">class = Yes</text>\n",
       "</g>\n",
       "<!-- 7&#45;&gt;13 -->\n",
       "<g id=\"edge13\" class=\"edge\">\n",
       "<title>7&#45;&gt;13</title>\n",
       "<path fill=\"none\" stroke=\"black\" d=\"M434.47,-341.91C447.38,-332.29 461.25,-321.95 474.48,-312.09\"/>\n",
       "<polygon fill=\"black\" stroke=\"black\" points=\"476.7,-314.8 482.63,-306.02 472.52,-309.19 476.7,-314.8\"/>\n",
       "</g>\n",
       "<!-- 9 -->\n",
       "<g id=\"node10\" class=\"node\">\n",
       "<title>9</title>\n",
       "<path fill=\"#f8e0ce\" stroke=\"black\" d=\"M335.5,-187C335.5,-187 248.5,-187 248.5,-187 242.5,-187 236.5,-181 236.5,-175 236.5,-175 236.5,-116 236.5,-116 236.5,-110 242.5,-104 248.5,-104 248.5,-104 335.5,-104 335.5,-104 341.5,-104 347.5,-110 347.5,-116 347.5,-116 347.5,-175 347.5,-175 347.5,-181 341.5,-187 335.5,-187\"/>\n",
       "<text text-anchor=\"start\" x=\"259\" y=\"-171.8\" font-family=\"Helvetica,sans-Serif\" font-size=\"14.00\">Age ≤ 26.5</text>\n",
       "<text text-anchor=\"start\" x=\"244.5\" y=\"-156.8\" font-family=\"Helvetica,sans-Serif\" font-size=\"14.00\">entropy = 0.985</text>\n",
       "<text text-anchor=\"start\" x=\"254.5\" y=\"-141.8\" font-family=\"Helvetica,sans-Serif\" font-size=\"14.00\">samples = 7</text>\n",
       "<text text-anchor=\"start\" x=\"252.5\" y=\"-126.8\" font-family=\"Helvetica,sans-Serif\" font-size=\"14.00\">value = [4, 3]</text>\n",
       "<text text-anchor=\"start\" x=\"260\" y=\"-111.8\" font-family=\"Helvetica,sans-Serif\" font-size=\"14.00\">class = No</text>\n",
       "</g>\n",
       "<!-- 8&#45;&gt;9 -->\n",
       "<g id=\"edge9\" class=\"edge\">\n",
       "<title>8&#45;&gt;9</title>\n",
       "<path fill=\"none\" stroke=\"black\" d=\"M349.47,-222.91C342.71,-213.92 335.48,-204.32 328.52,-195.05\"/>\n",
       "<polygon fill=\"black\" stroke=\"black\" points=\"331.29,-192.91 322.48,-187.02 325.69,-197.12 331.29,-192.91\"/>\n",
       "</g>\n",
       "<!-- 12 -->\n",
       "<g id=\"node13\" class=\"node\">\n",
       "<title>12</title>\n",
       "<path fill=\"#e58139\" stroke=\"black\" d=\"M456,-179.5C456,-179.5 378,-179.5 378,-179.5 372,-179.5 366,-173.5 366,-167.5 366,-167.5 366,-123.5 366,-123.5 366,-117.5 372,-111.5 378,-111.5 378,-111.5 456,-111.5 456,-111.5 462,-111.5 468,-117.5 468,-123.5 468,-123.5 468,-167.5 468,-167.5 468,-173.5 462,-179.5 456,-179.5\"/>\n",
       "<text text-anchor=\"start\" x=\"377\" y=\"-164.3\" font-family=\"Helvetica,sans-Serif\" font-size=\"14.00\">entropy = 0.0</text>\n",
       "<text text-anchor=\"start\" x=\"376\" y=\"-149.3\" font-family=\"Helvetica,sans-Serif\" font-size=\"14.00\">samples = 95</text>\n",
       "<text text-anchor=\"start\" x=\"374\" y=\"-134.3\" font-family=\"Helvetica,sans-Serif\" font-size=\"14.00\">value = [95, 0]</text>\n",
       "<text text-anchor=\"start\" x=\"385\" y=\"-119.3\" font-family=\"Helvetica,sans-Serif\" font-size=\"14.00\">class = No</text>\n",
       "</g>\n",
       "<!-- 8&#45;&gt;12 -->\n",
       "<g id=\"edge12\" class=\"edge\">\n",
       "<title>8&#45;&gt;12</title>\n",
       "<path fill=\"none\" stroke=\"black\" d=\"M392.84,-222.91C396.26,-212.09 399.96,-200.38 403.42,-189.44\"/>\n",
       "<polygon fill=\"black\" stroke=\"black\" points=\"406.83,-190.26 406.51,-179.67 400.16,-188.15 406.83,-190.26\"/>\n",
       "</g>\n",
       "<!-- 10 -->\n",
       "<g id=\"node11\" class=\"node\">\n",
       "<title>10</title>\n",
       "<path fill=\"#399de5\" stroke=\"black\" d=\"M271,-68C271,-68 199,-68 199,-68 193,-68 187,-62 187,-56 187,-56 187,-12 187,-12 187,-6 193,0 199,0 199,0 271,0 271,0 277,0 283,-6 283,-12 283,-12 283,-56 283,-56 283,-62 277,-68 271,-68\"/>\n",
       "<text text-anchor=\"start\" x=\"195\" y=\"-52.8\" font-family=\"Helvetica,sans-Serif\" font-size=\"14.00\">entropy = 0.0</text>\n",
       "<text text-anchor=\"start\" x=\"197.5\" y=\"-37.8\" font-family=\"Helvetica,sans-Serif\" font-size=\"14.00\">samples = 3</text>\n",
       "<text text-anchor=\"start\" x=\"195.5\" y=\"-22.8\" font-family=\"Helvetica,sans-Serif\" font-size=\"14.00\">value = [0, 3]</text>\n",
       "<text text-anchor=\"start\" x=\"200\" y=\"-7.8\" font-family=\"Helvetica,sans-Serif\" font-size=\"14.00\">class = Yes</text>\n",
       "</g>\n",
       "<!-- 9&#45;&gt;10 -->\n",
       "<g id=\"edge10\" class=\"edge\">\n",
       "<title>9&#45;&gt;10</title>\n",
       "<path fill=\"none\" stroke=\"black\" d=\"M270.78,-103.73C266.26,-95.06 261.49,-85.9 256.96,-77.18\"/>\n",
       "<polygon fill=\"black\" stroke=\"black\" points=\"260.06,-75.55 252.33,-68.3 253.85,-78.79 260.06,-75.55\"/>\n",
       "</g>\n",
       "<!-- 11 -->\n",
       "<g id=\"node12\" class=\"node\">\n",
       "<title>11</title>\n",
       "<path fill=\"#e58139\" stroke=\"black\" d=\"M385,-68C385,-68 313,-68 313,-68 307,-68 301,-62 301,-56 301,-56 301,-12 301,-12 301,-6 307,0 313,0 313,0 385,0 385,0 391,0 397,-6 397,-12 397,-12 397,-56 397,-56 397,-62 391,-68 385,-68\"/>\n",
       "<text text-anchor=\"start\" x=\"309\" y=\"-52.8\" font-family=\"Helvetica,sans-Serif\" font-size=\"14.00\">entropy = 0.0</text>\n",
       "<text text-anchor=\"start\" x=\"311.5\" y=\"-37.8\" font-family=\"Helvetica,sans-Serif\" font-size=\"14.00\">samples = 4</text>\n",
       "<text text-anchor=\"start\" x=\"309.5\" y=\"-22.8\" font-family=\"Helvetica,sans-Serif\" font-size=\"14.00\">value = [4, 0]</text>\n",
       "<text text-anchor=\"start\" x=\"317\" y=\"-7.8\" font-family=\"Helvetica,sans-Serif\" font-size=\"14.00\">class = No</text>\n",
       "</g>\n",
       "<!-- 9&#45;&gt;11 -->\n",
       "<g id=\"edge11\" class=\"edge\">\n",
       "<title>9&#45;&gt;11</title>\n",
       "<path fill=\"none\" stroke=\"black\" d=\"M313.22,-103.73C317.74,-95.06 322.51,-85.9 327.04,-77.18\"/>\n",
       "<polygon fill=\"black\" stroke=\"black\" points=\"330.15,-78.79 331.67,-68.3 323.94,-75.55 330.15,-78.79\"/>\n",
       "</g>\n",
       "<!-- 14 -->\n",
       "<g id=\"node15\" class=\"node\">\n",
       "<title>14</title>\n",
       "<path fill=\"#399de5\" stroke=\"black\" d=\"M576,-179.5C576,-179.5 498,-179.5 498,-179.5 492,-179.5 486,-173.5 486,-167.5 486,-167.5 486,-123.5 486,-123.5 486,-117.5 492,-111.5 498,-111.5 498,-111.5 576,-111.5 576,-111.5 582,-111.5 588,-117.5 588,-123.5 588,-123.5 588,-167.5 588,-167.5 588,-173.5 582,-179.5 576,-179.5\"/>\n",
       "<text text-anchor=\"start\" x=\"497\" y=\"-164.3\" font-family=\"Helvetica,sans-Serif\" font-size=\"14.00\">entropy = 0.0</text>\n",
       "<text text-anchor=\"start\" x=\"496\" y=\"-149.3\" font-family=\"Helvetica,sans-Serif\" font-size=\"14.00\">samples = 31</text>\n",
       "<text text-anchor=\"start\" x=\"494\" y=\"-134.3\" font-family=\"Helvetica,sans-Serif\" font-size=\"14.00\">value = [0, 31]</text>\n",
       "<text text-anchor=\"start\" x=\"502\" y=\"-119.3\" font-family=\"Helvetica,sans-Serif\" font-size=\"14.00\">class = Yes</text>\n",
       "</g>\n",
       "<!-- 13&#45;&gt;14 -->\n",
       "<g id=\"edge14\" class=\"edge\">\n",
       "<title>13&#45;&gt;14</title>\n",
       "<path fill=\"none\" stroke=\"black\" d=\"M537,-222.91C537,-212.2 537,-200.62 537,-189.78\"/>\n",
       "<polygon fill=\"black\" stroke=\"black\" points=\"540.5,-189.67 537,-179.67 533.5,-189.67 540.5,-189.67\"/>\n",
       "</g>\n",
       "<!-- 15 -->\n",
       "<g id=\"node16\" class=\"node\">\n",
       "<title>15</title>\n",
       "<path fill=\"#e58139\" stroke=\"black\" d=\"M696,-179.5C696,-179.5 618,-179.5 618,-179.5 612,-179.5 606,-173.5 606,-167.5 606,-167.5 606,-123.5 606,-123.5 606,-117.5 612,-111.5 618,-111.5 618,-111.5 696,-111.5 696,-111.5 702,-111.5 708,-117.5 708,-123.5 708,-123.5 708,-167.5 708,-167.5 708,-173.5 702,-179.5 696,-179.5\"/>\n",
       "<text text-anchor=\"start\" x=\"617\" y=\"-164.3\" font-family=\"Helvetica,sans-Serif\" font-size=\"14.00\">entropy = 0.0</text>\n",
       "<text text-anchor=\"start\" x=\"616\" y=\"-149.3\" font-family=\"Helvetica,sans-Serif\" font-size=\"14.00\">samples = 22</text>\n",
       "<text text-anchor=\"start\" x=\"614\" y=\"-134.3\" font-family=\"Helvetica,sans-Serif\" font-size=\"14.00\">value = [22, 0]</text>\n",
       "<text text-anchor=\"start\" x=\"625\" y=\"-119.3\" font-family=\"Helvetica,sans-Serif\" font-size=\"14.00\">class = No</text>\n",
       "</g>\n",
       "<!-- 13&#45;&gt;15 -->\n",
       "<g id=\"edge15\" class=\"edge\">\n",
       "<title>13&#45;&gt;15</title>\n",
       "<path fill=\"none\" stroke=\"black\" d=\"M578.63,-222.91C590.63,-211.21 603.71,-198.46 615.69,-186.78\"/>\n",
       "<polygon fill=\"black\" stroke=\"black\" points=\"618.27,-189.15 622.98,-179.67 613.38,-184.14 618.27,-189.15\"/>\n",
       "</g>\n",
       "</g>\n",
       "</svg>\n"
      ],
      "text/plain": [
       "<graphviz.sources.Source at 0x11df0abb0>"
      ]
     },
     "execution_count": 30,
     "metadata": {},
     "output_type": "execute_result"
    }
   ],
   "source": [
    "# Now we want to visualize the tree\n",
    "import graphviz\n",
    "\n",
    "# We can do so with export_graphviz\n",
    "dot_data = tree.export_graphviz(entr_model, out_file =None,\n",
    "                                feature_names = entr_model.feature_names_in_,\n",
    "                                class_names = entr_model.classes_,\n",
    "                                filled = True, rounded = True,\n",
    "                                special_characters = True)\n",
    "\n",
    "graph = graphviz.Source(dot_data)\n",
    "graph\n",
    "# Alternatively for class_names use entr_model.classes_\n",
    "#_ _ _"
   ]
  },
  {
   "cell_type": "markdown",
   "metadata": {
    "colab_type": "text",
    "id": "dFbii4IADuWg"
   },
   "source": [
    "## Model 1: Entropy model - no max_depth: Interpretation and evaluation"
   ]
  },
  {
   "cell_type": "code",
   "execution_count": 31,
   "metadata": {
    "colab": {},
    "colab_type": "code",
    "id": "XRL0klK4DuWh"
   },
   "outputs": [
    {
     "name": "stdout",
     "output_type": "stream",
     "text": [
      "Model Entropy - no max depth\n",
      "Accuracy: 0.9915966386554622\n",
      "Balanced accuracy: 0.9878048780487805\n",
      "Precision score for \"Yes\" 0.9873417721518988\n",
      "Precision score for \"No\" 1.0\n",
      "Recall score for \"Yes\" 1.0\n",
      "Recall score for \"No\" 0.975609756097561\n"
     ]
    }
   ],
   "source": [
    "# Run this block for model evaluation metrics \n",
    "print(\"Model Entropy - no max depth\")\n",
    "print(\"Accuracy:\", metrics.accuracy_score(y_test,y_pred))\n",
    "print(\"Balanced accuracy:\", metrics.balanced_accuracy_score(y_test,y_pred))\n",
    "print('Precision score for \"Yes\"' , metrics.precision_score(y_test,y_pred, pos_label = \"Yes\"))\n",
    "print('Precision score for \"No\"' , metrics.precision_score(y_test,y_pred, pos_label = \"No\"))\n",
    "print('Recall score for \"Yes\"' , metrics.recall_score(y_test,y_pred, pos_label = \"Yes\"))\n",
    "print('Recall score for \"No\"' , metrics.recall_score(y_test,y_pred, pos_label = \"No\"))"
   ]
  },
  {
   "cell_type": "markdown",
   "metadata": {
    "colab_type": "text",
    "id": "icGOPFQ_DuWj"
   },
   "source": [
    "What can you infer from these results? Write your conclusions here:\n",
    "\n",
    "This is a good classification model; It has high accuracy, precision and recall score."
   ]
  },
  {
   "cell_type": "markdown",
   "metadata": {
    "colab_type": "text",
    "id": "MHipdpfxDuWk"
   },
   "source": [
    "## Model 2: Gini impurity model - no max_depth\n",
    "\n",
    "Gini impurity, like entropy, is a measure of how well a given feature (and threshold) splits the data into categories.\n",
    "\n",
    "Their equations are similar, but Gini impurity doesn't require logorathmic functions, which can be computationally expensive. "
   ]
  },
  {
   "cell_type": "code",
   "execution_count": 32,
   "metadata": {
    "colab": {},
    "colab_type": "code",
    "id": "FyBljeIpDuWl"
   },
   "outputs": [
    {
     "data": {
      "text/plain": [
       "DecisionTreeClassifier()"
      ]
     },
     "execution_count": 32,
     "metadata": {},
     "output_type": "execute_result"
    }
   ],
   "source": [
    "# Make a variable called gini_model, and assign it exactly what you assigned entr_model with above, but with the\n",
    "# criterion changed to 'gini'\n",
    "# Total gini impurity score (gini) is the default criterio of sklearn \n",
    "gini_model = tree.DecisionTreeClassifier()\n",
    "\n",
    "# Call fit() on the gini_model as you did with the entr_model\n",
    "gini_model = gini_model.fit(X_train,y_train)\n",
    "\n",
    "# Call predict() on the gini_model as you did with the entr_model \n",
    "y_pred = gini_model.predict(X_test)\n",
    "\n",
    "# Turn y_pred into a series, as before\n",
    "y_pred = pd.Series(y_pred)\n",
    "\n",
    "# Check out gini_model\n",
    "gini_model"
   ]
  },
  {
   "cell_type": "code",
   "execution_count": 33,
   "metadata": {
    "colab": {},
    "colab_type": "code",
    "id": "d20SMUmgDuWo"
   },
   "outputs": [
    {
     "data": {
      "image/svg+xml": [
       "<?xml version=\"1.0\" encoding=\"UTF-8\" standalone=\"no\"?>\n",
       "<!DOCTYPE svg PUBLIC \"-//W3C//DTD SVG 1.1//EN\"\n",
       " \"http://www.w3.org/Graphics/SVG/1.1/DTD/svg11.dtd\">\n",
       "<!-- Generated by graphviz version 2.50.0 (0)\n",
       " -->\n",
       "<!-- Title: Tree Pages: 1 -->\n",
       "<svg width=\"819pt\" height=\"790pt\"\n",
       " viewBox=\"0.00 0.00 819.00 790.00\" xmlns=\"http://www.w3.org/2000/svg\" xmlns:xlink=\"http://www.w3.org/1999/xlink\">\n",
       "<g id=\"graph0\" class=\"graph\" transform=\"scale(1 1) rotate(0) translate(4 786)\">\n",
       "<title>Tree</title>\n",
       "<polygon fill=\"white\" stroke=\"transparent\" points=\"-4,4 -4,-786 815,-786 815,4 -4,4\"/>\n",
       "<!-- 0 -->\n",
       "<g id=\"node1\" class=\"node\">\n",
       "<title>0</title>\n",
       "<path fill=\"#abd6f4\" stroke=\"black\" d=\"M518.5,-782C518.5,-782 369.5,-782 369.5,-782 363.5,-782 357.5,-776 357.5,-770 357.5,-770 357.5,-711 357.5,-711 357.5,-705 363.5,-699 369.5,-699 369.5,-699 518.5,-699 518.5,-699 524.5,-699 530.5,-705 530.5,-711 530.5,-711 530.5,-770 530.5,-770 530.5,-776 524.5,-782 518.5,-782\"/>\n",
       "<text text-anchor=\"start\" x=\"365.5\" y=\"-766.8\" font-family=\"Helvetica,sans-Serif\" font-size=\"14.00\">spent_last_month ≤ 100.5</text>\n",
       "<text text-anchor=\"start\" x=\"408.5\" y=\"-751.8\" font-family=\"Helvetica,sans-Serif\" font-size=\"14.00\">gini = 0.464</text>\n",
       "<text text-anchor=\"start\" x=\"399\" y=\"-736.8\" font-family=\"Helvetica,sans-Serif\" font-size=\"14.00\">samples = 355</text>\n",
       "<text text-anchor=\"start\" x=\"389.5\" y=\"-721.8\" font-family=\"Helvetica,sans-Serif\" font-size=\"14.00\">value = [130, 225]</text>\n",
       "<text text-anchor=\"start\" x=\"409\" y=\"-706.8\" font-family=\"Helvetica,sans-Serif\" font-size=\"14.00\">class = Yes</text>\n",
       "</g>\n",
       "<!-- 1 -->\n",
       "<g id=\"node2\" class=\"node\">\n",
       "<title>1</title>\n",
       "<path fill=\"#f0b48a\" stroke=\"black\" d=\"M423,-663C423,-663 329,-663 329,-663 323,-663 317,-657 317,-651 317,-651 317,-592 317,-592 317,-586 323,-580 329,-580 329,-580 423,-580 423,-580 429,-580 435,-586 435,-592 435,-592 435,-651 435,-651 435,-657 429,-663 423,-663\"/>\n",
       "<text text-anchor=\"start\" x=\"325\" y=\"-647.8\" font-family=\"Helvetica,sans-Serif\" font-size=\"14.00\">Distance ≤ 3.754</text>\n",
       "<text text-anchor=\"start\" x=\"340.5\" y=\"-632.8\" font-family=\"Helvetica,sans-Serif\" font-size=\"14.00\">gini = 0.411</text>\n",
       "<text text-anchor=\"start\" x=\"331\" y=\"-617.8\" font-family=\"Helvetica,sans-Serif\" font-size=\"14.00\">samples = 152</text>\n",
       "<text text-anchor=\"start\" x=\"325.5\" y=\"-602.8\" font-family=\"Helvetica,sans-Serif\" font-size=\"14.00\">value = [108, 44]</text>\n",
       "<text text-anchor=\"start\" x=\"344\" y=\"-587.8\" font-family=\"Helvetica,sans-Serif\" font-size=\"14.00\">class = No</text>\n",
       "</g>\n",
       "<!-- 0&#45;&gt;1 -->\n",
       "<g id=\"edge1\" class=\"edge\">\n",
       "<title>0&#45;&gt;1</title>\n",
       "<path fill=\"none\" stroke=\"black\" d=\"M420.41,-698.91C415.34,-690.2 409.94,-680.9 404.71,-671.89\"/>\n",
       "<polygon fill=\"black\" stroke=\"black\" points=\"407.6,-669.91 399.55,-663.02 401.55,-673.43 407.6,-669.91\"/>\n",
       "<text text-anchor=\"middle\" x=\"393.15\" y=\"-683.49\" font-family=\"Helvetica,sans-Serif\" font-size=\"14.00\">True</text>\n",
       "</g>\n",
       "<!-- 16 -->\n",
       "<g id=\"node17\" class=\"node\">\n",
       "<title>16</title>\n",
       "<path fill=\"#51a9e8\" stroke=\"black\" d=\"M559,-663C559,-663 465,-663 465,-663 459,-663 453,-657 453,-651 453,-651 453,-592 453,-592 453,-586 459,-580 465,-580 465,-580 559,-580 559,-580 565,-580 571,-586 571,-592 571,-592 571,-651 571,-651 571,-657 565,-663 559,-663\"/>\n",
       "<text text-anchor=\"start\" x=\"461\" y=\"-647.8\" font-family=\"Helvetica,sans-Serif\" font-size=\"14.00\">Distance ≤ 8.047</text>\n",
       "<text text-anchor=\"start\" x=\"476.5\" y=\"-632.8\" font-family=\"Helvetica,sans-Serif\" font-size=\"14.00\">gini = 0.193</text>\n",
       "<text text-anchor=\"start\" x=\"467\" y=\"-617.8\" font-family=\"Helvetica,sans-Serif\" font-size=\"14.00\">samples = 203</text>\n",
       "<text text-anchor=\"start\" x=\"461.5\" y=\"-602.8\" font-family=\"Helvetica,sans-Serif\" font-size=\"14.00\">value = [22, 181]</text>\n",
       "<text text-anchor=\"start\" x=\"477\" y=\"-587.8\" font-family=\"Helvetica,sans-Serif\" font-size=\"14.00\">class = Yes</text>\n",
       "</g>\n",
       "<!-- 0&#45;&gt;16 -->\n",
       "<g id=\"edge16\" class=\"edge\">\n",
       "<title>0&#45;&gt;16</title>\n",
       "<path fill=\"none\" stroke=\"black\" d=\"M467.59,-698.91C472.66,-690.2 478.06,-680.9 483.29,-671.89\"/>\n",
       "<polygon fill=\"black\" stroke=\"black\" points=\"486.45,-673.43 488.45,-663.02 480.4,-669.91 486.45,-673.43\"/>\n",
       "<text text-anchor=\"middle\" x=\"494.85\" y=\"-683.49\" font-family=\"Helvetica,sans-Serif\" font-size=\"14.00\">False</text>\n",
       "</g>\n",
       "<!-- 2 -->\n",
       "<g id=\"node3\" class=\"node\">\n",
       "<title>2</title>\n",
       "<path fill=\"#6cb6ec\" stroke=\"black\" d=\"M297.5,-544C297.5,-544 156.5,-544 156.5,-544 150.5,-544 144.5,-538 144.5,-532 144.5,-532 144.5,-473 144.5,-473 144.5,-467 150.5,-461 156.5,-461 156.5,-461 297.5,-461 297.5,-461 303.5,-461 309.5,-467 309.5,-473 309.5,-473 309.5,-532 309.5,-532 309.5,-538 303.5,-544 297.5,-544\"/>\n",
       "<text text-anchor=\"start\" x=\"152.5\" y=\"-528.8\" font-family=\"Helvetica,sans-Serif\" font-size=\"14.00\">spent_last_month ≤ 24.5</text>\n",
       "<text text-anchor=\"start\" x=\"191.5\" y=\"-513.8\" font-family=\"Helvetica,sans-Serif\" font-size=\"14.00\">gini = 0.324</text>\n",
       "<text text-anchor=\"start\" x=\"186\" y=\"-498.8\" font-family=\"Helvetica,sans-Serif\" font-size=\"14.00\">samples = 54</text>\n",
       "<text text-anchor=\"start\" x=\"180\" y=\"-483.8\" font-family=\"Helvetica,sans-Serif\" font-size=\"14.00\">value = [11, 43]</text>\n",
       "<text text-anchor=\"start\" x=\"192\" y=\"-468.8\" font-family=\"Helvetica,sans-Serif\" font-size=\"14.00\">class = Yes</text>\n",
       "</g>\n",
       "<!-- 1&#45;&gt;2 -->\n",
       "<g id=\"edge2\" class=\"edge\">\n",
       "<title>1&#45;&gt;2</title>\n",
       "<path fill=\"none\" stroke=\"black\" d=\"M324.31,-579.91C312.17,-570.38 299.14,-560.15 286.69,-550.37\"/>\n",
       "<polygon fill=\"black\" stroke=\"black\" points=\"288.63,-547.44 278.6,-544.02 284.31,-552.95 288.63,-547.44\"/>\n",
       "</g>\n",
       "<!-- 11 -->\n",
       "<g id=\"node12\" class=\"node\">\n",
       "<title>11</title>\n",
       "<path fill=\"#e5823b\" stroke=\"black\" d=\"M418.5,-544C418.5,-544 339.5,-544 339.5,-544 333.5,-544 327.5,-538 327.5,-532 327.5,-532 327.5,-473 327.5,-473 327.5,-467 333.5,-461 339.5,-461 339.5,-461 418.5,-461 418.5,-461 424.5,-461 430.5,-467 430.5,-473 430.5,-473 430.5,-532 430.5,-532 430.5,-538 424.5,-544 418.5,-544\"/>\n",
       "<text text-anchor=\"start\" x=\"335.5\" y=\"-528.8\" font-family=\"Helvetica,sans-Serif\" font-size=\"14.00\">Distance ≤ 4.0</text>\n",
       "<text text-anchor=\"start\" x=\"347\" y=\"-513.8\" font-family=\"Helvetica,sans-Serif\" font-size=\"14.00\">gini = 0.02</text>\n",
       "<text text-anchor=\"start\" x=\"338\" y=\"-498.8\" font-family=\"Helvetica,sans-Serif\" font-size=\"14.00\">samples = 98</text>\n",
       "<text text-anchor=\"start\" x=\"336\" y=\"-483.8\" font-family=\"Helvetica,sans-Serif\" font-size=\"14.00\">value = [97, 1]</text>\n",
       "<text text-anchor=\"start\" x=\"347\" y=\"-468.8\" font-family=\"Helvetica,sans-Serif\" font-size=\"14.00\">class = No</text>\n",
       "</g>\n",
       "<!-- 1&#45;&gt;11 -->\n",
       "<g id=\"edge11\" class=\"edge\">\n",
       "<title>1&#45;&gt;11</title>\n",
       "<path fill=\"none\" stroke=\"black\" d=\"M377.04,-579.91C377.25,-571.56 377.48,-562.67 377.7,-554.02\"/>\n",
       "<polygon fill=\"black\" stroke=\"black\" points=\"381.2,-554.11 377.96,-544.02 374.21,-553.93 381.2,-554.11\"/>\n",
       "</g>\n",
       "<!-- 3 -->\n",
       "<g id=\"node4\" class=\"node\">\n",
       "<title>3</title>\n",
       "<path fill=\"#e58139\" stroke=\"black\" d=\"M155.5,-417.5C155.5,-417.5 84.5,-417.5 84.5,-417.5 78.5,-417.5 72.5,-411.5 72.5,-405.5 72.5,-405.5 72.5,-361.5 72.5,-361.5 72.5,-355.5 78.5,-349.5 84.5,-349.5 84.5,-349.5 155.5,-349.5 155.5,-349.5 161.5,-349.5 167.5,-355.5 167.5,-361.5 167.5,-361.5 167.5,-405.5 167.5,-405.5 167.5,-411.5 161.5,-417.5 155.5,-417.5\"/>\n",
       "<text text-anchor=\"start\" x=\"92\" y=\"-402.3\" font-family=\"Helvetica,sans-Serif\" font-size=\"14.00\">gini = 0.0</text>\n",
       "<text text-anchor=\"start\" x=\"82.5\" y=\"-387.3\" font-family=\"Helvetica,sans-Serif\" font-size=\"14.00\">samples = 8</text>\n",
       "<text text-anchor=\"start\" x=\"80.5\" y=\"-372.3\" font-family=\"Helvetica,sans-Serif\" font-size=\"14.00\">value = [8, 0]</text>\n",
       "<text text-anchor=\"start\" x=\"88\" y=\"-357.3\" font-family=\"Helvetica,sans-Serif\" font-size=\"14.00\">class = No</text>\n",
       "</g>\n",
       "<!-- 2&#45;&gt;3 -->\n",
       "<g id=\"edge3\" class=\"edge\">\n",
       "<title>2&#45;&gt;3</title>\n",
       "<path fill=\"none\" stroke=\"black\" d=\"M189.88,-460.91C179.28,-449.32 167.74,-436.7 157.14,-425.11\"/>\n",
       "<polygon fill=\"black\" stroke=\"black\" points=\"159.66,-422.68 150.33,-417.67 154.5,-427.41 159.66,-422.68\"/>\n",
       "</g>\n",
       "<!-- 4 -->\n",
       "<g id=\"node5\" class=\"node\">\n",
       "<title>4</title>\n",
       "<path fill=\"#47a4e7\" stroke=\"black\" d=\"M276,-425C276,-425 198,-425 198,-425 192,-425 186,-419 186,-413 186,-413 186,-354 186,-354 186,-348 192,-342 198,-342 198,-342 276,-342 276,-342 282,-342 288,-348 288,-354 288,-354 288,-413 288,-413 288,-419 282,-425 276,-425\"/>\n",
       "<text text-anchor=\"start\" x=\"204\" y=\"-409.8\" font-family=\"Helvetica,sans-Serif\" font-size=\"14.00\">Age ≤ 57.5</text>\n",
       "<text text-anchor=\"start\" x=\"201.5\" y=\"-394.8\" font-family=\"Helvetica,sans-Serif\" font-size=\"14.00\">gini = 0.122</text>\n",
       "<text text-anchor=\"start\" x=\"196\" y=\"-379.8\" font-family=\"Helvetica,sans-Serif\" font-size=\"14.00\">samples = 46</text>\n",
       "<text text-anchor=\"start\" x=\"194\" y=\"-364.8\" font-family=\"Helvetica,sans-Serif\" font-size=\"14.00\">value = [3, 43]</text>\n",
       "<text text-anchor=\"start\" x=\"202\" y=\"-349.8\" font-family=\"Helvetica,sans-Serif\" font-size=\"14.00\">class = Yes</text>\n",
       "</g>\n",
       "<!-- 2&#45;&gt;4 -->\n",
       "<g id=\"edge4\" class=\"edge\">\n",
       "<title>2&#45;&gt;4</title>\n",
       "<path fill=\"none\" stroke=\"black\" d=\"M230.47,-460.91C231.18,-452.56 231.94,-443.67 232.68,-435.02\"/>\n",
       "<polygon fill=\"black\" stroke=\"black\" points=\"236.17,-435.28 233.54,-425.02 229.2,-434.69 236.17,-435.28\"/>\n",
       "</g>\n",
       "<!-- 5 -->\n",
       "<g id=\"node6\" class=\"node\">\n",
       "<title>5</title>\n",
       "<path fill=\"#3e9fe6\" stroke=\"black\" d=\"M162,-306C162,-306 68,-306 68,-306 62,-306 56,-300 56,-294 56,-294 56,-235 56,-235 56,-229 62,-223 68,-223 68,-223 162,-223 162,-223 168,-223 174,-229 174,-235 174,-235 174,-294 174,-294 174,-300 168,-306 162,-306\"/>\n",
       "<text text-anchor=\"start\" x=\"64\" y=\"-290.8\" font-family=\"Helvetica,sans-Serif\" font-size=\"14.00\">Distance ≤ 3.298</text>\n",
       "<text text-anchor=\"start\" x=\"79.5\" y=\"-275.8\" font-family=\"Helvetica,sans-Serif\" font-size=\"14.00\">gini = 0.044</text>\n",
       "<text text-anchor=\"start\" x=\"74\" y=\"-260.8\" font-family=\"Helvetica,sans-Serif\" font-size=\"14.00\">samples = 44</text>\n",
       "<text text-anchor=\"start\" x=\"72\" y=\"-245.8\" font-family=\"Helvetica,sans-Serif\" font-size=\"14.00\">value = [1, 43]</text>\n",
       "<text text-anchor=\"start\" x=\"80\" y=\"-230.8\" font-family=\"Helvetica,sans-Serif\" font-size=\"14.00\">class = Yes</text>\n",
       "</g>\n",
       "<!-- 4&#45;&gt;5 -->\n",
       "<g id=\"edge5\" class=\"edge\">\n",
       "<title>4&#45;&gt;5</title>\n",
       "<path fill=\"none\" stroke=\"black\" d=\"M194.67,-341.91C185.02,-332.65 174.68,-322.73 164.75,-313.21\"/>\n",
       "<polygon fill=\"black\" stroke=\"black\" points=\"166.89,-310.42 157.25,-306.02 162.05,-315.47 166.89,-310.42\"/>\n",
       "</g>\n",
       "<!-- 10 -->\n",
       "<g id=\"node11\" class=\"node\">\n",
       "<title>10</title>\n",
       "<path fill=\"#e58139\" stroke=\"black\" d=\"M275.5,-298.5C275.5,-298.5 204.5,-298.5 204.5,-298.5 198.5,-298.5 192.5,-292.5 192.5,-286.5 192.5,-286.5 192.5,-242.5 192.5,-242.5 192.5,-236.5 198.5,-230.5 204.5,-230.5 204.5,-230.5 275.5,-230.5 275.5,-230.5 281.5,-230.5 287.5,-236.5 287.5,-242.5 287.5,-242.5 287.5,-286.5 287.5,-286.5 287.5,-292.5 281.5,-298.5 275.5,-298.5\"/>\n",
       "<text text-anchor=\"start\" x=\"212\" y=\"-283.3\" font-family=\"Helvetica,sans-Serif\" font-size=\"14.00\">gini = 0.0</text>\n",
       "<text text-anchor=\"start\" x=\"202.5\" y=\"-268.3\" font-family=\"Helvetica,sans-Serif\" font-size=\"14.00\">samples = 2</text>\n",
       "<text text-anchor=\"start\" x=\"200.5\" y=\"-253.3\" font-family=\"Helvetica,sans-Serif\" font-size=\"14.00\">value = [2, 0]</text>\n",
       "<text text-anchor=\"start\" x=\"208\" y=\"-238.3\" font-family=\"Helvetica,sans-Serif\" font-size=\"14.00\">class = No</text>\n",
       "</g>\n",
       "<!-- 4&#45;&gt;10 -->\n",
       "<g id=\"edge10\" class=\"edge\">\n",
       "<title>4&#45;&gt;10</title>\n",
       "<path fill=\"none\" stroke=\"black\" d=\"M238.04,-341.91C238.32,-331.2 238.61,-319.62 238.89,-308.78\"/>\n",
       "<polygon fill=\"black\" stroke=\"black\" points=\"242.39,-308.75 239.15,-298.67 235.39,-308.57 242.39,-308.75\"/>\n",
       "</g>\n",
       "<!-- 6 -->\n",
       "<g id=\"node7\" class=\"node\">\n",
       "<title>6</title>\n",
       "<path fill=\"#399de5\" stroke=\"black\" d=\"M90,-179.5C90,-179.5 12,-179.5 12,-179.5 6,-179.5 0,-173.5 0,-167.5 0,-167.5 0,-123.5 0,-123.5 0,-117.5 6,-111.5 12,-111.5 12,-111.5 90,-111.5 90,-111.5 96,-111.5 102,-117.5 102,-123.5 102,-123.5 102,-167.5 102,-167.5 102,-173.5 96,-179.5 90,-179.5\"/>\n",
       "<text text-anchor=\"start\" x=\"23\" y=\"-164.3\" font-family=\"Helvetica,sans-Serif\" font-size=\"14.00\">gini = 0.0</text>\n",
       "<text text-anchor=\"start\" x=\"10\" y=\"-149.3\" font-family=\"Helvetica,sans-Serif\" font-size=\"14.00\">samples = 41</text>\n",
       "<text text-anchor=\"start\" x=\"8\" y=\"-134.3\" font-family=\"Helvetica,sans-Serif\" font-size=\"14.00\">value = [0, 41]</text>\n",
       "<text text-anchor=\"start\" x=\"16\" y=\"-119.3\" font-family=\"Helvetica,sans-Serif\" font-size=\"14.00\">class = Yes</text>\n",
       "</g>\n",
       "<!-- 5&#45;&gt;6 -->\n",
       "<g id=\"edge6\" class=\"edge\">\n",
       "<title>5&#45;&gt;6</title>\n",
       "<path fill=\"none\" stroke=\"black\" d=\"M92.8,-222.91C86.76,-211.87 80.21,-199.9 74.12,-188.77\"/>\n",
       "<polygon fill=\"black\" stroke=\"black\" points=\"77.01,-186.76 69.14,-179.67 70.87,-190.12 77.01,-186.76\"/>\n",
       "</g>\n",
       "<!-- 7 -->\n",
       "<g id=\"node8\" class=\"node\">\n",
       "<title>7</title>\n",
       "<path fill=\"#9ccef2\" stroke=\"black\" d=\"M226,-187C226,-187 132,-187 132,-187 126,-187 120,-181 120,-175 120,-175 120,-116 120,-116 120,-110 126,-104 132,-104 132,-104 226,-104 226,-104 232,-104 238,-110 238,-116 238,-116 238,-175 238,-175 238,-181 232,-187 226,-187\"/>\n",
       "<text text-anchor=\"start\" x=\"128\" y=\"-171.8\" font-family=\"Helvetica,sans-Serif\" font-size=\"14.00\">Distance ≤ 3.628</text>\n",
       "<text text-anchor=\"start\" x=\"143.5\" y=\"-156.8\" font-family=\"Helvetica,sans-Serif\" font-size=\"14.00\">gini = 0.444</text>\n",
       "<text text-anchor=\"start\" x=\"141.5\" y=\"-141.8\" font-family=\"Helvetica,sans-Serif\" font-size=\"14.00\">samples = 3</text>\n",
       "<text text-anchor=\"start\" x=\"139.5\" y=\"-126.8\" font-family=\"Helvetica,sans-Serif\" font-size=\"14.00\">value = [1, 2]</text>\n",
       "<text text-anchor=\"start\" x=\"144\" y=\"-111.8\" font-family=\"Helvetica,sans-Serif\" font-size=\"14.00\">class = Yes</text>\n",
       "</g>\n",
       "<!-- 5&#45;&gt;7 -->\n",
       "<g id=\"edge7\" class=\"edge\">\n",
       "<title>5&#45;&gt;7</title>\n",
       "<path fill=\"none\" stroke=\"black\" d=\"M137.2,-222.91C141.97,-214.2 147.06,-204.9 151.98,-195.89\"/>\n",
       "<polygon fill=\"black\" stroke=\"black\" points=\"155.11,-197.47 156.83,-187.02 148.97,-194.11 155.11,-197.47\"/>\n",
       "</g>\n",
       "<!-- 8 -->\n",
       "<g id=\"node9\" class=\"node\">\n",
       "<title>8</title>\n",
       "<path fill=\"#e58139\" stroke=\"black\" d=\"M158.5,-68C158.5,-68 87.5,-68 87.5,-68 81.5,-68 75.5,-62 75.5,-56 75.5,-56 75.5,-12 75.5,-12 75.5,-6 81.5,0 87.5,0 87.5,0 158.5,0 158.5,0 164.5,0 170.5,-6 170.5,-12 170.5,-12 170.5,-56 170.5,-56 170.5,-62 164.5,-68 158.5,-68\"/>\n",
       "<text text-anchor=\"start\" x=\"95\" y=\"-52.8\" font-family=\"Helvetica,sans-Serif\" font-size=\"14.00\">gini = 0.0</text>\n",
       "<text text-anchor=\"start\" x=\"85.5\" y=\"-37.8\" font-family=\"Helvetica,sans-Serif\" font-size=\"14.00\">samples = 1</text>\n",
       "<text text-anchor=\"start\" x=\"83.5\" y=\"-22.8\" font-family=\"Helvetica,sans-Serif\" font-size=\"14.00\">value = [1, 0]</text>\n",
       "<text text-anchor=\"start\" x=\"91\" y=\"-7.8\" font-family=\"Helvetica,sans-Serif\" font-size=\"14.00\">class = No</text>\n",
       "</g>\n",
       "<!-- 7&#45;&gt;8 -->\n",
       "<g id=\"edge8\" class=\"edge\">\n",
       "<title>7&#45;&gt;8</title>\n",
       "<path fill=\"none\" stroke=\"black\" d=\"M158.15,-103.73C153.76,-95.15 149.13,-86.09 144.71,-77.46\"/>\n",
       "<polygon fill=\"black\" stroke=\"black\" points=\"147.7,-75.61 140.03,-68.3 141.47,-78.8 147.7,-75.61\"/>\n",
       "</g>\n",
       "<!-- 9 -->\n",
       "<g id=\"node10\" class=\"node\">\n",
       "<title>9</title>\n",
       "<path fill=\"#399de5\" stroke=\"black\" d=\"M271.5,-68C271.5,-68 200.5,-68 200.5,-68 194.5,-68 188.5,-62 188.5,-56 188.5,-56 188.5,-12 188.5,-12 188.5,-6 194.5,0 200.5,0 200.5,0 271.5,0 271.5,0 277.5,0 283.5,-6 283.5,-12 283.5,-12 283.5,-56 283.5,-56 283.5,-62 277.5,-68 271.5,-68\"/>\n",
       "<text text-anchor=\"start\" x=\"208\" y=\"-52.8\" font-family=\"Helvetica,sans-Serif\" font-size=\"14.00\">gini = 0.0</text>\n",
       "<text text-anchor=\"start\" x=\"198.5\" y=\"-37.8\" font-family=\"Helvetica,sans-Serif\" font-size=\"14.00\">samples = 2</text>\n",
       "<text text-anchor=\"start\" x=\"196.5\" y=\"-22.8\" font-family=\"Helvetica,sans-Serif\" font-size=\"14.00\">value = [0, 2]</text>\n",
       "<text text-anchor=\"start\" x=\"201\" y=\"-7.8\" font-family=\"Helvetica,sans-Serif\" font-size=\"14.00\">class = Yes</text>\n",
       "</g>\n",
       "<!-- 7&#45;&gt;9 -->\n",
       "<g id=\"edge9\" class=\"edge\">\n",
       "<title>7&#45;&gt;9</title>\n",
       "<path fill=\"none\" stroke=\"black\" d=\"M200.22,-103.73C204.74,-95.06 209.51,-85.9 214.04,-77.18\"/>\n",
       "<polygon fill=\"black\" stroke=\"black\" points=\"217.15,-78.79 218.67,-68.3 210.94,-75.55 217.15,-78.79\"/>\n",
       "</g>\n",
       "<!-- 12 -->\n",
       "<g id=\"node13\" class=\"node\">\n",
       "<title>12</title>\n",
       "<path fill=\"#f2c09c\" stroke=\"black\" d=\"M409.5,-425C409.5,-425 338.5,-425 338.5,-425 332.5,-425 326.5,-419 326.5,-413 326.5,-413 326.5,-354 326.5,-354 326.5,-348 332.5,-342 338.5,-342 338.5,-342 409.5,-342 409.5,-342 415.5,-342 421.5,-348 421.5,-354 421.5,-354 421.5,-413 421.5,-413 421.5,-419 415.5,-425 409.5,-425\"/>\n",
       "<text text-anchor=\"start\" x=\"341\" y=\"-409.8\" font-family=\"Helvetica,sans-Serif\" font-size=\"14.00\">Age ≤ 37.5</text>\n",
       "<text text-anchor=\"start\" x=\"338.5\" y=\"-394.8\" font-family=\"Helvetica,sans-Serif\" font-size=\"14.00\">gini = 0.444</text>\n",
       "<text text-anchor=\"start\" x=\"336.5\" y=\"-379.8\" font-family=\"Helvetica,sans-Serif\" font-size=\"14.00\">samples = 3</text>\n",
       "<text text-anchor=\"start\" x=\"334.5\" y=\"-364.8\" font-family=\"Helvetica,sans-Serif\" font-size=\"14.00\">value = [2, 1]</text>\n",
       "<text text-anchor=\"start\" x=\"342\" y=\"-349.8\" font-family=\"Helvetica,sans-Serif\" font-size=\"14.00\">class = No</text>\n",
       "</g>\n",
       "<!-- 11&#45;&gt;12 -->\n",
       "<g id=\"edge12\" class=\"edge\">\n",
       "<title>11&#45;&gt;12</title>\n",
       "<path fill=\"none\" stroke=\"black\" d=\"M377.27,-460.91C376.91,-452.56 376.53,-443.67 376.16,-435.02\"/>\n",
       "<polygon fill=\"black\" stroke=\"black\" points=\"379.66,-434.86 375.73,-425.02 372.66,-435.16 379.66,-434.86\"/>\n",
       "</g>\n",
       "<!-- 15 -->\n",
       "<g id=\"node16\" class=\"node\">\n",
       "<title>15</title>\n",
       "<path fill=\"#e58139\" stroke=\"black\" d=\"M530,-417.5C530,-417.5 452,-417.5 452,-417.5 446,-417.5 440,-411.5 440,-405.5 440,-405.5 440,-361.5 440,-361.5 440,-355.5 446,-349.5 452,-349.5 452,-349.5 530,-349.5 530,-349.5 536,-349.5 542,-355.5 542,-361.5 542,-361.5 542,-405.5 542,-405.5 542,-411.5 536,-417.5 530,-417.5\"/>\n",
       "<text text-anchor=\"start\" x=\"463\" y=\"-402.3\" font-family=\"Helvetica,sans-Serif\" font-size=\"14.00\">gini = 0.0</text>\n",
       "<text text-anchor=\"start\" x=\"450\" y=\"-387.3\" font-family=\"Helvetica,sans-Serif\" font-size=\"14.00\">samples = 95</text>\n",
       "<text text-anchor=\"start\" x=\"448\" y=\"-372.3\" font-family=\"Helvetica,sans-Serif\" font-size=\"14.00\">value = [95, 0]</text>\n",
       "<text text-anchor=\"start\" x=\"459\" y=\"-357.3\" font-family=\"Helvetica,sans-Serif\" font-size=\"14.00\">class = No</text>\n",
       "</g>\n",
       "<!-- 11&#45;&gt;15 -->\n",
       "<g id=\"edge15\" class=\"edge\">\n",
       "<title>11&#45;&gt;15</title>\n",
       "<path fill=\"none\" stroke=\"black\" d=\"M417.86,-460.91C428.95,-449.32 441.03,-436.7 452.12,-425.11\"/>\n",
       "<polygon fill=\"black\" stroke=\"black\" points=\"454.86,-427.31 459.25,-417.67 449.81,-422.47 454.86,-427.31\"/>\n",
       "</g>\n",
       "<!-- 13 -->\n",
       "<g id=\"node14\" class=\"node\">\n",
       "<title>13</title>\n",
       "<path fill=\"#399de5\" stroke=\"black\" d=\"M407.5,-298.5C407.5,-298.5 336.5,-298.5 336.5,-298.5 330.5,-298.5 324.5,-292.5 324.5,-286.5 324.5,-286.5 324.5,-242.5 324.5,-242.5 324.5,-236.5 330.5,-230.5 336.5,-230.5 336.5,-230.5 407.5,-230.5 407.5,-230.5 413.5,-230.5 419.5,-236.5 419.5,-242.5 419.5,-242.5 419.5,-286.5 419.5,-286.5 419.5,-292.5 413.5,-298.5 407.5,-298.5\"/>\n",
       "<text text-anchor=\"start\" x=\"344\" y=\"-283.3\" font-family=\"Helvetica,sans-Serif\" font-size=\"14.00\">gini = 0.0</text>\n",
       "<text text-anchor=\"start\" x=\"334.5\" y=\"-268.3\" font-family=\"Helvetica,sans-Serif\" font-size=\"14.00\">samples = 1</text>\n",
       "<text text-anchor=\"start\" x=\"332.5\" y=\"-253.3\" font-family=\"Helvetica,sans-Serif\" font-size=\"14.00\">value = [0, 1]</text>\n",
       "<text text-anchor=\"start\" x=\"337\" y=\"-238.3\" font-family=\"Helvetica,sans-Serif\" font-size=\"14.00\">class = Yes</text>\n",
       "</g>\n",
       "<!-- 12&#45;&gt;13 -->\n",
       "<g id=\"edge13\" class=\"edge\">\n",
       "<title>12&#45;&gt;13</title>\n",
       "<path fill=\"none\" stroke=\"black\" d=\"M373.31,-341.91C373.12,-331.2 372.93,-319.62 372.74,-308.78\"/>\n",
       "<polygon fill=\"black\" stroke=\"black\" points=\"376.24,-308.61 372.57,-298.67 369.24,-308.73 376.24,-308.61\"/>\n",
       "</g>\n",
       "<!-- 14 -->\n",
       "<g id=\"node15\" class=\"node\">\n",
       "<title>14</title>\n",
       "<path fill=\"#e58139\" stroke=\"black\" d=\"M520.5,-298.5C520.5,-298.5 449.5,-298.5 449.5,-298.5 443.5,-298.5 437.5,-292.5 437.5,-286.5 437.5,-286.5 437.5,-242.5 437.5,-242.5 437.5,-236.5 443.5,-230.5 449.5,-230.5 449.5,-230.5 520.5,-230.5 520.5,-230.5 526.5,-230.5 532.5,-236.5 532.5,-242.5 532.5,-242.5 532.5,-286.5 532.5,-286.5 532.5,-292.5 526.5,-298.5 520.5,-298.5\"/>\n",
       "<text text-anchor=\"start\" x=\"457\" y=\"-283.3\" font-family=\"Helvetica,sans-Serif\" font-size=\"14.00\">gini = 0.0</text>\n",
       "<text text-anchor=\"start\" x=\"447.5\" y=\"-268.3\" font-family=\"Helvetica,sans-Serif\" font-size=\"14.00\">samples = 2</text>\n",
       "<text text-anchor=\"start\" x=\"445.5\" y=\"-253.3\" font-family=\"Helvetica,sans-Serif\" font-size=\"14.00\">value = [2, 0]</text>\n",
       "<text text-anchor=\"start\" x=\"453\" y=\"-238.3\" font-family=\"Helvetica,sans-Serif\" font-size=\"14.00\">class = No</text>\n",
       "</g>\n",
       "<!-- 12&#45;&gt;14 -->\n",
       "<g id=\"edge14\" class=\"edge\">\n",
       "<title>12&#45;&gt;14</title>\n",
       "<path fill=\"none\" stroke=\"black\" d=\"M412.51,-341.91C423.5,-330.32 435.48,-317.7 446.47,-306.11\"/>\n",
       "<polygon fill=\"black\" stroke=\"black\" points=\"449.19,-308.33 453.53,-298.67 444.11,-303.51 449.19,-308.33\"/>\n",
       "</g>\n",
       "<!-- 17 -->\n",
       "<g id=\"node18\" class=\"node\">\n",
       "<title>17</title>\n",
       "<path fill=\"#399de5\" stroke=\"black\" d=\"M552,-536.5C552,-536.5 466,-536.5 466,-536.5 460,-536.5 454,-530.5 454,-524.5 454,-524.5 454,-480.5 454,-480.5 454,-474.5 460,-468.5 466,-468.5 466,-468.5 552,-468.5 552,-468.5 558,-468.5 564,-474.5 564,-480.5 564,-480.5 564,-524.5 564,-524.5 564,-530.5 558,-536.5 552,-536.5\"/>\n",
       "<text text-anchor=\"start\" x=\"481\" y=\"-521.3\" font-family=\"Helvetica,sans-Serif\" font-size=\"14.00\">gini = 0.0</text>\n",
       "<text text-anchor=\"start\" x=\"464\" y=\"-506.3\" font-family=\"Helvetica,sans-Serif\" font-size=\"14.00\">samples = 158</text>\n",
       "<text text-anchor=\"start\" x=\"462\" y=\"-491.3\" font-family=\"Helvetica,sans-Serif\" font-size=\"14.00\">value = [0, 158]</text>\n",
       "<text text-anchor=\"start\" x=\"474\" y=\"-476.3\" font-family=\"Helvetica,sans-Serif\" font-size=\"14.00\">class = Yes</text>\n",
       "</g>\n",
       "<!-- 16&#45;&gt;17 -->\n",
       "<g id=\"edge17\" class=\"edge\">\n",
       "<title>16&#45;&gt;17</title>\n",
       "<path fill=\"none\" stroke=\"black\" d=\"M510.96,-579.91C510.68,-569.2 510.39,-557.62 510.11,-546.78\"/>\n",
       "<polygon fill=\"black\" stroke=\"black\" points=\"513.61,-546.57 509.85,-536.67 506.61,-546.75 513.61,-546.57\"/>\n",
       "</g>\n",
       "<!-- 18 -->\n",
       "<g id=\"node19\" class=\"node\">\n",
       "<title>18</title>\n",
       "<path fill=\"#f6fbfe\" stroke=\"black\" d=\"M743.5,-544C743.5,-544 594.5,-544 594.5,-544 588.5,-544 582.5,-538 582.5,-532 582.5,-532 582.5,-473 582.5,-473 582.5,-467 588.5,-461 594.5,-461 594.5,-461 743.5,-461 743.5,-461 749.5,-461 755.5,-467 755.5,-473 755.5,-473 755.5,-532 755.5,-532 755.5,-538 749.5,-544 743.5,-544\"/>\n",
       "<text text-anchor=\"start\" x=\"590.5\" y=\"-528.8\" font-family=\"Helvetica,sans-Serif\" font-size=\"14.00\">spent_last_month ≤ 140.5</text>\n",
       "<text text-anchor=\"start\" x=\"641\" y=\"-513.8\" font-family=\"Helvetica,sans-Serif\" font-size=\"14.00\">gini = 0.5</text>\n",
       "<text text-anchor=\"start\" x=\"628\" y=\"-498.8\" font-family=\"Helvetica,sans-Serif\" font-size=\"14.00\">samples = 45</text>\n",
       "<text text-anchor=\"start\" x=\"622\" y=\"-483.8\" font-family=\"Helvetica,sans-Serif\" font-size=\"14.00\">value = [22, 23]</text>\n",
       "<text text-anchor=\"start\" x=\"634\" y=\"-468.8\" font-family=\"Helvetica,sans-Serif\" font-size=\"14.00\">class = Yes</text>\n",
       "</g>\n",
       "<!-- 16&#45;&gt;18 -->\n",
       "<g id=\"edge18\" class=\"edge\">\n",
       "<title>16&#45;&gt;18</title>\n",
       "<path fill=\"none\" stroke=\"black\" d=\"M566.47,-579.91C579.38,-570.29 593.25,-559.95 606.48,-550.09\"/>\n",
       "<polygon fill=\"black\" stroke=\"black\" points=\"608.7,-552.8 614.63,-544.02 604.52,-547.19 608.7,-552.8\"/>\n",
       "</g>\n",
       "<!-- 19 -->\n",
       "<g id=\"node20\" class=\"node\">\n",
       "<title>19</title>\n",
       "<path fill=\"#e58139\" stroke=\"black\" d=\"M679,-417.5C679,-417.5 601,-417.5 601,-417.5 595,-417.5 589,-411.5 589,-405.5 589,-405.5 589,-361.5 589,-361.5 589,-355.5 595,-349.5 601,-349.5 601,-349.5 679,-349.5 679,-349.5 685,-349.5 691,-355.5 691,-361.5 691,-361.5 691,-405.5 691,-405.5 691,-411.5 685,-417.5 679,-417.5\"/>\n",
       "<text text-anchor=\"start\" x=\"612\" y=\"-402.3\" font-family=\"Helvetica,sans-Serif\" font-size=\"14.00\">gini = 0.0</text>\n",
       "<text text-anchor=\"start\" x=\"599\" y=\"-387.3\" font-family=\"Helvetica,sans-Serif\" font-size=\"14.00\">samples = 22</text>\n",
       "<text text-anchor=\"start\" x=\"597\" y=\"-372.3\" font-family=\"Helvetica,sans-Serif\" font-size=\"14.00\">value = [22, 0]</text>\n",
       "<text text-anchor=\"start\" x=\"608\" y=\"-357.3\" font-family=\"Helvetica,sans-Serif\" font-size=\"14.00\">class = No</text>\n",
       "</g>\n",
       "<!-- 18&#45;&gt;19 -->\n",
       "<g id=\"edge19\" class=\"edge\">\n",
       "<title>18&#45;&gt;19</title>\n",
       "<path fill=\"none\" stroke=\"black\" d=\"M658.94,-460.91C656.26,-450.09 653.35,-438.38 650.64,-427.44\"/>\n",
       "<polygon fill=\"black\" stroke=\"black\" points=\"654.02,-426.53 648.22,-417.67 647.23,-428.22 654.02,-426.53\"/>\n",
       "</g>\n",
       "<!-- 20 -->\n",
       "<g id=\"node21\" class=\"node\">\n",
       "<title>20</title>\n",
       "<path fill=\"#399de5\" stroke=\"black\" d=\"M799,-417.5C799,-417.5 721,-417.5 721,-417.5 715,-417.5 709,-411.5 709,-405.5 709,-405.5 709,-361.5 709,-361.5 709,-355.5 715,-349.5 721,-349.5 721,-349.5 799,-349.5 799,-349.5 805,-349.5 811,-355.5 811,-361.5 811,-361.5 811,-405.5 811,-405.5 811,-411.5 805,-417.5 799,-417.5\"/>\n",
       "<text text-anchor=\"start\" x=\"732\" y=\"-402.3\" font-family=\"Helvetica,sans-Serif\" font-size=\"14.00\">gini = 0.0</text>\n",
       "<text text-anchor=\"start\" x=\"719\" y=\"-387.3\" font-family=\"Helvetica,sans-Serif\" font-size=\"14.00\">samples = 23</text>\n",
       "<text text-anchor=\"start\" x=\"717\" y=\"-372.3\" font-family=\"Helvetica,sans-Serif\" font-size=\"14.00\">value = [0, 23]</text>\n",
       "<text text-anchor=\"start\" x=\"725\" y=\"-357.3\" font-family=\"Helvetica,sans-Serif\" font-size=\"14.00\">class = Yes</text>\n",
       "</g>\n",
       "<!-- 18&#45;&gt;20 -->\n",
       "<g id=\"edge20\" class=\"edge\">\n",
       "<title>18&#45;&gt;20</title>\n",
       "<path fill=\"none\" stroke=\"black\" d=\"M700.57,-460.91C709.41,-449.54 719.03,-437.18 727.9,-425.77\"/>\n",
       "<polygon fill=\"black\" stroke=\"black\" points=\"730.83,-427.71 734.2,-417.67 725.3,-423.41 730.83,-427.71\"/>\n",
       "</g>\n",
       "</g>\n",
       "</svg>\n"
      ],
      "text/plain": [
       "<graphviz.sources.Source at 0x11d851d00>"
      ]
     },
     "execution_count": 33,
     "metadata": {},
     "output_type": "execute_result"
    }
   ],
   "source": [
    "# As before, but make the model name gini_model\n",
    "dot_data = tree.export_graphviz(gini_model, out_file =None,\n",
    "                                feature_names = gini_model.feature_names_in_,\n",
    "                                class_names = gini_model.classes_,\n",
    "                                filled = True, rounded = True,\n",
    "                                special_characters = True)\n",
    "\n",
    "graph = graphviz.Source(dot_data)\n",
    "graph\n",
    "\n",
    "# Alternatively for class_names use gini_model.classes_\n",
    "#_ _ _ "
   ]
  },
  {
   "cell_type": "code",
   "execution_count": 34,
   "metadata": {
    "colab": {},
    "colab_type": "code",
    "id": "T0RadBy0DuWp"
   },
   "outputs": [
    {
     "name": "stdout",
     "output_type": "stream",
     "text": [
      "Model Gini impurity model\n",
      "Accuracy: 0.9747899159663865\n",
      "Balanced accuracy: 0.9691994996873046\n",
      "Precision score 0.9746835443037974\n",
      "Recall score 0.9512195121951219\n"
     ]
    }
   ],
   "source": [
    "# Run this block for model evaluation\n",
    "print(\"Model Gini impurity model\")\n",
    "print(\"Accuracy:\", metrics.accuracy_score(y_test,y_pred))\n",
    "print(\"Balanced accuracy:\", metrics.balanced_accuracy_score(y_test,y_pred))\n",
    "print('Precision score' , metrics.precision_score(y_test,y_pred, pos_label = \"Yes\"))\n",
    "print('Recall score' , metrics.recall_score(y_test,y_pred, pos_label = \"No\"))"
   ]
  },
  {
   "cell_type": "markdown",
   "metadata": {
    "colab_type": "text",
    "id": "LR5LkC_yDuWs"
   },
   "source": [
    "How do the results here compare to the previous model? Write your judgements here: \n",
    "\n",
    "The classification tree model with Gini criterion seems to make perfect prediction with less branches. For this data set this is the better model."
   ]
  },
  {
   "cell_type": "markdown",
   "metadata": {
    "colab_type": "text",
    "id": "3PctBjTADuWs"
   },
   "source": [
    "## Model 3: Entropy model - max depth 3\n",
    "We're going to try to limit the depth of our decision tree, using entropy first.  \n",
    "\n",
    "As you know, we need to strike a balance with tree depth. \n",
    "\n",
    "Insufficiently deep, and we're not giving the tree the opportunity to spot the right patterns in the training data.\n",
    "\n",
    "Excessively deep, and we're probably going to make a tree that overfits to the training data, at the cost of very high error on the (hitherto unseen) test data. \n",
    "\n",
    "Sophisticated data scientists use methods like random search with cross-validation to systematically find a good depth for their tree. We'll start with picking 3, and see how that goes. "
   ]
  },
  {
   "cell_type": "code",
   "execution_count": 35,
   "metadata": {
    "colab": {},
    "colab_type": "code",
    "id": "cMiPjWClDuWt"
   },
   "outputs": [
    {
     "data": {
      "text/plain": [
       "DecisionTreeClassifier(criterion='entropy', max_depth=3)"
      ]
     },
     "execution_count": 35,
     "metadata": {},
     "output_type": "execute_result"
    }
   ],
   "source": [
    "# Made a model as before, but call it entr_model2, and make the max_depth parameter equal to 3. \n",
    "# Execute the fitting, predicting, and Series operations as before\n",
    "entr_model2 = tree.DecisionTreeClassifier(criterion = 'entropy', max_depth = 3)\n",
    "entr_model2 = entr_model2.fit(X_train, y_train)\n",
    "\n",
    "y_pred = entr_model2.predict(X_test)\n",
    "\n",
    "y_pred = pd.Series(y_pred)\n",
    "\n",
    "entr_model2"
   ]
  },
  {
   "cell_type": "code",
   "execution_count": 36,
   "metadata": {
    "colab": {},
    "colab_type": "code",
    "id": "IRuw72VMDuWv"
   },
   "outputs": [
    {
     "data": {
      "image/svg+xml": [
       "<?xml version=\"1.0\" encoding=\"UTF-8\" standalone=\"no\"?>\n",
       "<!DOCTYPE svg PUBLIC \"-//W3C//DTD SVG 1.1//EN\"\n",
       " \"http://www.w3.org/Graphics/SVG/1.1/DTD/svg11.dtd\">\n",
       "<!-- Generated by graphviz version 2.50.0 (0)\n",
       " -->\n",
       "<!-- Title: Tree Pages: 1 -->\n",
       "<svg width=\"521pt\" height=\"433pt\"\n",
       " viewBox=\"0.00 0.00 520.50 433.00\" xmlns=\"http://www.w3.org/2000/svg\" xmlns:xlink=\"http://www.w3.org/1999/xlink\">\n",
       "<g id=\"graph0\" class=\"graph\" transform=\"scale(1 1) rotate(0) translate(4 429)\">\n",
       "<title>Tree</title>\n",
       "<polygon fill=\"white\" stroke=\"transparent\" points=\"-4,4 -4,-429 516.5,-429 516.5,4 -4,4\"/>\n",
       "<!-- 0 -->\n",
       "<g id=\"node1\" class=\"node\">\n",
       "<title>0</title>\n",
       "<path fill=\"#abd6f4\" stroke=\"black\" d=\"M390.5,-425C390.5,-425 241.5,-425 241.5,-425 235.5,-425 229.5,-419 229.5,-413 229.5,-413 229.5,-354 229.5,-354 229.5,-348 235.5,-342 241.5,-342 241.5,-342 390.5,-342 390.5,-342 396.5,-342 402.5,-348 402.5,-354 402.5,-354 402.5,-413 402.5,-413 402.5,-419 396.5,-425 390.5,-425\"/>\n",
       "<text text-anchor=\"start\" x=\"237.5\" y=\"-409.8\" font-family=\"Helvetica,sans-Serif\" font-size=\"14.00\">spent_last_month ≤ 138.0</text>\n",
       "<text text-anchor=\"start\" x=\"268.5\" y=\"-394.8\" font-family=\"Helvetica,sans-Serif\" font-size=\"14.00\">entropy = 0.948</text>\n",
       "<text text-anchor=\"start\" x=\"271\" y=\"-379.8\" font-family=\"Helvetica,sans-Serif\" font-size=\"14.00\">samples = 355</text>\n",
       "<text text-anchor=\"start\" x=\"261.5\" y=\"-364.8\" font-family=\"Helvetica,sans-Serif\" font-size=\"14.00\">value = [130, 225]</text>\n",
       "<text text-anchor=\"start\" x=\"281\" y=\"-349.8\" font-family=\"Helvetica,sans-Serif\" font-size=\"14.00\">class = Yes</text>\n",
       "</g>\n",
       "<!-- 1 -->\n",
       "<g id=\"node2\" class=\"node\">\n",
       "<title>1</title>\n",
       "<path fill=\"#fae6d7\" stroke=\"black\" d=\"M298.5,-306C298.5,-306 197.5,-306 197.5,-306 191.5,-306 185.5,-300 185.5,-294 185.5,-294 185.5,-235 185.5,-235 185.5,-229 191.5,-223 197.5,-223 197.5,-223 298.5,-223 298.5,-223 304.5,-223 310.5,-229 310.5,-235 310.5,-235 310.5,-294 310.5,-294 310.5,-300 304.5,-306 298.5,-306\"/>\n",
       "<text text-anchor=\"start\" x=\"197\" y=\"-290.8\" font-family=\"Helvetica,sans-Serif\" font-size=\"14.00\">Distance ≤ 3.524</text>\n",
       "<text text-anchor=\"start\" x=\"200.5\" y=\"-275.8\" font-family=\"Helvetica,sans-Serif\" font-size=\"14.00\">entropy = 0.991</text>\n",
       "<text text-anchor=\"start\" x=\"203\" y=\"-260.8\" font-family=\"Helvetica,sans-Serif\" font-size=\"14.00\">samples = 234</text>\n",
       "<text text-anchor=\"start\" x=\"193.5\" y=\"-245.8\" font-family=\"Helvetica,sans-Serif\" font-size=\"14.00\">value = [130, 104]</text>\n",
       "<text text-anchor=\"start\" x=\"216\" y=\"-230.8\" font-family=\"Helvetica,sans-Serif\" font-size=\"14.00\">class = No</text>\n",
       "</g>\n",
       "<!-- 0&#45;&gt;1 -->\n",
       "<g id=\"edge1\" class=\"edge\">\n",
       "<title>0&#45;&gt;1</title>\n",
       "<path fill=\"none\" stroke=\"black\" d=\"M292.41,-341.91C287.34,-333.2 281.94,-323.9 276.71,-314.89\"/>\n",
       "<polygon fill=\"black\" stroke=\"black\" points=\"279.6,-312.91 271.55,-306.02 273.55,-316.43 279.6,-312.91\"/>\n",
       "<text text-anchor=\"middle\" x=\"265.15\" y=\"-326.49\" font-family=\"Helvetica,sans-Serif\" font-size=\"14.00\">True</text>\n",
       "</g>\n",
       "<!-- 8 -->\n",
       "<g id=\"node9\" class=\"node\">\n",
       "<title>8</title>\n",
       "<path fill=\"#399de5\" stroke=\"black\" d=\"M427,-298.5C427,-298.5 341,-298.5 341,-298.5 335,-298.5 329,-292.5 329,-286.5 329,-286.5 329,-242.5 329,-242.5 329,-236.5 335,-230.5 341,-230.5 341,-230.5 427,-230.5 427,-230.5 433,-230.5 439,-236.5 439,-242.5 439,-242.5 439,-286.5 439,-286.5 439,-292.5 433,-298.5 427,-298.5\"/>\n",
       "<text text-anchor=\"start\" x=\"344\" y=\"-283.3\" font-family=\"Helvetica,sans-Serif\" font-size=\"14.00\">entropy = 0.0</text>\n",
       "<text text-anchor=\"start\" x=\"339\" y=\"-268.3\" font-family=\"Helvetica,sans-Serif\" font-size=\"14.00\">samples = 121</text>\n",
       "<text text-anchor=\"start\" x=\"337\" y=\"-253.3\" font-family=\"Helvetica,sans-Serif\" font-size=\"14.00\">value = [0, 121]</text>\n",
       "<text text-anchor=\"start\" x=\"349\" y=\"-238.3\" font-family=\"Helvetica,sans-Serif\" font-size=\"14.00\">class = Yes</text>\n",
       "</g>\n",
       "<!-- 0&#45;&gt;8 -->\n",
       "<g id=\"edge8\" class=\"edge\">\n",
       "<title>0&#45;&gt;8</title>\n",
       "<path fill=\"none\" stroke=\"black\" d=\"M339.59,-341.91C346.07,-330.76 353.1,-318.66 359.63,-307.44\"/>\n",
       "<polygon fill=\"black\" stroke=\"black\" points=\"362.72,-309.07 364.72,-298.67 356.67,-305.55 362.72,-309.07\"/>\n",
       "<text text-anchor=\"middle\" x=\"371.12\" y=\"-319.13\" font-family=\"Helvetica,sans-Serif\" font-size=\"14.00\">False</text>\n",
       "</g>\n",
       "<!-- 2 -->\n",
       "<g id=\"node3\" class=\"node\">\n",
       "<title>2</title>\n",
       "<path fill=\"#52aae8\" stroke=\"black\" d=\"M225.5,-187C225.5,-187 84.5,-187 84.5,-187 78.5,-187 72.5,-181 72.5,-175 72.5,-175 72.5,-116 72.5,-116 72.5,-110 78.5,-104 84.5,-104 84.5,-104 225.5,-104 225.5,-104 231.5,-104 237.5,-110 237.5,-116 237.5,-116 237.5,-175 237.5,-175 237.5,-181 231.5,-187 225.5,-187\"/>\n",
       "<text text-anchor=\"start\" x=\"80.5\" y=\"-171.8\" font-family=\"Helvetica,sans-Serif\" font-size=\"14.00\">spent_last_month ≤ 24.5</text>\n",
       "<text text-anchor=\"start\" x=\"107.5\" y=\"-156.8\" font-family=\"Helvetica,sans-Serif\" font-size=\"14.00\">entropy = 0.512</text>\n",
       "<text text-anchor=\"start\" x=\"114\" y=\"-141.8\" font-family=\"Helvetica,sans-Serif\" font-size=\"14.00\">samples = 79</text>\n",
       "<text text-anchor=\"start\" x=\"112\" y=\"-126.8\" font-family=\"Helvetica,sans-Serif\" font-size=\"14.00\">value = [9, 70]</text>\n",
       "<text text-anchor=\"start\" x=\"120\" y=\"-111.8\" font-family=\"Helvetica,sans-Serif\" font-size=\"14.00\">class = Yes</text>\n",
       "</g>\n",
       "<!-- 1&#45;&gt;2 -->\n",
       "<g id=\"edge2\" class=\"edge\">\n",
       "<title>1&#45;&gt;2</title>\n",
       "<path fill=\"none\" stroke=\"black\" d=\"M215.73,-222.91C208.59,-213.92 200.96,-204.32 193.59,-195.05\"/>\n",
       "<polygon fill=\"black\" stroke=\"black\" points=\"196.17,-192.67 187.21,-187.02 190.69,-197.03 196.17,-192.67\"/>\n",
       "</g>\n",
       "<!-- 5 -->\n",
       "<g id=\"node6\" class=\"node\">\n",
       "<title>5</title>\n",
       "<path fill=\"#eca471\" stroke=\"black\" d=\"M416.5,-187C416.5,-187 267.5,-187 267.5,-187 261.5,-187 255.5,-181 255.5,-175 255.5,-175 255.5,-116 255.5,-116 255.5,-110 261.5,-104 267.5,-104 267.5,-104 416.5,-104 416.5,-104 422.5,-104 428.5,-110 428.5,-116 428.5,-116 428.5,-175 428.5,-175 428.5,-181 422.5,-187 416.5,-187\"/>\n",
       "<text text-anchor=\"start\" x=\"263.5\" y=\"-171.8\" font-family=\"Helvetica,sans-Serif\" font-size=\"14.00\">spent_last_month ≤ 101.0</text>\n",
       "<text text-anchor=\"start\" x=\"294.5\" y=\"-156.8\" font-family=\"Helvetica,sans-Serif\" font-size=\"14.00\">entropy = 0.759</text>\n",
       "<text text-anchor=\"start\" x=\"297\" y=\"-141.8\" font-family=\"Helvetica,sans-Serif\" font-size=\"14.00\">samples = 155</text>\n",
       "<text text-anchor=\"start\" x=\"291.5\" y=\"-126.8\" font-family=\"Helvetica,sans-Serif\" font-size=\"14.00\">value = [121, 34]</text>\n",
       "<text text-anchor=\"start\" x=\"310\" y=\"-111.8\" font-family=\"Helvetica,sans-Serif\" font-size=\"14.00\">class = No</text>\n",
       "</g>\n",
       "<!-- 1&#45;&gt;5 -->\n",
       "<g id=\"edge5\" class=\"edge\">\n",
       "<title>1&#45;&gt;5</title>\n",
       "<path fill=\"none\" stroke=\"black\" d=\"M280.61,-222.91C287.83,-213.92 295.55,-204.32 302.99,-195.05\"/>\n",
       "<polygon fill=\"black\" stroke=\"black\" points=\"305.91,-197.01 309.44,-187.02 300.45,-192.62 305.91,-197.01\"/>\n",
       "</g>\n",
       "<!-- 3 -->\n",
       "<g id=\"node4\" class=\"node\">\n",
       "<title>3</title>\n",
       "<path fill=\"#e58139\" stroke=\"black\" d=\"M84,-68C84,-68 12,-68 12,-68 6,-68 0,-62 0,-56 0,-56 0,-12 0,-12 0,-6 6,0 12,0 12,0 84,0 84,0 90,0 96,-6 96,-12 96,-12 96,-56 96,-56 96,-62 90,-68 84,-68\"/>\n",
       "<text text-anchor=\"start\" x=\"8\" y=\"-52.8\" font-family=\"Helvetica,sans-Serif\" font-size=\"14.00\">entropy = 0.0</text>\n",
       "<text text-anchor=\"start\" x=\"10.5\" y=\"-37.8\" font-family=\"Helvetica,sans-Serif\" font-size=\"14.00\">samples = 8</text>\n",
       "<text text-anchor=\"start\" x=\"8.5\" y=\"-22.8\" font-family=\"Helvetica,sans-Serif\" font-size=\"14.00\">value = [8, 0]</text>\n",
       "<text text-anchor=\"start\" x=\"16\" y=\"-7.8\" font-family=\"Helvetica,sans-Serif\" font-size=\"14.00\">class = No</text>\n",
       "</g>\n",
       "<!-- 2&#45;&gt;3 -->\n",
       "<g id=\"edge3\" class=\"edge\">\n",
       "<title>2&#45;&gt;3</title>\n",
       "<path fill=\"none\" stroke=\"black\" d=\"M115.16,-103.73C106.16,-94.51 96.6,-84.74 87.61,-75.53\"/>\n",
       "<polygon fill=\"black\" stroke=\"black\" points=\"90.03,-73.01 80.54,-68.3 85.03,-77.9 90.03,-73.01\"/>\n",
       "</g>\n",
       "<!-- 4 -->\n",
       "<g id=\"node5\" class=\"node\">\n",
       "<title>4</title>\n",
       "<path fill=\"#3c9ee5\" stroke=\"black\" d=\"M213.5,-68C213.5,-68 126.5,-68 126.5,-68 120.5,-68 114.5,-62 114.5,-56 114.5,-56 114.5,-12 114.5,-12 114.5,-6 120.5,0 126.5,0 126.5,0 213.5,0 213.5,0 219.5,0 225.5,-6 225.5,-12 225.5,-12 225.5,-56 225.5,-56 225.5,-62 219.5,-68 213.5,-68\"/>\n",
       "<text text-anchor=\"start\" x=\"122.5\" y=\"-52.8\" font-family=\"Helvetica,sans-Serif\" font-size=\"14.00\">entropy = 0.107</text>\n",
       "<text text-anchor=\"start\" x=\"129\" y=\"-37.8\" font-family=\"Helvetica,sans-Serif\" font-size=\"14.00\">samples = 71</text>\n",
       "<text text-anchor=\"start\" x=\"127\" y=\"-22.8\" font-family=\"Helvetica,sans-Serif\" font-size=\"14.00\">value = [1, 70]</text>\n",
       "<text text-anchor=\"start\" x=\"135\" y=\"-7.8\" font-family=\"Helvetica,sans-Serif\" font-size=\"14.00\">class = Yes</text>\n",
       "</g>\n",
       "<!-- 2&#45;&gt;4 -->\n",
       "<g id=\"edge4\" class=\"edge\">\n",
       "<title>2&#45;&gt;4</title>\n",
       "<path fill=\"none\" stroke=\"black\" d=\"M160.59,-103.73C161.72,-95.43 162.92,-86.67 164.07,-78.28\"/>\n",
       "<polygon fill=\"black\" stroke=\"black\" points=\"167.55,-78.68 165.44,-68.3 160.61,-77.73 167.55,-78.68\"/>\n",
       "</g>\n",
       "<!-- 6 -->\n",
       "<g id=\"node7\" class=\"node\">\n",
       "<title>6</title>\n",
       "<path fill=\"#e6853f\" stroke=\"black\" d=\"M371.5,-68C371.5,-68 284.5,-68 284.5,-68 278.5,-68 272.5,-62 272.5,-56 272.5,-56 272.5,-12 272.5,-12 272.5,-6 278.5,0 284.5,0 284.5,0 371.5,0 371.5,0 377.5,0 383.5,-6 383.5,-12 383.5,-12 383.5,-56 383.5,-56 383.5,-62 377.5,-68 371.5,-68\"/>\n",
       "<text text-anchor=\"start\" x=\"280.5\" y=\"-52.8\" font-family=\"Helvetica,sans-Serif\" font-size=\"14.00\">entropy = 0.191</text>\n",
       "<text text-anchor=\"start\" x=\"283\" y=\"-37.8\" font-family=\"Helvetica,sans-Serif\" font-size=\"14.00\">samples = 102</text>\n",
       "<text text-anchor=\"start\" x=\"285\" y=\"-22.8\" font-family=\"Helvetica,sans-Serif\" font-size=\"14.00\">value = [99, 3]</text>\n",
       "<text text-anchor=\"start\" x=\"296\" y=\"-7.8\" font-family=\"Helvetica,sans-Serif\" font-size=\"14.00\">class = No</text>\n",
       "</g>\n",
       "<!-- 5&#45;&gt;6 -->\n",
       "<g id=\"edge6\" class=\"edge\">\n",
       "<title>5&#45;&gt;6</title>\n",
       "<path fill=\"none\" stroke=\"black\" d=\"M336.79,-103.73C335.73,-95.43 334.61,-86.67 333.53,-78.28\"/>\n",
       "<polygon fill=\"black\" stroke=\"black\" points=\"337,-77.77 332.26,-68.3 330.05,-78.66 337,-77.77\"/>\n",
       "</g>\n",
       "<!-- 7 -->\n",
       "<g id=\"node8\" class=\"node\">\n",
       "<title>7</title>\n",
       "<path fill=\"#c6e3f7\" stroke=\"black\" d=\"M500.5,-68C500.5,-68 413.5,-68 413.5,-68 407.5,-68 401.5,-62 401.5,-56 401.5,-56 401.5,-12 401.5,-12 401.5,-6 407.5,0 413.5,0 413.5,0 500.5,0 500.5,0 506.5,0 512.5,-6 512.5,-12 512.5,-12 512.5,-56 512.5,-56 512.5,-62 506.5,-68 500.5,-68\"/>\n",
       "<text text-anchor=\"start\" x=\"409.5\" y=\"-52.8\" font-family=\"Helvetica,sans-Serif\" font-size=\"14.00\">entropy = 0.979</text>\n",
       "<text text-anchor=\"start\" x=\"416\" y=\"-37.8\" font-family=\"Helvetica,sans-Serif\" font-size=\"14.00\">samples = 53</text>\n",
       "<text text-anchor=\"start\" x=\"410\" y=\"-22.8\" font-family=\"Helvetica,sans-Serif\" font-size=\"14.00\">value = [22, 31]</text>\n",
       "<text text-anchor=\"start\" x=\"422\" y=\"-7.8\" font-family=\"Helvetica,sans-Serif\" font-size=\"14.00\">class = Yes</text>\n",
       "</g>\n",
       "<!-- 5&#45;&gt;7 -->\n",
       "<g id=\"edge7\" class=\"edge\">\n",
       "<title>5&#45;&gt;7</title>\n",
       "<path fill=\"none\" stroke=\"black\" d=\"M384.82,-103.73C394.59,-94.42 404.97,-84.54 414.72,-75.26\"/>\n",
       "<polygon fill=\"black\" stroke=\"black\" points=\"417.2,-77.73 422.03,-68.3 412.37,-72.66 417.2,-77.73\"/>\n",
       "</g>\n",
       "</g>\n",
       "</svg>\n"
      ],
      "text/plain": [
       "<graphviz.sources.Source at 0x11df17880>"
      ]
     },
     "execution_count": 36,
     "metadata": {},
     "output_type": "execute_result"
    }
   ],
   "source": [
    "# As before, we need to visualize the tree to grasp its nature\n",
    "dot_data = tree.export_graphviz(entr_model2, out_file =None,\n",
    "                                feature_names = entr_model2.feature_names_in_,\n",
    "                                class_names = entr_model2.classes_,\n",
    "                                filled = True, rounded = True,\n",
    "                                special_characters = True)\n",
    "\n",
    "graph = graphviz.Source(dot_data)\n",
    "graph\n",
    "\n",
    "# Alternatively for class_names use entr_model2.classes_\n",
    "#_ _ _"
   ]
  },
  {
   "cell_type": "code",
   "execution_count": 37,
   "metadata": {
    "colab": {},
    "colab_type": "code",
    "id": "29f4vmmMDuWy"
   },
   "outputs": [
    {
     "name": "stdout",
     "output_type": "stream",
     "text": [
      "Model Entropy model max depth 3\n",
      "Accuracy: 0.907563025210084\n",
      "Balanced accuracy: 0.8658536585365854\n",
      "Precision score for \"Yes\" 0.8764044943820225\n",
      "Recall score for \"No\" 0.7317073170731707\n"
     ]
    }
   ],
   "source": [
    "# Run this block for model evaluation \n",
    "print(\"Model Entropy model max depth 3\")\n",
    "print(\"Accuracy:\", metrics.accuracy_score(y_test,y_pred))\n",
    "print(\"Balanced accuracy:\", metrics.balanced_accuracy_score(y_test,y_pred))\n",
    "print('Precision score for \"Yes\"' , metrics.precision_score(y_test,y_pred, pos_label = \"Yes\"))\n",
    "print('Recall score for \"No\"' , metrics.recall_score(y_test,y_pred, pos_label = \"No\"))"
   ]
  },
  {
   "cell_type": "markdown",
   "metadata": {
    "colab_type": "text",
    "id": "AG7S2YgUDuW4"
   },
   "source": [
    "So our accuracy decreased, but is this certainly an inferior tree to the max depth original tree we did with Model 1? Write your conclusions here: \n",
    "\n",
    "The accuracy, precision and recalled scores are worse than the original model for this data set. But this is a more simple model, which reduces the chances of overfitting the model to the data set. There is a trade off between bias and variance. The max_depth 3 model has more bias but this might mean it has also has less variance and sensitivity to new data."
   ]
  },
  {
   "cell_type": "markdown",
   "metadata": {
    "colab_type": "text",
    "id": "FZTl4W3wDuW4"
   },
   "source": [
    "## Model 4: Gini impurity  model - max depth 3\n",
    "We're now going to try the same with the Gini impurity model. "
   ]
  },
  {
   "cell_type": "code",
   "execution_count": 38,
   "metadata": {
    "colab": {},
    "colab_type": "code",
    "id": "FJK1bkG3DuW5"
   },
   "outputs": [
    {
     "data": {
      "text/plain": [
       "DecisionTreeClassifier(max_depth=3, random_state=1234)"
      ]
     },
     "execution_count": 38,
     "metadata": {},
     "output_type": "execute_result"
    }
   ],
   "source": [
    "# As before, make a variable, but call it gini_model2, and ensure the max_depth parameter is set to 3\n",
    "gini_model2 = tree.DecisionTreeClassifier(criterion ='gini', \n",
    "                                          random_state = 1234, \n",
    "                                          max_depth  = 3)\n",
    "\n",
    "# Do the fit, predict, and series transformations as before. \n",
    "gini_model2 = gini_model2.fit(X_train, y_train)\n",
    "\n",
    "y_pred = gini_model2.predict(X_test)\n",
    "\n",
    "y_pred = pd.Series(y_pred)\n",
    "\n",
    "gini_model2"
   ]
  },
  {
   "cell_type": "code",
   "execution_count": 39,
   "metadata": {
    "colab": {},
    "colab_type": "code",
    "id": "_UIWhKZBDuW7"
   },
   "outputs": [
    {
     "data": {
      "image/svg+xml": [
       "<?xml version=\"1.0\" encoding=\"UTF-8\" standalone=\"no\"?>\n",
       "<!DOCTYPE svg PUBLIC \"-//W3C//DTD SVG 1.1//EN\"\n",
       " \"http://www.w3.org/Graphics/SVG/1.1/DTD/svg11.dtd\">\n",
       "<!-- Generated by graphviz version 2.50.0 (0)\n",
       " -->\n",
       "<!-- Title: Tree Pages: 1 -->\n",
       "<svg width=\"746pt\" height=\"433pt\"\n",
       " viewBox=\"0.00 0.00 745.50 433.00\" xmlns=\"http://www.w3.org/2000/svg\" xmlns:xlink=\"http://www.w3.org/1999/xlink\">\n",
       "<g id=\"graph0\" class=\"graph\" transform=\"scale(1 1) rotate(0) translate(4 429)\">\n",
       "<title>Tree</title>\n",
       "<polygon fill=\"white\" stroke=\"transparent\" points=\"-4,4 -4,-429 741.5,-429 741.5,4 -4,4\"/>\n",
       "<!-- 0 -->\n",
       "<g id=\"node1\" class=\"node\">\n",
       "<title>0</title>\n",
       "<path fill=\"#abd6f4\" stroke=\"black\" d=\"M447,-425C447,-425 298,-425 298,-425 292,-425 286,-419 286,-413 286,-413 286,-354 286,-354 286,-348 292,-342 298,-342 298,-342 447,-342 447,-342 453,-342 459,-348 459,-354 459,-354 459,-413 459,-413 459,-419 453,-425 447,-425\"/>\n",
       "<text text-anchor=\"start\" x=\"294\" y=\"-409.8\" font-family=\"Helvetica,sans-Serif\" font-size=\"14.00\">spent_last_month ≤ 100.5</text>\n",
       "<text text-anchor=\"start\" x=\"337\" y=\"-394.8\" font-family=\"Helvetica,sans-Serif\" font-size=\"14.00\">gini = 0.464</text>\n",
       "<text text-anchor=\"start\" x=\"327.5\" y=\"-379.8\" font-family=\"Helvetica,sans-Serif\" font-size=\"14.00\">samples = 355</text>\n",
       "<text text-anchor=\"start\" x=\"318\" y=\"-364.8\" font-family=\"Helvetica,sans-Serif\" font-size=\"14.00\">value = [130, 225]</text>\n",
       "<text text-anchor=\"start\" x=\"337.5\" y=\"-349.8\" font-family=\"Helvetica,sans-Serif\" font-size=\"14.00\">class = Yes</text>\n",
       "</g>\n",
       "<!-- 1 -->\n",
       "<g id=\"node2\" class=\"node\">\n",
       "<title>1</title>\n",
       "<path fill=\"#f0b48a\" stroke=\"black\" d=\"M351.5,-306C351.5,-306 257.5,-306 257.5,-306 251.5,-306 245.5,-300 245.5,-294 245.5,-294 245.5,-235 245.5,-235 245.5,-229 251.5,-223 257.5,-223 257.5,-223 351.5,-223 351.5,-223 357.5,-223 363.5,-229 363.5,-235 363.5,-235 363.5,-294 363.5,-294 363.5,-300 357.5,-306 351.5,-306\"/>\n",
       "<text text-anchor=\"start\" x=\"253.5\" y=\"-290.8\" font-family=\"Helvetica,sans-Serif\" font-size=\"14.00\">Distance ≤ 3.754</text>\n",
       "<text text-anchor=\"start\" x=\"269\" y=\"-275.8\" font-family=\"Helvetica,sans-Serif\" font-size=\"14.00\">gini = 0.411</text>\n",
       "<text text-anchor=\"start\" x=\"259.5\" y=\"-260.8\" font-family=\"Helvetica,sans-Serif\" font-size=\"14.00\">samples = 152</text>\n",
       "<text text-anchor=\"start\" x=\"254\" y=\"-245.8\" font-family=\"Helvetica,sans-Serif\" font-size=\"14.00\">value = [108, 44]</text>\n",
       "<text text-anchor=\"start\" x=\"272.5\" y=\"-230.8\" font-family=\"Helvetica,sans-Serif\" font-size=\"14.00\">class = No</text>\n",
       "</g>\n",
       "<!-- 0&#45;&gt;1 -->\n",
       "<g id=\"edge1\" class=\"edge\">\n",
       "<title>0&#45;&gt;1</title>\n",
       "<path fill=\"none\" stroke=\"black\" d=\"M348.91,-341.91C343.84,-333.2 338.44,-323.9 333.21,-314.89\"/>\n",
       "<polygon fill=\"black\" stroke=\"black\" points=\"336.1,-312.91 328.05,-306.02 330.05,-316.43 336.1,-312.91\"/>\n",
       "<text text-anchor=\"middle\" x=\"321.65\" y=\"-326.49\" font-family=\"Helvetica,sans-Serif\" font-size=\"14.00\">True</text>\n",
       "</g>\n",
       "<!-- 8 -->\n",
       "<g id=\"node9\" class=\"node\">\n",
       "<title>8</title>\n",
       "<path fill=\"#51a9e8\" stroke=\"black\" d=\"M487.5,-306C487.5,-306 393.5,-306 393.5,-306 387.5,-306 381.5,-300 381.5,-294 381.5,-294 381.5,-235 381.5,-235 381.5,-229 387.5,-223 393.5,-223 393.5,-223 487.5,-223 487.5,-223 493.5,-223 499.5,-229 499.5,-235 499.5,-235 499.5,-294 499.5,-294 499.5,-300 493.5,-306 487.5,-306\"/>\n",
       "<text text-anchor=\"start\" x=\"389.5\" y=\"-290.8\" font-family=\"Helvetica,sans-Serif\" font-size=\"14.00\">Distance ≤ 8.047</text>\n",
       "<text text-anchor=\"start\" x=\"405\" y=\"-275.8\" font-family=\"Helvetica,sans-Serif\" font-size=\"14.00\">gini = 0.193</text>\n",
       "<text text-anchor=\"start\" x=\"395.5\" y=\"-260.8\" font-family=\"Helvetica,sans-Serif\" font-size=\"14.00\">samples = 203</text>\n",
       "<text text-anchor=\"start\" x=\"390\" y=\"-245.8\" font-family=\"Helvetica,sans-Serif\" font-size=\"14.00\">value = [22, 181]</text>\n",
       "<text text-anchor=\"start\" x=\"405.5\" y=\"-230.8\" font-family=\"Helvetica,sans-Serif\" font-size=\"14.00\">class = Yes</text>\n",
       "</g>\n",
       "<!-- 0&#45;&gt;8 -->\n",
       "<g id=\"edge8\" class=\"edge\">\n",
       "<title>0&#45;&gt;8</title>\n",
       "<path fill=\"none\" stroke=\"black\" d=\"M396.09,-341.91C401.16,-333.2 406.56,-323.9 411.79,-314.89\"/>\n",
       "<polygon fill=\"black\" stroke=\"black\" points=\"414.95,-316.43 416.95,-306.02 408.9,-312.91 414.95,-316.43\"/>\n",
       "<text text-anchor=\"middle\" x=\"423.35\" y=\"-326.49\" font-family=\"Helvetica,sans-Serif\" font-size=\"14.00\">False</text>\n",
       "</g>\n",
       "<!-- 2 -->\n",
       "<g id=\"node3\" class=\"node\">\n",
       "<title>2</title>\n",
       "<path fill=\"#6cb6ec\" stroke=\"black\" d=\"M226,-187C226,-187 85,-187 85,-187 79,-187 73,-181 73,-175 73,-175 73,-116 73,-116 73,-110 79,-104 85,-104 85,-104 226,-104 226,-104 232,-104 238,-110 238,-116 238,-116 238,-175 238,-175 238,-181 232,-187 226,-187\"/>\n",
       "<text text-anchor=\"start\" x=\"81\" y=\"-171.8\" font-family=\"Helvetica,sans-Serif\" font-size=\"14.00\">spent_last_month ≤ 24.5</text>\n",
       "<text text-anchor=\"start\" x=\"120\" y=\"-156.8\" font-family=\"Helvetica,sans-Serif\" font-size=\"14.00\">gini = 0.324</text>\n",
       "<text text-anchor=\"start\" x=\"114.5\" y=\"-141.8\" font-family=\"Helvetica,sans-Serif\" font-size=\"14.00\">samples = 54</text>\n",
       "<text text-anchor=\"start\" x=\"108.5\" y=\"-126.8\" font-family=\"Helvetica,sans-Serif\" font-size=\"14.00\">value = [11, 43]</text>\n",
       "<text text-anchor=\"start\" x=\"120.5\" y=\"-111.8\" font-family=\"Helvetica,sans-Serif\" font-size=\"14.00\">class = Yes</text>\n",
       "</g>\n",
       "<!-- 1&#45;&gt;2 -->\n",
       "<g id=\"edge2\" class=\"edge\">\n",
       "<title>1&#45;&gt;2</title>\n",
       "<path fill=\"none\" stroke=\"black\" d=\"M252.81,-222.91C240.67,-213.38 227.64,-203.15 215.19,-193.37\"/>\n",
       "<polygon fill=\"black\" stroke=\"black\" points=\"217.13,-190.44 207.1,-187.02 212.81,-195.95 217.13,-190.44\"/>\n",
       "</g>\n",
       "<!-- 5 -->\n",
       "<g id=\"node6\" class=\"node\">\n",
       "<title>5</title>\n",
       "<path fill=\"#e5823b\" stroke=\"black\" d=\"M347,-187C347,-187 268,-187 268,-187 262,-187 256,-181 256,-175 256,-175 256,-116 256,-116 256,-110 262,-104 268,-104 268,-104 347,-104 347,-104 353,-104 359,-110 359,-116 359,-116 359,-175 359,-175 359,-181 353,-187 347,-187\"/>\n",
       "<text text-anchor=\"start\" x=\"264\" y=\"-171.8\" font-family=\"Helvetica,sans-Serif\" font-size=\"14.00\">Distance ≤ 4.0</text>\n",
       "<text text-anchor=\"start\" x=\"275.5\" y=\"-156.8\" font-family=\"Helvetica,sans-Serif\" font-size=\"14.00\">gini = 0.02</text>\n",
       "<text text-anchor=\"start\" x=\"266.5\" y=\"-141.8\" font-family=\"Helvetica,sans-Serif\" font-size=\"14.00\">samples = 98</text>\n",
       "<text text-anchor=\"start\" x=\"264.5\" y=\"-126.8\" font-family=\"Helvetica,sans-Serif\" font-size=\"14.00\">value = [97, 1]</text>\n",
       "<text text-anchor=\"start\" x=\"275.5\" y=\"-111.8\" font-family=\"Helvetica,sans-Serif\" font-size=\"14.00\">class = No</text>\n",
       "</g>\n",
       "<!-- 1&#45;&gt;5 -->\n",
       "<g id=\"edge5\" class=\"edge\">\n",
       "<title>1&#45;&gt;5</title>\n",
       "<path fill=\"none\" stroke=\"black\" d=\"M305.54,-222.91C305.75,-214.56 305.98,-205.67 306.2,-197.02\"/>\n",
       "<polygon fill=\"black\" stroke=\"black\" points=\"309.7,-197.11 306.46,-187.02 302.71,-196.93 309.7,-197.11\"/>\n",
       "</g>\n",
       "<!-- 3 -->\n",
       "<g id=\"node4\" class=\"node\">\n",
       "<title>3</title>\n",
       "<path fill=\"#e58139\" stroke=\"black\" d=\"M83,-68C83,-68 12,-68 12,-68 6,-68 0,-62 0,-56 0,-56 0,-12 0,-12 0,-6 6,0 12,0 12,0 83,0 83,0 89,0 95,-6 95,-12 95,-12 95,-56 95,-56 95,-62 89,-68 83,-68\"/>\n",
       "<text text-anchor=\"start\" x=\"19.5\" y=\"-52.8\" font-family=\"Helvetica,sans-Serif\" font-size=\"14.00\">gini = 0.0</text>\n",
       "<text text-anchor=\"start\" x=\"10\" y=\"-37.8\" font-family=\"Helvetica,sans-Serif\" font-size=\"14.00\">samples = 8</text>\n",
       "<text text-anchor=\"start\" x=\"8\" y=\"-22.8\" font-family=\"Helvetica,sans-Serif\" font-size=\"14.00\">value = [8, 0]</text>\n",
       "<text text-anchor=\"start\" x=\"15.5\" y=\"-7.8\" font-family=\"Helvetica,sans-Serif\" font-size=\"14.00\">class = No</text>\n",
       "</g>\n",
       "<!-- 2&#45;&gt;3 -->\n",
       "<g id=\"edge3\" class=\"edge\">\n",
       "<title>2&#45;&gt;3</title>\n",
       "<path fill=\"none\" stroke=\"black\" d=\"M115.28,-103.73C106.2,-94.51 96.56,-84.74 87.48,-75.53\"/>\n",
       "<polygon fill=\"black\" stroke=\"black\" points=\"89.86,-72.96 80.34,-68.3 84.87,-77.88 89.86,-72.96\"/>\n",
       "</g>\n",
       "<!-- 4 -->\n",
       "<g id=\"node5\" class=\"node\">\n",
       "<title>4</title>\n",
       "<path fill=\"#47a4e7\" stroke=\"black\" d=\"M203.5,-68C203.5,-68 125.5,-68 125.5,-68 119.5,-68 113.5,-62 113.5,-56 113.5,-56 113.5,-12 113.5,-12 113.5,-6 119.5,0 125.5,0 125.5,0 203.5,0 203.5,0 209.5,0 215.5,-6 215.5,-12 215.5,-12 215.5,-56 215.5,-56 215.5,-62 209.5,-68 203.5,-68\"/>\n",
       "<text text-anchor=\"start\" x=\"129\" y=\"-52.8\" font-family=\"Helvetica,sans-Serif\" font-size=\"14.00\">gini = 0.122</text>\n",
       "<text text-anchor=\"start\" x=\"123.5\" y=\"-37.8\" font-family=\"Helvetica,sans-Serif\" font-size=\"14.00\">samples = 46</text>\n",
       "<text text-anchor=\"start\" x=\"121.5\" y=\"-22.8\" font-family=\"Helvetica,sans-Serif\" font-size=\"14.00\">value = [3, 43]</text>\n",
       "<text text-anchor=\"start\" x=\"129.5\" y=\"-7.8\" font-family=\"Helvetica,sans-Serif\" font-size=\"14.00\">class = Yes</text>\n",
       "</g>\n",
       "<!-- 2&#45;&gt;4 -->\n",
       "<g id=\"edge4\" class=\"edge\">\n",
       "<title>2&#45;&gt;4</title>\n",
       "<path fill=\"none\" stroke=\"black\" d=\"M158.85,-103.73C159.53,-95.43 160.25,-86.67 160.94,-78.28\"/>\n",
       "<polygon fill=\"black\" stroke=\"black\" points=\"164.43,-78.55 161.76,-68.3 157.46,-77.98 164.43,-78.55\"/>\n",
       "</g>\n",
       "<!-- 6 -->\n",
       "<g id=\"node7\" class=\"node\">\n",
       "<title>6</title>\n",
       "<path fill=\"#f2c09c\" stroke=\"black\" d=\"M334,-68C334,-68 263,-68 263,-68 257,-68 251,-62 251,-56 251,-56 251,-12 251,-12 251,-6 257,0 263,0 263,0 334,0 334,0 340,0 346,-6 346,-12 346,-12 346,-56 346,-56 346,-62 340,-68 334,-68\"/>\n",
       "<text text-anchor=\"start\" x=\"263\" y=\"-52.8\" font-family=\"Helvetica,sans-Serif\" font-size=\"14.00\">gini = 0.444</text>\n",
       "<text text-anchor=\"start\" x=\"261\" y=\"-37.8\" font-family=\"Helvetica,sans-Serif\" font-size=\"14.00\">samples = 3</text>\n",
       "<text text-anchor=\"start\" x=\"259\" y=\"-22.8\" font-family=\"Helvetica,sans-Serif\" font-size=\"14.00\">value = [2, 1]</text>\n",
       "<text text-anchor=\"start\" x=\"266.5\" y=\"-7.8\" font-family=\"Helvetica,sans-Serif\" font-size=\"14.00\">class = No</text>\n",
       "</g>\n",
       "<!-- 5&#45;&gt;6 -->\n",
       "<g id=\"edge6\" class=\"edge\">\n",
       "<title>5&#45;&gt;6</title>\n",
       "<path fill=\"none\" stroke=\"black\" d=\"M304.15,-103.73C303.47,-95.43 302.75,-86.67 302.06,-78.28\"/>\n",
       "<polygon fill=\"black\" stroke=\"black\" points=\"305.54,-77.98 301.24,-68.3 298.57,-78.55 305.54,-77.98\"/>\n",
       "</g>\n",
       "<!-- 7 -->\n",
       "<g id=\"node8\" class=\"node\">\n",
       "<title>7</title>\n",
       "<path fill=\"#e58139\" stroke=\"black\" d=\"M454.5,-68C454.5,-68 376.5,-68 376.5,-68 370.5,-68 364.5,-62 364.5,-56 364.5,-56 364.5,-12 364.5,-12 364.5,-6 370.5,0 376.5,0 376.5,0 454.5,0 454.5,0 460.5,0 466.5,-6 466.5,-12 466.5,-12 466.5,-56 466.5,-56 466.5,-62 460.5,-68 454.5,-68\"/>\n",
       "<text text-anchor=\"start\" x=\"387.5\" y=\"-52.8\" font-family=\"Helvetica,sans-Serif\" font-size=\"14.00\">gini = 0.0</text>\n",
       "<text text-anchor=\"start\" x=\"374.5\" y=\"-37.8\" font-family=\"Helvetica,sans-Serif\" font-size=\"14.00\">samples = 95</text>\n",
       "<text text-anchor=\"start\" x=\"372.5\" y=\"-22.8\" font-family=\"Helvetica,sans-Serif\" font-size=\"14.00\">value = [95, 0]</text>\n",
       "<text text-anchor=\"start\" x=\"383.5\" y=\"-7.8\" font-family=\"Helvetica,sans-Serif\" font-size=\"14.00\">class = No</text>\n",
       "</g>\n",
       "<!-- 5&#45;&gt;7 -->\n",
       "<g id=\"edge7\" class=\"edge\">\n",
       "<title>5&#45;&gt;7</title>\n",
       "<path fill=\"none\" stroke=\"black\" d=\"M347.72,-103.73C356.8,-94.51 366.44,-84.74 375.52,-75.53\"/>\n",
       "<polygon fill=\"black\" stroke=\"black\" points=\"378.13,-77.88 382.66,-68.3 373.14,-72.96 378.13,-77.88\"/>\n",
       "</g>\n",
       "<!-- 9 -->\n",
       "<g id=\"node10\" class=\"node\">\n",
       "<title>9</title>\n",
       "<path fill=\"#399de5\" stroke=\"black\" d=\"M480.5,-179.5C480.5,-179.5 394.5,-179.5 394.5,-179.5 388.5,-179.5 382.5,-173.5 382.5,-167.5 382.5,-167.5 382.5,-123.5 382.5,-123.5 382.5,-117.5 388.5,-111.5 394.5,-111.5 394.5,-111.5 480.5,-111.5 480.5,-111.5 486.5,-111.5 492.5,-117.5 492.5,-123.5 492.5,-123.5 492.5,-167.5 492.5,-167.5 492.5,-173.5 486.5,-179.5 480.5,-179.5\"/>\n",
       "<text text-anchor=\"start\" x=\"409.5\" y=\"-164.3\" font-family=\"Helvetica,sans-Serif\" font-size=\"14.00\">gini = 0.0</text>\n",
       "<text text-anchor=\"start\" x=\"392.5\" y=\"-149.3\" font-family=\"Helvetica,sans-Serif\" font-size=\"14.00\">samples = 158</text>\n",
       "<text text-anchor=\"start\" x=\"390.5\" y=\"-134.3\" font-family=\"Helvetica,sans-Serif\" font-size=\"14.00\">value = [0, 158]</text>\n",
       "<text text-anchor=\"start\" x=\"402.5\" y=\"-119.3\" font-family=\"Helvetica,sans-Serif\" font-size=\"14.00\">class = Yes</text>\n",
       "</g>\n",
       "<!-- 8&#45;&gt;9 -->\n",
       "<g id=\"edge9\" class=\"edge\">\n",
       "<title>8&#45;&gt;9</title>\n",
       "<path fill=\"none\" stroke=\"black\" d=\"M439.46,-222.91C439.18,-212.2 438.89,-200.62 438.61,-189.78\"/>\n",
       "<polygon fill=\"black\" stroke=\"black\" points=\"442.11,-189.57 438.35,-179.67 435.11,-189.75 442.11,-189.57\"/>\n",
       "</g>\n",
       "<!-- 10 -->\n",
       "<g id=\"node11\" class=\"node\">\n",
       "<title>10</title>\n",
       "<path fill=\"#f6fbfe\" stroke=\"black\" d=\"M672,-187C672,-187 523,-187 523,-187 517,-187 511,-181 511,-175 511,-175 511,-116 511,-116 511,-110 517,-104 523,-104 523,-104 672,-104 672,-104 678,-104 684,-110 684,-116 684,-116 684,-175 684,-175 684,-181 678,-187 672,-187\"/>\n",
       "<text text-anchor=\"start\" x=\"519\" y=\"-171.8\" font-family=\"Helvetica,sans-Serif\" font-size=\"14.00\">spent_last_month ≤ 140.5</text>\n",
       "<text text-anchor=\"start\" x=\"569.5\" y=\"-156.8\" font-family=\"Helvetica,sans-Serif\" font-size=\"14.00\">gini = 0.5</text>\n",
       "<text text-anchor=\"start\" x=\"556.5\" y=\"-141.8\" font-family=\"Helvetica,sans-Serif\" font-size=\"14.00\">samples = 45</text>\n",
       "<text text-anchor=\"start\" x=\"550.5\" y=\"-126.8\" font-family=\"Helvetica,sans-Serif\" font-size=\"14.00\">value = [22, 23]</text>\n",
       "<text text-anchor=\"start\" x=\"562.5\" y=\"-111.8\" font-family=\"Helvetica,sans-Serif\" font-size=\"14.00\">class = Yes</text>\n",
       "</g>\n",
       "<!-- 8&#45;&gt;10 -->\n",
       "<g id=\"edge10\" class=\"edge\">\n",
       "<title>8&#45;&gt;10</title>\n",
       "<path fill=\"none\" stroke=\"black\" d=\"M494.97,-222.91C507.88,-213.29 521.75,-202.95 534.98,-193.09\"/>\n",
       "<polygon fill=\"black\" stroke=\"black\" points=\"537.2,-195.8 543.13,-187.02 533.02,-190.19 537.2,-195.8\"/>\n",
       "</g>\n",
       "<!-- 11 -->\n",
       "<g id=\"node12\" class=\"node\">\n",
       "<title>11</title>\n",
       "<path fill=\"#e58139\" stroke=\"black\" d=\"M605.5,-68C605.5,-68 527.5,-68 527.5,-68 521.5,-68 515.5,-62 515.5,-56 515.5,-56 515.5,-12 515.5,-12 515.5,-6 521.5,0 527.5,0 527.5,0 605.5,0 605.5,0 611.5,0 617.5,-6 617.5,-12 617.5,-12 617.5,-56 617.5,-56 617.5,-62 611.5,-68 605.5,-68\"/>\n",
       "<text text-anchor=\"start\" x=\"538.5\" y=\"-52.8\" font-family=\"Helvetica,sans-Serif\" font-size=\"14.00\">gini = 0.0</text>\n",
       "<text text-anchor=\"start\" x=\"525.5\" y=\"-37.8\" font-family=\"Helvetica,sans-Serif\" font-size=\"14.00\">samples = 22</text>\n",
       "<text text-anchor=\"start\" x=\"523.5\" y=\"-22.8\" font-family=\"Helvetica,sans-Serif\" font-size=\"14.00\">value = [22, 0]</text>\n",
       "<text text-anchor=\"start\" x=\"534.5\" y=\"-7.8\" font-family=\"Helvetica,sans-Serif\" font-size=\"14.00\">class = No</text>\n",
       "</g>\n",
       "<!-- 10&#45;&gt;11 -->\n",
       "<g id=\"edge11\" class=\"edge\">\n",
       "<title>10&#45;&gt;11</title>\n",
       "<path fill=\"none\" stroke=\"black\" d=\"M585.96,-103.73C583.58,-95.34 581.07,-86.47 578.68,-78.01\"/>\n",
       "<polygon fill=\"black\" stroke=\"black\" points=\"582.02,-76.97 575.93,-68.3 575.28,-78.87 582.02,-76.97\"/>\n",
       "</g>\n",
       "<!-- 12 -->\n",
       "<g id=\"node13\" class=\"node\">\n",
       "<title>12</title>\n",
       "<path fill=\"#399de5\" stroke=\"black\" d=\"M725.5,-68C725.5,-68 647.5,-68 647.5,-68 641.5,-68 635.5,-62 635.5,-56 635.5,-56 635.5,-12 635.5,-12 635.5,-6 641.5,0 647.5,0 647.5,0 725.5,0 725.5,0 731.5,0 737.5,-6 737.5,-12 737.5,-12 737.5,-56 737.5,-56 737.5,-62 731.5,-68 725.5,-68\"/>\n",
       "<text text-anchor=\"start\" x=\"658.5\" y=\"-52.8\" font-family=\"Helvetica,sans-Serif\" font-size=\"14.00\">gini = 0.0</text>\n",
       "<text text-anchor=\"start\" x=\"645.5\" y=\"-37.8\" font-family=\"Helvetica,sans-Serif\" font-size=\"14.00\">samples = 23</text>\n",
       "<text text-anchor=\"start\" x=\"643.5\" y=\"-22.8\" font-family=\"Helvetica,sans-Serif\" font-size=\"14.00\">value = [0, 23]</text>\n",
       "<text text-anchor=\"start\" x=\"651.5\" y=\"-7.8\" font-family=\"Helvetica,sans-Serif\" font-size=\"14.00\">class = Yes</text>\n",
       "</g>\n",
       "<!-- 10&#45;&gt;12 -->\n",
       "<g id=\"edge12\" class=\"edge\">\n",
       "<title>10&#45;&gt;12</title>\n",
       "<path fill=\"none\" stroke=\"black\" d=\"M630.64,-103.73C637.98,-94.7 645.76,-85.12 653.11,-76.08\"/>\n",
       "<polygon fill=\"black\" stroke=\"black\" points=\"655.84,-78.27 659.43,-68.3 650.41,-73.85 655.84,-78.27\"/>\n",
       "</g>\n",
       "</g>\n",
       "</svg>\n"
      ],
      "text/plain": [
       "<graphviz.sources.Source at 0x11e2ccd30>"
      ]
     },
     "execution_count": 39,
     "metadata": {},
     "output_type": "execute_result"
    }
   ],
   "source": [
    "dot_data = tree.export_graphviz(gini_model2, out_file =None,\n",
    "                                feature_names = gini_model2.feature_names_in_,\n",
    "                                class_names = gini_model2.classes_,\n",
    "                                filled = True, rounded = True,\n",
    "                                special_characters = True)\n",
    "\n",
    "graph = graphviz.Source(dot_data)\n",
    "graph\n",
    "\n",
    "# Alternatively for class_names use gini_model2.classes_\n",
    "#_ _ _"
   ]
  },
  {
   "cell_type": "code",
   "execution_count": 40,
   "metadata": {
    "colab": {},
    "colab_type": "code",
    "id": "R4t7e9-GDuW9"
   },
   "outputs": [
    {
     "name": "stdout",
     "output_type": "stream",
     "text": [
      "Gini impurity  model - max depth 3\n",
      "Accuracy: 0.9747899159663865\n",
      "Balanced accuracy: 0.9691994996873046\n",
      "Precision score 0.9746835443037974\n",
      "Recall score 0.9512195121951219\n"
     ]
    }
   ],
   "source": [
    "print(\"Gini impurity  model - max depth 3\")\n",
    "print(\"Accuracy:\", metrics.accuracy_score(y_test,y_pred))\n",
    "print(\"Balanced accuracy:\", metrics.balanced_accuracy_score(y_test,y_pred))\n",
    "print('Precision score' , metrics.precision_score(y_test,y_pred, pos_label = \"Yes\"))\n",
    "print('Recall score' , metrics.recall_score(y_test,y_pred, pos_label = \"No\"))"
   ]
  },
  {
   "cell_type": "markdown",
   "metadata": {
    "colab_type": "text",
    "id": "UzGThBXSDuW-"
   },
   "source": [
    "Now this is an elegant tree. Its accuracy might not be the highest, but it's still the best model we've produced so far. Why is that? Write your answer here: \n",
    "\n",
    "This model retain all the prediction power of the original gini model but with less tranches (parcimonius model), therefore it is considered a better model. Also, since it is a simpler model you expect it to be less sensitive to new data set (less variance)"
   ]
  },
  {
   "cell_type": "markdown",
   "metadata": {
    "colab_type": "text",
    "id": "jS1niFlCDuW_"
   },
   "source": [
    "# 4. Evaluating and concluding\n",
    "## 4a. How many customers will buy Hidden Farm coffee? \n",
    "Let's first ascertain how many loyal customers claimed, in the survey, that they will purchase the Hidden Farm coffee. "
   ]
  },
  {
   "cell_type": "code",
   "execution_count": 41,
   "metadata": {
    "colab": {},
    "colab_type": "code",
    "id": "QPHXnHZvDuXC"
   },
   "outputs": [
    {
     "data": {
      "text/plain": [
       "Yes    303\n",
       "No     171\n",
       "Name: Decision, dtype: int64"
      ]
     },
     "execution_count": 41,
     "metadata": {},
     "output_type": "execute_result"
    }
   ],
   "source": [
    "# Call value_counts() on the 'Decision' column of the original coffeeData\n",
    "coffeeData.Decision.value_counts()"
   ]
  },
  {
   "cell_type": "markdown",
   "metadata": {
    "colab_type": "text",
    "id": "kw_5g_ZEDuXD"
   },
   "source": [
    "Let's now determine the number of people that, according to the model, will be willing to buy the Hidden Farm coffee. \n",
    "1. First we subset the Prediction dataset into `new_X` considering all the variables except `Decision` \n",
    "2. Use that dataset to predict a new variable called `potential_buyers`"
   ]
  },
  {
   "cell_type": "code",
   "execution_count": 42,
   "metadata": {},
   "outputs": [
    {
     "data": {
      "text/html": [
       "<div>\n",
       "<style scoped>\n",
       "    .dataframe tbody tr th:only-of-type {\n",
       "        vertical-align: middle;\n",
       "    }\n",
       "\n",
       "    .dataframe tbody tr th {\n",
       "        vertical-align: top;\n",
       "    }\n",
       "\n",
       "    .dataframe thead th {\n",
       "        text-align: right;\n",
       "    }\n",
       "</style>\n",
       "<table border=\"1\" class=\"dataframe\">\n",
       "  <thead>\n",
       "    <tr style=\"text-align: right;\">\n",
       "      <th></th>\n",
       "      <th>Age</th>\n",
       "      <th>Gender</th>\n",
       "      <th>num_coffeeBags_per_year</th>\n",
       "      <th>spent_last_week</th>\n",
       "      <th>spent_last_month</th>\n",
       "      <th>salary</th>\n",
       "      <th>Distance</th>\n",
       "      <th>Online</th>\n",
       "      <th>Decision</th>\n",
       "    </tr>\n",
       "  </thead>\n",
       "  <tbody>\n",
       "    <tr>\n",
       "      <th>1</th>\n",
       "      <td>24</td>\n",
       "      <td>Male</td>\n",
       "      <td>0</td>\n",
       "      <td>44</td>\n",
       "      <td>164</td>\n",
       "      <td>74035</td>\n",
       "      <td>0.520906</td>\n",
       "      <td>0</td>\n",
       "      <td>NaN</td>\n",
       "    </tr>\n",
       "    <tr>\n",
       "      <th>3</th>\n",
       "      <td>20</td>\n",
       "      <td>Male</td>\n",
       "      <td>0</td>\n",
       "      <td>30</td>\n",
       "      <td>107</td>\n",
       "      <td>13166</td>\n",
       "      <td>0.932098</td>\n",
       "      <td>1</td>\n",
       "      <td>NaN</td>\n",
       "    </tr>\n",
       "    <tr>\n",
       "      <th>7</th>\n",
       "      <td>24</td>\n",
       "      <td>Female</td>\n",
       "      <td>0</td>\n",
       "      <td>20</td>\n",
       "      <td>34</td>\n",
       "      <td>17425</td>\n",
       "      <td>1.193188</td>\n",
       "      <td>0</td>\n",
       "      <td>NaN</td>\n",
       "    </tr>\n",
       "    <tr>\n",
       "      <th>11</th>\n",
       "      <td>24</td>\n",
       "      <td>Female</td>\n",
       "      <td>0</td>\n",
       "      <td>40</td>\n",
       "      <td>153</td>\n",
       "      <td>84803</td>\n",
       "      <td>1.655096</td>\n",
       "      <td>1</td>\n",
       "      <td>NaN</td>\n",
       "    </tr>\n",
       "    <tr>\n",
       "      <th>12</th>\n",
       "      <td>21</td>\n",
       "      <td>Female</td>\n",
       "      <td>0</td>\n",
       "      <td>38</td>\n",
       "      <td>122</td>\n",
       "      <td>42338</td>\n",
       "      <td>1.714179</td>\n",
       "      <td>1</td>\n",
       "      <td>NaN</td>\n",
       "    </tr>\n",
       "  </tbody>\n",
       "</table>\n",
       "</div>"
      ],
      "text/plain": [
       "    Age  Gender  num_coffeeBags_per_year  spent_last_week  spent_last_month  \\\n",
       "1    24    Male                        0               44               164   \n",
       "3    20    Male                        0               30               107   \n",
       "7    24  Female                        0               20                34   \n",
       "11   24  Female                        0               40               153   \n",
       "12   21  Female                        0               38               122   \n",
       "\n",
       "    salary  Distance  Online Decision  \n",
       "1    74035  0.520906       0      NaN  \n",
       "3    13166  0.932098       1      NaN  \n",
       "7    17425  1.193188       0      NaN  \n",
       "11   84803  1.655096       1      NaN  \n",
       "12   42338  1.714179       1      NaN  "
      ]
     },
     "execution_count": 42,
     "metadata": {},
     "output_type": "execute_result"
    }
   ],
   "source": [
    "Prediction.head()"
   ]
  },
  {
   "cell_type": "code",
   "execution_count": 43,
   "metadata": {
    "colab": {},
    "colab_type": "code",
    "id": "mwypR8ymDuXE"
   },
   "outputs": [],
   "source": [
    "# Feature selection\n",
    "# Make a variable called feature_cols, and assign it a list containing all the column names except 'Decision'\n",
    "feature_cols =  X.columns\n",
    "\n",
    "# Make a variable called new_X, and assign it the subset of Prediction, containing just the feature_cols \n",
    "new_X = Prediction[feature_cols]"
   ]
  },
  {
   "cell_type": "code",
   "execution_count": 44,
   "metadata": {
    "colab": {},
    "colab_type": "code",
    "id": "0ajvbeRSDuXG"
   },
   "outputs": [],
   "source": [
    "# Call get_dummies() on the Pandas object pd, with new_X plugged in, to one-hot encode all features in the training set\n",
    "new_X = pd.get_dummies(new_X)\n",
    "\n",
    "# Make a variable called potential_buyers, and assign it the result of calling predict() on a model of your choice; \n",
    "# don't forget to pass new_X to predict()\n",
    "potential_buyers = gini_model2.predict(new_X) "
   ]
  },
  {
   "cell_type": "code",
   "execution_count": 45,
   "metadata": {
    "colab": {},
    "colab_type": "code",
    "id": "-MO_KWT9DuXI"
   },
   "outputs": [
    {
     "data": {
      "text/plain": [
       "(array(['No', 'Yes'], dtype=object), array([ 45, 183]))"
      ]
     },
     "execution_count": 45,
     "metadata": {},
     "output_type": "execute_result"
    }
   ],
   "source": [
    "# Let's get the numbers of YES's and NO's in the potential buyers \n",
    "# Call unique() on np, and pass potential_buyers and return_counts=True \n",
    "np.unique(potential_buyers, return_counts = True) "
   ]
  },
  {
   "cell_type": "markdown",
   "metadata": {
    "colab_type": "text",
    "id": "3CB7HbiTDuXJ"
   },
   "source": [
    "The total number of potential buyers is 303 + 183 = 486"
   ]
  },
  {
   "cell_type": "code",
   "execution_count": 46,
   "metadata": {
    "colab": {},
    "colab_type": "code",
    "id": "9EGFQcTuDuXK"
   },
   "outputs": [
    {
     "data": {
      "text/plain": [
       "702"
      ]
     },
     "execution_count": 46,
     "metadata": {},
     "output_type": "execute_result"
    }
   ],
   "source": [
    "# Print the total number of surveyed people \n",
    "len(coffeeData)"
   ]
  },
  {
   "cell_type": "code",
   "execution_count": 48,
   "metadata": {
    "colab": {},
    "colab_type": "code",
    "id": "22_KRMX4DuXM"
   },
   "outputs": [
    {
     "data": {
      "text/plain": [
       "0.6923076923076923"
      ]
     },
     "execution_count": 48,
     "metadata": {},
     "output_type": "execute_result"
    }
   ],
   "source": [
    "# Let's calculate the proportion of buyers\n",
    "(486/702)"
   ]
  },
  {
   "cell_type": "code",
   "execution_count": 49,
   "metadata": {
    "colab": {},
    "colab_type": "code",
    "id": "xLMCDMpmDuXO"
   },
   "outputs": [
    {
     "name": "stdout",
     "output_type": "stream",
     "text": [
      "Proportion of buyers is: 69.23%\n"
     ]
    }
   ],
   "source": [
    "# Print the percentage of people who want to buy the Hidden Farm coffee, by our model \n",
    "print(f'Proportion of buyers is: {np.round((486/702) * 100,2)}%')"
   ]
  },
  {
   "cell_type": "markdown",
   "metadata": {
    "colab_type": "text",
    "id": "9bRDyi6rDuXQ"
   },
   "source": [
    "## 4b. Decision\n",
    "Remember how you thought at the start: if more than 70% of the interviewed customers are likely to buy the Hidden Farm coffee, you will strike the deal with the local Hidden Farm farmers and sell the coffee. Otherwise, you won't strike the deal and the Hidden Farm coffee will remain in legends only. Well now's crunch time. Are you going to go ahead with that idea? If so, you won't be striking the deal with the Chinese farmers. \n",
    "\n",
    "They're called `decision trees`, aren't they? So where's the decision? What should you do? (Cue existential cat emoji). \n",
    "\n",
    "Ultimately, though, we can't write an algorithm to actually *make the business decision* for us. This is because such decisions depend on our values, what risks we are willing to take, the stakes of our decisions, and how important it us for us to *know* that we will succeed. What are you going to do with the models you've made? Are you going to risk everything, strike the deal with the *Hidden Farm* farmers, and sell the coffee? \n",
    "\n",
    "The philosopher of language Jason Stanley once wrote that the number of doubts our evidence has to rule out in order for us to know a given proposition depends on our stakes: the higher our stakes, the more doubts our evidence has to rule out, and therefore the harder it is for us to know things. We can end up paralyzed in predicaments; sometimes, we can act to better our situation only if we already know certain things, which we can only if our stakes were lower and we'd *already* bettered our situation. \n",
    "\n",
    "Data science and machine learning can't solve such problems. But what it can do is help us make great use of our data to help *inform* our decisions."
   ]
  },
  {
   "cell_type": "markdown",
   "metadata": {
    "colab_type": "text",
    "id": "crWWrpdox8i-"
   },
   "source": [
    "## 5. Random Forest\n",
    "You might have noticed an important fact about decision trees. Each time we run a given decision tree algorithm to make a prediction (such as whether customers will buy the Hidden Farm coffee) we will actually get a slightly different result. This might seem weird, but it has a simple explanation: machine learning algorithms are by definition ***stochastic***, in that their output is at least partly determined by randomness. \n",
    "\n",
    "To account for this variability and ensure that we get the most accurate prediction, we might want to actually make lots of decision trees, and get a value that captures the centre or average of the outputs of those trees. Luckily, there's a method for this, known as the ***Random Forest***. \n",
    "\n",
    "Essentially, Random Forest involves making lots of trees with similar properties, and then performing summary statistics on the outputs of those trees to reach that central value. Random forests are hugely powerful classifers, and they can improve predictive accuracy and control over-fitting. \n",
    "\n",
    "Why not try to inform your decision with random forest? You'll need to make use of the RandomForestClassifier function within the sklearn.ensemble module, found [here](https://scikit-learn.org/stable/modules/generated/sklearn.ensemble.RandomForestClassifier.html). "
   ]
  },
  {
   "cell_type": "markdown",
   "metadata": {
    "colab_type": "text",
    "id": "fI4fiVWq0IH9"
   },
   "source": [
    "### 5a. Import necessary modules"
   ]
  },
  {
   "cell_type": "code",
   "execution_count": 50,
   "metadata": {
    "colab": {},
    "colab_type": "code",
    "id": "vSRTnHnD0D-O"
   },
   "outputs": [],
   "source": [
    "from sklearn.ensemble import RandomForestClassifier\n",
    "from sklearn.datasets import make_classification"
   ]
  },
  {
   "cell_type": "markdown",
   "metadata": {
    "colab_type": "text",
    "id": "jKmFvvjb0WB9"
   },
   "source": [
    "### 5b. Model\n",
    "You'll use your X_train and y_train variables just as before.\n",
    "\n",
    "You'll then need to make a variable (call it firstRFModel) to store your new Random Forest model. You'll assign this variable the result of calling RandomForestClassifier().\n",
    "\n",
    "Then, just as before, you'll call fit() on that firstRFModel variable, and plug in X_train and y_train.\n",
    "\n",
    "Finally, you should make a variable called y_pred, and assign it the result of calling the predict() method on your new firstRFModel, with the X_test data passed to it. "
   ]
  },
  {
   "cell_type": "code",
   "execution_count": 51,
   "metadata": {
    "colab": {},
    "colab_type": "code",
    "id": "OQEeTiRG1aSm"
   },
   "outputs": [],
   "source": [
    "# Plug in appropriate max_depth and random_state parameters \n",
    "RFModel = RandomForestClassifier(max_depth = 3, random_state = 1234) \n",
    "\n",
    "# Model and fit\n",
    "RFModel = RFModel.fit(X_train, y_train)\n",
    "\n",
    "y_pred = RFModel.predict(X_test)\n",
    "y_pred = pd.Series(y_pred)"
   ]
  },
  {
   "cell_type": "code",
   "execution_count": 52,
   "metadata": {},
   "outputs": [
    {
     "name": "stdout",
     "output_type": "stream",
     "text": [
      "Random Forest  model - max depth 3\n",
      "Accuracy: 0.9411764705882353\n",
      "Balanced accuracy: 0.9204190118824265\n",
      "Precision score 0.927710843373494\n",
      "Recall score 0.8536585365853658\n"
     ]
    }
   ],
   "source": [
    "print(\"Random Forest  model - max depth 3\")\n",
    "print(\"Accuracy:\", metrics.accuracy_score(y_test,y_pred))\n",
    "print(\"Balanced accuracy:\", metrics.balanced_accuracy_score(y_test,y_pred))\n",
    "print('Precision score' , metrics.precision_score(y_test,y_pred, pos_label = \"Yes\"))\n",
    "print('Recall score' , metrics.recall_score(y_test,y_pred, pos_label = \"No\"))"
   ]
  },
  {
   "cell_type": "code",
   "execution_count": 53,
   "metadata": {},
   "outputs": [
    {
     "data": {
      "text/plain": [
       "(array(['No', 'Yes'], dtype=object), array([ 39, 189]))"
      ]
     },
     "execution_count": 53,
     "metadata": {},
     "output_type": "execute_result"
    }
   ],
   "source": [
    "RFModel_potential_buyer = RFModel.predict(new_X)\n",
    "np.unique(RFModel_potential_buyer, return_counts = True)"
   ]
  },
  {
   "cell_type": "code",
   "execution_count": 56,
   "metadata": {},
   "outputs": [
    {
     "name": "stdout",
     "output_type": "stream",
     "text": [
      "Proportion of buyers is: 70.09%\n"
     ]
    }
   ],
   "source": [
    "print(f'Proportion of buyers is: {np.round(((303+189)/702) * 100,2)}%')"
   ]
  },
  {
   "cell_type": "code",
   "execution_count": 57,
   "metadata": {},
   "outputs": [
    {
     "data": {
      "text/plain": [
       "228"
      ]
     },
     "execution_count": 57,
     "metadata": {},
     "output_type": "execute_result"
    }
   ],
   "source": [
    "len(new_X)"
   ]
  },
  {
   "cell_type": "markdown",
   "metadata": {
    "colab_type": "text",
    "id": "sCIt6pyn1zpb"
   },
   "source": [
    "### 5c. Revise conclusion\n",
    "\n",
    "Has your conclusion changed? Or is the result of executing random forest the same as your best model reached by a single decision tree? \n",
    "\n",
    "Every estimate has an error, the Random Forest model estimated a few more potential buyer than gini tree model. The difference between the proportion of potential buyers isn't very high, Random Forest identifyed 189 potential bueyrs while gini tree model classified 183. That is a classification difference of 6 persons. \n",
    "\n",
    "In this particular case it would be best to simply run a survey the people that didn't imput their intention at first, it is just 228 customers, so the survey won't be costly nor take to long. But when you can't collect new data the model estimate helps you make an informed decision but an estimate shouldn't be seen as a deterministic number. \n",
    "\n",
    "The Random Forest model predict the number of buyers to be 189, which is above the tresh hold level of 70% of clients. Therefore based on the result of this model the company should buy the new coffee. In addition, both Random Forest and Gini tree model classified a similar level of buyers, which at confidence to their estimate."
   ]
  }
 ],
 "metadata": {
  "colab": {
   "collapsed_sections": [],
   "name": "Springboard Decision Tree Specialty Coffee Case Study - Tier 3.ipynb",
   "provenance": []
  },
  "kernelspec": {
   "display_name": "Python 3 (ipykernel)",
   "language": "python",
   "name": "python3"
  },
  "language_info": {
   "codemirror_mode": {
    "name": "ipython",
    "version": 3
   },
   "file_extension": ".py",
   "mimetype": "text/x-python",
   "name": "python",
   "nbconvert_exporter": "python",
   "pygments_lexer": "ipython3",
   "version": "3.9.12"
  }
 },
 "nbformat": 4,
 "nbformat_minor": 4
}
